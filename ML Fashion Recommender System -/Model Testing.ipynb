{
 "cells": [
  {
   "cell_type": "markdown",
   "id": "848334ec",
   "metadata": {},
   "source": [
    "### Import Required Libraries"
   ]
  },
  {
   "cell_type": "code",
   "execution_count": 29,
   "id": "04108bbe",
   "metadata": {},
   "outputs": [],
   "source": [
    "import cv2\n",
    "import pickle\n",
    "import numpy as np\n",
    "from numpy.linalg import norm"
   ]
  },
  {
   "cell_type": "markdown",
   "id": "58a226bb",
   "metadata": {},
   "source": [
    "### Import Tensorflow  Libraries"
   ]
  },
  {
   "cell_type": "code",
   "execution_count": 30,
   "id": "b6828873",
   "metadata": {},
   "outputs": [],
   "source": [
    "import tensorflow \n",
    "from tensorflow.keras.preprocessing import image\n",
    "from tensorflow.keras.layers import GlobalMaxPooling2D\n",
    "from tensorflow.keras.applications.resnet import ResNet50 ,preprocess_input"
   ]
  },
  {
   "cell_type": "markdown",
   "id": "309dfbe7",
   "metadata": {},
   "source": [
    "### Import the pickle files of features of trained images ( 44000+) and file names of images"
   ]
  },
  {
   "cell_type": "code",
   "execution_count": 31,
   "id": "1fb3c01b",
   "metadata": {},
   "outputs": [],
   "source": [
    "feature_list = np.array(pickle.load(open(\"Features list.pkl\" ,\"rb\")))\n",
    "filenames = pickle.load(open(\"File names.pkl\" ,\"rb\"))"
   ]
  },
  {
   "cell_type": "markdown",
   "id": "3df8e967",
   "metadata": {},
   "source": [
    "### Build a model for sample images"
   ]
  },
  {
   "cell_type": "code",
   "execution_count": 32,
   "id": "57944fb7",
   "metadata": {},
   "outputs": [],
   "source": [
    "model = ResNet50(weights= \"imagenet\" , include_top = False , input_shape=(224,224,3))\n",
    "model.trainable = False\n"
   ]
  },
  {
   "cell_type": "code",
   "execution_count": 33,
   "id": "b57113a8",
   "metadata": {},
   "outputs": [],
   "source": [
    "model = tensorflow.keras.Sequential([\n",
    "    model,\n",
    "    GlobalMaxPooling2D()\n",
    "])"
   ]
  },
  {
   "cell_type": "markdown",
   "id": "1ca86ace",
   "metadata": {},
   "source": [
    "### Extract the features of sample images to compare with the Traine Images"
   ]
  },
  {
   "cell_type": "code",
   "execution_count": 34,
   "id": "8badd3b9",
   "metadata": {},
   "outputs": [],
   "source": [
    "#step 1 : Load the image\n",
    "        \n",
    "img = image.load_img(\"Samples/1565.jpg\" ,target_size=(224,224))\n",
    "        \n",
    "# step 2 : convert image in array \n",
    "    \n",
    "img_array = image.img_to_array(img)\n",
    "        \n",
    "# step 3 :since keras req batch\n",
    "    \n",
    "exp_img = np.expand_dims(img_array ,axis =0)\n",
    "        \n",
    "# step 4 : pre-processing , it is an improvement of the image data that suppresses unwilling distortions\n",
    "#  or enhances some image features important for further processing\n",
    "     \n",
    "prep_image = preprocess_input(exp_img)\n",
    "        \n",
    " # step 5 : predict the result\n",
    "      \n",
    "result = model.predict(prep_image).flatten()\n",
    "    \n",
    "# step 6 :  Normalized the result between 0 - 1\n",
    "\n",
    "norm_result = result / norm( result)\n",
    "        "
   ]
  },
  {
   "cell_type": "markdown",
   "id": "bc067657",
   "metadata": {},
   "source": [
    "### Train the Model using KNearest Neighbours"
   ]
  },
  {
   "cell_type": "code",
   "execution_count": 36,
   "id": "94c56b38",
   "metadata": {},
   "outputs": [],
   "source": [
    "from sklearn.neighbors import NearestNeighbors"
   ]
  },
  {
   "cell_type": "code",
   "execution_count": 39,
   "id": "8d467e12",
   "metadata": {},
   "outputs": [
    {
     "data": {
      "text/plain": [
       "NearestNeighbors(algorithm='brute', metric='euclidean')"
      ]
     },
     "execution_count": 39,
     "metadata": {},
     "output_type": "execute_result"
    }
   ],
   "source": [
    "neighbours = NearestNeighbors(n_neighbors=5 ,algorithm=\"brute\",metric=\"euclidean\")\n",
    "neighbours.fit(feature_list)"
   ]
  },
  {
   "cell_type": "markdown",
   "id": "2ed7362a",
   "metadata": {},
   "source": [
    "#### This functions helps to retrives the indices and distances between the samples and the Nearest Neighbours extracting from the feature list."
   ]
  },
  {
   "cell_type": "code",
   "execution_count": 40,
   "id": "e759475c",
   "metadata": {},
   "outputs": [],
   "source": [
    "distance , indices = neighbours.kneighbors([norm_result])"
   ]
  },
  {
   "cell_type": "markdown",
   "id": "3bc576d7",
   "metadata": {},
   "source": [
    "#### Print the indices and image names of 5 Nearest images"
   ]
  },
  {
   "cell_type": "code",
   "execution_count": 41,
   "id": "a4b270fe",
   "metadata": {},
   "outputs": [
    {
     "name": "stdout",
     "output_type": "stream",
     "text": [
      "[[ 4769  4712 21281 44084 29741]]\n"
     ]
    }
   ],
   "source": [
    "print(indices)"
   ]
  },
  {
   "cell_type": "code",
   "execution_count": 42,
   "id": "8f876c17",
   "metadata": {},
   "outputs": [
    {
     "name": "stdout",
     "output_type": "stream",
     "text": [
      "images\\1565.jpg\n",
      "images\\1559.jpg\n",
      "images\\35209.jpg\n",
      "images\\9575.jpg\n",
      "images\\4610.jpg\n"
     ]
    }
   ],
   "source": [
    "for file in indices[0]:\n",
    "    print(filenames[file])\n"
   ]
  },
  {
   "cell_type": "markdown",
   "id": "c596178a",
   "metadata": {},
   "source": [
    "#### Display the 5 Nearest images"
   ]
  },
  {
   "cell_type": "code",
   "execution_count": 50,
   "id": "2b0b9dce",
   "metadata": {},
   "outputs": [],
   "source": [
    "for file in indices[0][1:6]:\n",
    "    nearest_images = cv2.imread(filenames[file])\n",
    "    nearest_images =cv2.resize(nearest_images,(200,200))\n",
    "    cv2.imshow(\"output\",nearest_images)\n",
    "    cv2.waitKey(0)"
   ]
  },
  {
   "cell_type": "code",
   "execution_count": null,
   "id": "b45d2465",
   "metadata": {},
   "outputs": [],
   "source": [
    "print( \" Model Testing is sucessfully Complete!!!!!!!!!!!!!!!!!\")"
   ]
  }
 ],
 "metadata": {
  "kernelspec": {
   "display_name": "Python 3",
   "language": "python",
   "name": "python3"
  },
  "language_info": {
   "codemirror_mode": {
    "name": "ipython",
    "version": 3
   },
   "file_extension": ".py",
   "mimetype": "text/x-python",
   "name": "python",
   "nbconvert_exporter": "python",
   "pygments_lexer": "ipython3",
   "version": "3.8.8"
  }
 },
 "nbformat": 4,
 "nbformat_minor": 5
}
