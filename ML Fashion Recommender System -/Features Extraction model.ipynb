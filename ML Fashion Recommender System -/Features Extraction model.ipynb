{
 "cells": [
  {
   "cell_type": "markdown",
   "id": "565922f3",
   "metadata": {},
   "source": [
    "### Import required Tensorflow libraries"
   ]
  },
  {
   "cell_type": "code",
   "execution_count": 1,
   "id": "edb927a0",
   "metadata": {},
   "outputs": [],
   "source": [
    "import tensorflow \n",
    "from tensorflow.keras.preprocessing import image\n",
    "from tensorflow.keras.layers import GlobalMaxPooling2D\n",
    "from tensorflow.keras.applications.resnet import ResNet50 ,preprocess_input"
   ]
  },
  {
   "cell_type": "markdown",
   "id": "da00f2de",
   "metadata": {},
   "source": [
    "### Build a Model"
   ]
  },
  {
   "cell_type": "code",
   "execution_count": 2,
   "id": "3ad9f753",
   "metadata": {},
   "outputs": [],
   "source": [
    "model = ResNet50(weights= \"imagenet\" , include_top = False , input_shape=(224,224,3))\n",
    "model.trainable = False\n"
   ]
  },
  {
   "cell_type": "markdown",
   "id": "93bf4c4e",
   "metadata": {},
   "source": [
    "### Training a Model "
   ]
  },
  {
   "cell_type": "code",
   "execution_count": 3,
   "id": "644c4811",
   "metadata": {},
   "outputs": [],
   "source": [
    "model = tensorflow.keras.Sequential([\n",
    "    model,\n",
    "    GlobalMaxPooling2D()\n",
    "])"
   ]
  },
  {
   "cell_type": "markdown",
   "id": "6f6a3ee8",
   "metadata": {},
   "source": [
    "### Training a Model on an images"
   ]
  },
  {
   "cell_type": "code",
   "execution_count": 4,
   "id": "25852ba8",
   "metadata": {},
   "outputs": [],
   "source": [
    "import numpy as np\n",
    "from numpy .linalg import norm"
   ]
  },
  {
   "cell_type": "markdown",
   "id": "12df4113",
   "metadata": {},
   "source": [
    "#### Develop / Build a function for images features extractions "
   ]
  },
  {
   "cell_type": "code",
   "execution_count": 5,
   "id": "60bb616d",
   "metadata": {},
   "outputs": [],
   "source": [
    "\n",
    "\n",
    "def extract_features(img_path , model):\n",
    "    \n",
    "     #step 1 : Load the image\n",
    "        \n",
    "         img = image.load_img(img_path ,target_size=(224,224))\n",
    "        \n",
    "    # step 2 : convert image in array \n",
    "    \n",
    "         img_array = image.img_to_array(img)\n",
    "        \n",
    "    # step 3 :since keras req batch\n",
    "    \n",
    "         exp_img = np.expand_dims(img_array ,axis =0)\n",
    "        \n",
    "    # step 4 : pre-processing , it is an improvement of the image data that suppresses unwilling distortions\n",
    "    #  or enhances some image features important for further processing\n",
    "     \n",
    "         prep_image = preprocess_input(exp_img)\n",
    "        \n",
    "    # step 5 : predict the result\n",
    "      \n",
    "         result = model.predict(prep_image).flatten()\n",
    "    \n",
    "    # step 6 :  Normalized the result between 0 - 1\n",
    "\n",
    "         norm_result = result / norm( result)\n",
    "        \n",
    "        \n",
    "         return norm_result \n",
    "        \n",
    "    "
   ]
  },
  {
   "cell_type": "markdown",
   "id": "fb8af6b9",
   "metadata": {},
   "source": [
    "###  Create python list to store all images filenames\n",
    "    "
   ]
  },
  {
   "cell_type": "code",
   "execution_count": 6,
   "id": "602a7489",
   "metadata": {},
   "outputs": [],
   "source": [
    "import os\n",
    "from tqdm import tqdm"
   ]
  },
  {
   "cell_type": "code",
   "execution_count": 7,
   "id": "31efb1b5",
   "metadata": {},
   "outputs": [],
   "source": [
    "filenames = []\n",
    "\n",
    "for file in os.listdir(\"images\"):\n",
    "    filenames.append(os.path.join (\"images\" ,file))\n",
    "\n",
    "\n"
   ]
  },
  {
   "cell_type": "markdown",
   "id": "844b2aec",
   "metadata": {},
   "source": [
    "### Create Python list  of list which can store all extracted features of an images"
   ]
  },
  {
   "cell_type": "code",
   "execution_count": 8,
   "id": "df780c98",
   "metadata": {},
   "outputs": [
    {
     "name": "stderr",
     "output_type": "stream",
     "text": [
      "100%|██████████████████████████████████████████████████████████████████████████| 44441/44441 [1:22:44<00:00,  8.95it/s]\n"
     ]
    },
    {
     "name": "stdout",
     "output_type": "stream",
     "text": [
      "(44441, 2048)\n"
     ]
    }
   ],
   "source": [
    "feature_list = []\n",
    "\n",
    "for file in tqdm(filenames):\n",
    "    feature_list.append(extract_features(file, model))\n",
    "    \n",
    "         \n",
    "print(np.array(feature_list).shape)        \n",
    "    \n"
   ]
  },
  {
   "cell_type": "markdown",
   "id": "4fb2294e",
   "metadata": {},
   "source": [
    "### Import pickle and export the file"
   ]
  },
  {
   "cell_type": "code",
   "execution_count": 9,
   "id": "25d9e912",
   "metadata": {},
   "outputs": [],
   "source": [
    "import pickle"
   ]
  },
  {
   "cell_type": "code",
   "execution_count": 10,
   "id": "a5475dda",
   "metadata": {},
   "outputs": [],
   "source": [
    "pickle.dump(feature_list,open(\"Features list.pkl\",\"wb\"))"
   ]
  },
  {
   "cell_type": "code",
   "execution_count": 11,
   "id": "d1caae14",
   "metadata": {},
   "outputs": [],
   "source": [
    "pickle.dump(filenames,open(\"File names.pkl\",\"wb\"))"
   ]
  },
  {
   "cell_type": "code",
   "execution_count": 13,
   "id": "c6b1b5e8",
   "metadata": {},
   "outputs": [
    {
     "name": "stdout",
     "output_type": "stream",
     "text": [
      " Feature Extraction is sucessfully Complete!!!!!!!!!!!!!!!!!\n"
     ]
    }
   ],
   "source": [
    "print( \" Feature Extraction is sucessfully Complete!!!!!!!!!!!!!!!!!\")"
   ]
  },
  {
   "cell_type": "code",
   "execution_count": null,
   "id": "764b480c",
   "metadata": {},
   "outputs": [],
   "source": []
  }
 ],
 "metadata": {
  "kernelspec": {
   "display_name": "Python 3",
   "language": "python",
   "name": "python3"
  },
  "language_info": {
   "codemirror_mode": {
    "name": "ipython",
    "version": 3
   },
   "file_extension": ".py",
   "mimetype": "text/x-python",
   "name": "python",
   "nbconvert_exporter": "python",
   "pygments_lexer": "ipython3",
   "version": "3.8.8"
  }
 },
 "nbformat": 4,
 "nbformat_minor": 5
}
