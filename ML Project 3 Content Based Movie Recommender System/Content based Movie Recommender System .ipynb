{
 "cells": [
  {
   "cell_type": "markdown",
   "id": "c76314fd",
   "metadata": {},
   "source": [
    "### Import Pandas library"
   ]
  },
  {
   "cell_type": "code",
   "execution_count": 1,
   "id": "ad8ec74f",
   "metadata": {},
   "outputs": [],
   "source": [
    "import pandas as pd\n"
   ]
  },
  {
   "cell_type": "markdown",
   "id": "7111a4f0",
   "metadata": {},
   "source": [
    "### Import credits and movies dataset"
   ]
  },
  {
   "cell_type": "code",
   "execution_count": 2,
   "id": "a7110a61",
   "metadata": {},
   "outputs": [
    {
     "name": "stdout",
     "output_type": "stream",
     "text": [
      " Datasets imported Successfully!!!!!!!!!!!\n"
     ]
    }
   ],
   "source": [
    "credits = pd.read_csv(\"credits.csv\")\n",
    "movies = pd.read_csv(\"movies.csv\")\n",
    "\n",
    "print(\" Datasets imported Successfully!!!!!!!!!!!\")"
   ]
  },
  {
   "cell_type": "markdown",
   "id": "1b82bbb2",
   "metadata": {},
   "source": [
    "### Credits dataset information"
   ]
  },
  {
   "cell_type": "code",
   "execution_count": 3,
   "id": "3e8ae0c2",
   "metadata": {},
   "outputs": [
    {
     "data": {
      "text/html": [
       "<div>\n",
       "<style scoped>\n",
       "    .dataframe tbody tr th:only-of-type {\n",
       "        vertical-align: middle;\n",
       "    }\n",
       "\n",
       "    .dataframe tbody tr th {\n",
       "        vertical-align: top;\n",
       "    }\n",
       "\n",
       "    .dataframe thead th {\n",
       "        text-align: right;\n",
       "    }\n",
       "</style>\n",
       "<table border=\"1\" class=\"dataframe\">\n",
       "  <thead>\n",
       "    <tr style=\"text-align: right;\">\n",
       "      <th></th>\n",
       "      <th>movie_id</th>\n",
       "      <th>title</th>\n",
       "      <th>cast</th>\n",
       "      <th>crew</th>\n",
       "    </tr>\n",
       "  </thead>\n",
       "  <tbody>\n",
       "    <tr>\n",
       "      <th>0</th>\n",
       "      <td>19995</td>\n",
       "      <td>Avatar</td>\n",
       "      <td>[{\"cast_id\": 242, \"character\": \"Jake Sully\", \"...</td>\n",
       "      <td>[{\"credit_id\": \"52fe48009251416c750aca23\", \"de...</td>\n",
       "    </tr>\n",
       "  </tbody>\n",
       "</table>\n",
       "</div>"
      ],
      "text/plain": [
       "   movie_id   title                                               cast  \\\n",
       "0     19995  Avatar  [{\"cast_id\": 242, \"character\": \"Jake Sully\", \"...   \n",
       "\n",
       "                                                crew  \n",
       "0  [{\"credit_id\": \"52fe48009251416c750aca23\", \"de...  "
      ]
     },
     "execution_count": 3,
     "metadata": {},
     "output_type": "execute_result"
    }
   ],
   "source": [
    "credits.head(1)"
   ]
  },
  {
   "cell_type": "code",
   "execution_count": 4,
   "id": "3b8d2698",
   "metadata": {},
   "outputs": [
    {
     "data": {
      "text/plain": [
       "(4803, 4)"
      ]
     },
     "execution_count": 4,
     "metadata": {},
     "output_type": "execute_result"
    }
   ],
   "source": [
    "credits.shape"
   ]
  },
  {
   "cell_type": "code",
   "execution_count": 5,
   "id": "64c67d56",
   "metadata": {},
   "outputs": [
    {
     "name": "stdout",
     "output_type": "stream",
     "text": [
      "<class 'pandas.core.frame.DataFrame'>\n",
      "RangeIndex: 4803 entries, 0 to 4802\n",
      "Data columns (total 4 columns):\n",
      " #   Column    Non-Null Count  Dtype \n",
      "---  ------    --------------  ----- \n",
      " 0   movie_id  4803 non-null   int64 \n",
      " 1   title     4803 non-null   object\n",
      " 2   cast      4803 non-null   object\n",
      " 3   crew      4803 non-null   object\n",
      "dtypes: int64(1), object(3)\n",
      "memory usage: 150.2+ KB\n"
     ]
    }
   ],
   "source": [
    "credits.info()"
   ]
  },
  {
   "cell_type": "code",
   "execution_count": 6,
   "id": "f6312bb3",
   "metadata": {},
   "outputs": [
    {
     "data": {
      "text/plain": [
       "movie_id    0\n",
       "title       0\n",
       "cast        0\n",
       "crew        0\n",
       "dtype: int64"
      ]
     },
     "execution_count": 6,
     "metadata": {},
     "output_type": "execute_result"
    }
   ],
   "source": [
    "credits.isnull().sum()"
   ]
  },
  {
   "cell_type": "code",
   "execution_count": 7,
   "id": "7a21e34d",
   "metadata": {},
   "outputs": [
    {
     "data": {
      "text/plain": [
       "0"
      ]
     },
     "execution_count": 7,
     "metadata": {},
     "output_type": "execute_result"
    }
   ],
   "source": [
    "credits.duplicated().sum()"
   ]
  },
  {
   "cell_type": "markdown",
   "id": "848ba60a",
   "metadata": {},
   "source": [
    "### Movies dataset information"
   ]
  },
  {
   "cell_type": "code",
   "execution_count": 8,
   "id": "0c7c602d",
   "metadata": {},
   "outputs": [
    {
     "data": {
      "text/html": [
       "<div>\n",
       "<style scoped>\n",
       "    .dataframe tbody tr th:only-of-type {\n",
       "        vertical-align: middle;\n",
       "    }\n",
       "\n",
       "    .dataframe tbody tr th {\n",
       "        vertical-align: top;\n",
       "    }\n",
       "\n",
       "    .dataframe thead th {\n",
       "        text-align: right;\n",
       "    }\n",
       "</style>\n",
       "<table border=\"1\" class=\"dataframe\">\n",
       "  <thead>\n",
       "    <tr style=\"text-align: right;\">\n",
       "      <th></th>\n",
       "      <th>budget</th>\n",
       "      <th>genres</th>\n",
       "      <th>homepage</th>\n",
       "      <th>id</th>\n",
       "      <th>keywords</th>\n",
       "      <th>original_language</th>\n",
       "      <th>original_title</th>\n",
       "      <th>overview</th>\n",
       "      <th>popularity</th>\n",
       "      <th>production_companies</th>\n",
       "      <th>production_countries</th>\n",
       "      <th>release_date</th>\n",
       "      <th>revenue</th>\n",
       "      <th>runtime</th>\n",
       "      <th>spoken_languages</th>\n",
       "      <th>status</th>\n",
       "      <th>tagline</th>\n",
       "      <th>title</th>\n",
       "      <th>vote_average</th>\n",
       "      <th>vote_count</th>\n",
       "    </tr>\n",
       "  </thead>\n",
       "  <tbody>\n",
       "    <tr>\n",
       "      <th>0</th>\n",
       "      <td>237000000</td>\n",
       "      <td>[{\"id\": 28, \"name\": \"Action\"}, {\"id\": 12, \"nam...</td>\n",
       "      <td>http://www.avatarmovie.com/</td>\n",
       "      <td>19995</td>\n",
       "      <td>[{\"id\": 1463, \"name\": \"culture clash\"}, {\"id\":...</td>\n",
       "      <td>en</td>\n",
       "      <td>Avatar</td>\n",
       "      <td>In the 22nd century, a paraplegic Marine is di...</td>\n",
       "      <td>150.437577</td>\n",
       "      <td>[{\"name\": \"Ingenious Film Partners\", \"id\": 289...</td>\n",
       "      <td>[{\"iso_3166_1\": \"US\", \"name\": \"United States o...</td>\n",
       "      <td>2009-12-10</td>\n",
       "      <td>2787965087</td>\n",
       "      <td>162.0</td>\n",
       "      <td>[{\"iso_639_1\": \"en\", \"name\": \"English\"}, {\"iso...</td>\n",
       "      <td>Released</td>\n",
       "      <td>Enter the World of Pandora.</td>\n",
       "      <td>Avatar</td>\n",
       "      <td>7.2</td>\n",
       "      <td>11800</td>\n",
       "    </tr>\n",
       "  </tbody>\n",
       "</table>\n",
       "</div>"
      ],
      "text/plain": [
       "      budget                                             genres  \\\n",
       "0  237000000  [{\"id\": 28, \"name\": \"Action\"}, {\"id\": 12, \"nam...   \n",
       "\n",
       "                      homepage     id  \\\n",
       "0  http://www.avatarmovie.com/  19995   \n",
       "\n",
       "                                            keywords original_language  \\\n",
       "0  [{\"id\": 1463, \"name\": \"culture clash\"}, {\"id\":...                en   \n",
       "\n",
       "  original_title                                           overview  \\\n",
       "0         Avatar  In the 22nd century, a paraplegic Marine is di...   \n",
       "\n",
       "   popularity                               production_companies  \\\n",
       "0  150.437577  [{\"name\": \"Ingenious Film Partners\", \"id\": 289...   \n",
       "\n",
       "                                production_countries release_date     revenue  \\\n",
       "0  [{\"iso_3166_1\": \"US\", \"name\": \"United States o...   2009-12-10  2787965087   \n",
       "\n",
       "   runtime                                   spoken_languages    status  \\\n",
       "0    162.0  [{\"iso_639_1\": \"en\", \"name\": \"English\"}, {\"iso...  Released   \n",
       "\n",
       "                       tagline   title  vote_average  vote_count  \n",
       "0  Enter the World of Pandora.  Avatar           7.2       11800  "
      ]
     },
     "execution_count": 8,
     "metadata": {},
     "output_type": "execute_result"
    }
   ],
   "source": [
    "movies.head(1)"
   ]
  },
  {
   "cell_type": "code",
   "execution_count": 9,
   "id": "9cc32adf",
   "metadata": {},
   "outputs": [
    {
     "data": {
      "text/plain": [
       "(4803, 20)"
      ]
     },
     "execution_count": 9,
     "metadata": {},
     "output_type": "execute_result"
    }
   ],
   "source": [
    "movies.shape"
   ]
  },
  {
   "cell_type": "code",
   "execution_count": 10,
   "id": "d285a04b",
   "metadata": {},
   "outputs": [
    {
     "name": "stdout",
     "output_type": "stream",
     "text": [
      "<class 'pandas.core.frame.DataFrame'>\n",
      "RangeIndex: 4803 entries, 0 to 4802\n",
      "Data columns (total 20 columns):\n",
      " #   Column                Non-Null Count  Dtype  \n",
      "---  ------                --------------  -----  \n",
      " 0   budget                4803 non-null   int64  \n",
      " 1   genres                4803 non-null   object \n",
      " 2   homepage              1712 non-null   object \n",
      " 3   id                    4803 non-null   int64  \n",
      " 4   keywords              4803 non-null   object \n",
      " 5   original_language     4803 non-null   object \n",
      " 6   original_title        4803 non-null   object \n",
      " 7   overview              4800 non-null   object \n",
      " 8   popularity            4803 non-null   float64\n",
      " 9   production_companies  4803 non-null   object \n",
      " 10  production_countries  4803 non-null   object \n",
      " 11  release_date          4802 non-null   object \n",
      " 12  revenue               4803 non-null   int64  \n",
      " 13  runtime               4801 non-null   float64\n",
      " 14  spoken_languages      4803 non-null   object \n",
      " 15  status                4803 non-null   object \n",
      " 16  tagline               3959 non-null   object \n",
      " 17  title                 4803 non-null   object \n",
      " 18  vote_average          4803 non-null   float64\n",
      " 19  vote_count            4803 non-null   int64  \n",
      "dtypes: float64(3), int64(4), object(13)\n",
      "memory usage: 750.6+ KB\n"
     ]
    }
   ],
   "source": [
    "movies.info()"
   ]
  },
  {
   "cell_type": "code",
   "execution_count": 11,
   "id": "be81db89",
   "metadata": {},
   "outputs": [
    {
     "data": {
      "text/plain": [
       "budget                     0\n",
       "genres                     0\n",
       "homepage                3091\n",
       "id                         0\n",
       "keywords                   0\n",
       "original_language          0\n",
       "original_title             0\n",
       "overview                   3\n",
       "popularity                 0\n",
       "production_companies       0\n",
       "production_countries       0\n",
       "release_date               1\n",
       "revenue                    0\n",
       "runtime                    2\n",
       "spoken_languages           0\n",
       "status                     0\n",
       "tagline                  844\n",
       "title                      0\n",
       "vote_average               0\n",
       "vote_count                 0\n",
       "dtype: int64"
      ]
     },
     "execution_count": 11,
     "metadata": {},
     "output_type": "execute_result"
    }
   ],
   "source": [
    "movies.isnull().sum()"
   ]
  },
  {
   "cell_type": "code",
   "execution_count": 12,
   "id": "c2b6eb79",
   "metadata": {},
   "outputs": [
    {
     "data": {
      "text/plain": [
       "0"
      ]
     },
     "execution_count": 12,
     "metadata": {},
     "output_type": "execute_result"
    }
   ],
   "source": [
    "movies.duplicated().sum()"
   ]
  },
  {
   "cell_type": "markdown",
   "id": "4eb87fcc",
   "metadata": {},
   "source": [
    "### Summary of both datasets \n",
    "\n",
    "### Credits :\n",
    "#### shape : (4803 , 4 ) | Null values = 0 | Duplcate values = 0\n",
    "\n",
    "\n",
    "### Movies:\n",
    "#### shape : (4803 , 20 ) | Null values = 3935 | Duplcate values = 0"
   ]
  },
  {
   "cell_type": "markdown",
   "id": "9b6a891e",
   "metadata": {},
   "source": [
    "### Merge both the datasets "
   ]
  },
  {
   "cell_type": "code",
   "execution_count": 13,
   "id": "f475c844",
   "metadata": {},
   "outputs": [],
   "source": [
    "movies_dataset = movies.merge(credits ,on=\"title\")"
   ]
  },
  {
   "cell_type": "code",
   "execution_count": 14,
   "id": "9dc5bca1",
   "metadata": {},
   "outputs": [
    {
     "data": {
      "text/html": [
       "<div>\n",
       "<style scoped>\n",
       "    .dataframe tbody tr th:only-of-type {\n",
       "        vertical-align: middle;\n",
       "    }\n",
       "\n",
       "    .dataframe tbody tr th {\n",
       "        vertical-align: top;\n",
       "    }\n",
       "\n",
       "    .dataframe thead th {\n",
       "        text-align: right;\n",
       "    }\n",
       "</style>\n",
       "<table border=\"1\" class=\"dataframe\">\n",
       "  <thead>\n",
       "    <tr style=\"text-align: right;\">\n",
       "      <th></th>\n",
       "      <th>budget</th>\n",
       "      <th>genres</th>\n",
       "      <th>homepage</th>\n",
       "      <th>id</th>\n",
       "      <th>keywords</th>\n",
       "      <th>original_language</th>\n",
       "      <th>original_title</th>\n",
       "      <th>overview</th>\n",
       "      <th>popularity</th>\n",
       "      <th>production_companies</th>\n",
       "      <th>...</th>\n",
       "      <th>runtime</th>\n",
       "      <th>spoken_languages</th>\n",
       "      <th>status</th>\n",
       "      <th>tagline</th>\n",
       "      <th>title</th>\n",
       "      <th>vote_average</th>\n",
       "      <th>vote_count</th>\n",
       "      <th>movie_id</th>\n",
       "      <th>cast</th>\n",
       "      <th>crew</th>\n",
       "    </tr>\n",
       "  </thead>\n",
       "  <tbody>\n",
       "    <tr>\n",
       "      <th>2719</th>\n",
       "      <td>0</td>\n",
       "      <td>[{\"id\": 35, \"name\": \"Comedy\"}, {\"id\": 18, \"nam...</td>\n",
       "      <td>http://www.theluckyonesmovie.com/</td>\n",
       "      <td>16005</td>\n",
       "      <td>[{\"id\": 6054, \"name\": \"friendship\"}, {\"id\": 60...</td>\n",
       "      <td>en</td>\n",
       "      <td>The Lucky Ones</td>\n",
       "      <td>The story revolves around three soldiers — Col...</td>\n",
       "      <td>8.747922</td>\n",
       "      <td>[]</td>\n",
       "      <td>...</td>\n",
       "      <td>113.0</td>\n",
       "      <td>[{\"iso_639_1\": \"en\", \"name\": \"English\"}]</td>\n",
       "      <td>Released</td>\n",
       "      <td>NaN</td>\n",
       "      <td>The Lucky Ones</td>\n",
       "      <td>6.3</td>\n",
       "      <td>55</td>\n",
       "      <td>16005</td>\n",
       "      <td>[{\"cast_id\": 4, \"character\": \"Fred Cheaver\", \"...</td>\n",
       "      <td>[{\"credit_id\": \"553e37dbc3a3687db1003063\", \"de...</td>\n",
       "    </tr>\n",
       "  </tbody>\n",
       "</table>\n",
       "<p>1 rows × 23 columns</p>\n",
       "</div>"
      ],
      "text/plain": [
       "      budget                                             genres  \\\n",
       "2719       0  [{\"id\": 35, \"name\": \"Comedy\"}, {\"id\": 18, \"nam...   \n",
       "\n",
       "                               homepage     id  \\\n",
       "2719  http://www.theluckyonesmovie.com/  16005   \n",
       "\n",
       "                                               keywords original_language  \\\n",
       "2719  [{\"id\": 6054, \"name\": \"friendship\"}, {\"id\": 60...                en   \n",
       "\n",
       "      original_title                                           overview  \\\n",
       "2719  The Lucky Ones  The story revolves around three soldiers — Col...   \n",
       "\n",
       "      popularity production_companies  ... runtime  \\\n",
       "2719    8.747922                   []  ...   113.0   \n",
       "\n",
       "                              spoken_languages    status  tagline  \\\n",
       "2719  [{\"iso_639_1\": \"en\", \"name\": \"English\"}]  Released      NaN   \n",
       "\n",
       "               title vote_average vote_count movie_id  \\\n",
       "2719  The Lucky Ones          6.3         55    16005   \n",
       "\n",
       "                                                   cast  \\\n",
       "2719  [{\"cast_id\": 4, \"character\": \"Fred Cheaver\", \"...   \n",
       "\n",
       "                                                   crew  \n",
       "2719  [{\"credit_id\": \"553e37dbc3a3687db1003063\", \"de...  \n",
       "\n",
       "[1 rows x 23 columns]"
      ]
     },
     "execution_count": 14,
     "metadata": {},
     "output_type": "execute_result"
    }
   ],
   "source": [
    "movies_dataset.sample(1)"
   ]
  },
  {
   "cell_type": "code",
   "execution_count": 15,
   "id": "7afae919",
   "metadata": {},
   "outputs": [
    {
     "data": {
      "text/plain": [
       "(4809, 23)"
      ]
     },
     "execution_count": 15,
     "metadata": {},
     "output_type": "execute_result"
    }
   ],
   "source": [
    "movies_dataset.shape"
   ]
  },
  {
   "cell_type": "code",
   "execution_count": 16,
   "id": "8f4ea487",
   "metadata": {},
   "outputs": [
    {
     "name": "stdout",
     "output_type": "stream",
     "text": [
      "<class 'pandas.core.frame.DataFrame'>\n",
      "Int64Index: 4809 entries, 0 to 4808\n",
      "Data columns (total 23 columns):\n",
      " #   Column                Non-Null Count  Dtype  \n",
      "---  ------                --------------  -----  \n",
      " 0   budget                4809 non-null   int64  \n",
      " 1   genres                4809 non-null   object \n",
      " 2   homepage              1713 non-null   object \n",
      " 3   id                    4809 non-null   int64  \n",
      " 4   keywords              4809 non-null   object \n",
      " 5   original_language     4809 non-null   object \n",
      " 6   original_title        4809 non-null   object \n",
      " 7   overview              4806 non-null   object \n",
      " 8   popularity            4809 non-null   float64\n",
      " 9   production_companies  4809 non-null   object \n",
      " 10  production_countries  4809 non-null   object \n",
      " 11  release_date          4808 non-null   object \n",
      " 12  revenue               4809 non-null   int64  \n",
      " 13  runtime               4807 non-null   float64\n",
      " 14  spoken_languages      4809 non-null   object \n",
      " 15  status                4809 non-null   object \n",
      " 16  tagline               3965 non-null   object \n",
      " 17  title                 4809 non-null   object \n",
      " 18  vote_average          4809 non-null   float64\n",
      " 19  vote_count            4809 non-null   int64  \n",
      " 20  movie_id              4809 non-null   int64  \n",
      " 21  cast                  4809 non-null   object \n",
      " 22  crew                  4809 non-null   object \n",
      "dtypes: float64(3), int64(5), object(15)\n",
      "memory usage: 901.7+ KB\n"
     ]
    }
   ],
   "source": [
    "movies_dataset.info()"
   ]
  },
  {
   "cell_type": "code",
   "execution_count": 17,
   "id": "68f0a1a6",
   "metadata": {},
   "outputs": [],
   "source": [
    "movies_dataset.dropna(inplace = True)"
   ]
  },
  {
   "cell_type": "code",
   "execution_count": 18,
   "id": "0aff2283",
   "metadata": {},
   "outputs": [
    {
     "data": {
      "text/plain": [
       "budget                  0\n",
       "genres                  0\n",
       "homepage                0\n",
       "id                      0\n",
       "keywords                0\n",
       "original_language       0\n",
       "original_title          0\n",
       "overview                0\n",
       "popularity              0\n",
       "production_companies    0\n",
       "production_countries    0\n",
       "release_date            0\n",
       "revenue                 0\n",
       "runtime                 0\n",
       "spoken_languages        0\n",
       "status                  0\n",
       "tagline                 0\n",
       "title                   0\n",
       "vote_average            0\n",
       "vote_count              0\n",
       "movie_id                0\n",
       "cast                    0\n",
       "crew                    0\n",
       "dtype: int64"
      ]
     },
     "execution_count": 18,
     "metadata": {},
     "output_type": "execute_result"
    }
   ],
   "source": [
    "movies_dataset.isnull().sum()"
   ]
  },
  {
   "cell_type": "markdown",
   "id": "ee182374",
   "metadata": {},
   "source": [
    "### Remove unneccessary attributes which will not add values to our Recommender system"
   ]
  },
  {
   "cell_type": "code",
   "execution_count": 19,
   "id": "20c69a5b",
   "metadata": {},
   "outputs": [],
   "source": [
    "movies_dataset = movies_dataset.drop([\"budget\",\"homepage\",\"original_language\",\"original_title\",\"popularity\",\"production_companies\",\"production_countries\",\"release_date\",\"revenue\",\"runtime\",\"spoken_languages\",\"status\",\"vote_count\",\"vote_average\",\"movie_id\",\"tagline\"] ,axis = 1)"
   ]
  },
  {
   "cell_type": "code",
   "execution_count": 20,
   "id": "05dd7682",
   "metadata": {},
   "outputs": [
    {
     "data": {
      "text/html": [
       "<div>\n",
       "<style scoped>\n",
       "    .dataframe tbody tr th:only-of-type {\n",
       "        vertical-align: middle;\n",
       "    }\n",
       "\n",
       "    .dataframe tbody tr th {\n",
       "        vertical-align: top;\n",
       "    }\n",
       "\n",
       "    .dataframe thead th {\n",
       "        text-align: right;\n",
       "    }\n",
       "</style>\n",
       "<table border=\"1\" class=\"dataframe\">\n",
       "  <thead>\n",
       "    <tr style=\"text-align: right;\">\n",
       "      <th></th>\n",
       "      <th>genres</th>\n",
       "      <th>id</th>\n",
       "      <th>keywords</th>\n",
       "      <th>overview</th>\n",
       "      <th>title</th>\n",
       "      <th>cast</th>\n",
       "      <th>crew</th>\n",
       "    </tr>\n",
       "  </thead>\n",
       "  <tbody>\n",
       "    <tr>\n",
       "      <th>0</th>\n",
       "      <td>[{\"id\": 28, \"name\": \"Action\"}, {\"id\": 12, \"nam...</td>\n",
       "      <td>19995</td>\n",
       "      <td>[{\"id\": 1463, \"name\": \"culture clash\"}, {\"id\":...</td>\n",
       "      <td>In the 22nd century, a paraplegic Marine is di...</td>\n",
       "      <td>Avatar</td>\n",
       "      <td>[{\"cast_id\": 242, \"character\": \"Jake Sully\", \"...</td>\n",
       "      <td>[{\"credit_id\": \"52fe48009251416c750aca23\", \"de...</td>\n",
       "    </tr>\n",
       "  </tbody>\n",
       "</table>\n",
       "</div>"
      ],
      "text/plain": [
       "                                              genres     id  \\\n",
       "0  [{\"id\": 28, \"name\": \"Action\"}, {\"id\": 12, \"nam...  19995   \n",
       "\n",
       "                                            keywords  \\\n",
       "0  [{\"id\": 1463, \"name\": \"culture clash\"}, {\"id\":...   \n",
       "\n",
       "                                            overview   title  \\\n",
       "0  In the 22nd century, a paraplegic Marine is di...  Avatar   \n",
       "\n",
       "                                                cast  \\\n",
       "0  [{\"cast_id\": 242, \"character\": \"Jake Sully\", \"...   \n",
       "\n",
       "                                                crew  \n",
       "0  [{\"credit_id\": \"52fe48009251416c750aca23\", \"de...  "
      ]
     },
     "execution_count": 20,
     "metadata": {},
     "output_type": "execute_result"
    }
   ],
   "source": [
    "movies_dataset.head(1)"
   ]
  },
  {
   "cell_type": "code",
   "execution_count": 21,
   "id": "6df4e109",
   "metadata": {},
   "outputs": [
    {
     "data": {
      "text/plain": [
       "(1494, 7)"
      ]
     },
     "execution_count": 21,
     "metadata": {},
     "output_type": "execute_result"
    }
   ],
   "source": [
    "movies_dataset.shape"
   ]
  },
  {
   "cell_type": "code",
   "execution_count": 22,
   "id": "538bfabd",
   "metadata": {},
   "outputs": [
    {
     "name": "stdout",
     "output_type": "stream",
     "text": [
      "<class 'pandas.core.frame.DataFrame'>\n",
      "Int64Index: 1494 entries, 0 to 4807\n",
      "Data columns (total 7 columns):\n",
      " #   Column    Non-Null Count  Dtype \n",
      "---  ------    --------------  ----- \n",
      " 0   genres    1494 non-null   object\n",
      " 1   id        1494 non-null   int64 \n",
      " 2   keywords  1494 non-null   object\n",
      " 3   overview  1494 non-null   object\n",
      " 4   title     1494 non-null   object\n",
      " 5   cast      1494 non-null   object\n",
      " 6   crew      1494 non-null   object\n",
      "dtypes: int64(1), object(6)\n",
      "memory usage: 93.4+ KB\n"
     ]
    }
   ],
   "source": [
    "movies_dataset.info()"
   ]
  },
  {
   "cell_type": "markdown",
   "id": "6fa7c7b1",
   "metadata": {},
   "source": [
    "### Now with the above attributes we will create a new attribute known as \" tag \" which will consist genres, cast,crew, overview and keywords"
   ]
  },
  {
   "cell_type": "markdown",
   "id": "0327a1d7",
   "metadata": {},
   "source": [
    "#### Task 1 : Clean Genres columns"
   ]
  },
  {
   "cell_type": "code",
   "execution_count": 23,
   "id": "bb4d2628",
   "metadata": {},
   "outputs": [
    {
     "data": {
      "text/plain": [
       "'[{\"id\": 28, \"name\": \"Action\"}, {\"id\": 12, \"name\": \"Adventure\"}, {\"id\": 14, \"name\": \"Fantasy\"}, {\"id\": 878, \"name\": \"Science Fiction\"}]'"
      ]
     },
     "execution_count": 23,
     "metadata": {},
     "output_type": "execute_result"
    }
   ],
   "source": [
    "movies_dataset['genres'][0]"
   ]
  },
  {
   "cell_type": "markdown",
   "id": "79913a78",
   "metadata": {},
   "source": [
    "### From the above code cell output we cam observe a list of many dictionaries which consists id and name as a key and their detail as a value. so we can build  function which can fetch a name from every dictionary of a list of/from every movies."
   ]
  },
  {
   "cell_type": "code",
   "execution_count": 24,
   "id": "edf8f8ae",
   "metadata": {},
   "outputs": [],
   "source": [
    "import ast\n",
    "\n",
    "name_list =  []\n",
    "def genre_fetcher(obj):\n",
    "    for i in ast.literal_eval(obj):\n",
    "        name_list.append(i[\"name\"])\n",
    "    return name_list\n",
    "        "
   ]
  },
  {
   "cell_type": "code",
   "execution_count": 25,
   "id": "38980890",
   "metadata": {},
   "outputs": [
    {
     "name": "stdout",
     "output_type": "stream",
     "text": [
      " Congratulations ,  Task 1 is done succesfully!!!!!!!!!!!!!! Keep it up . Lets move for task 2!!!!!\n"
     ]
    }
   ],
   "source": [
    "movies_dataset[\"genres\"] = movies_dataset[\"genres\"].apply(genre_fetcher)\n",
    "print (\" Congratulations ,  Task 1 is done succesfully!!!!!!!!!!!!!! Keep it up . Lets move for task 2!!!!!\")"
   ]
  },
  {
   "cell_type": "code",
   "execution_count": 26,
   "id": "66ea4ba4",
   "metadata": {},
   "outputs": [
    {
     "data": {
      "text/plain": [
       "0       [Action, Adventure, Fantasy, Science Fiction, ...\n",
       "1       [Action, Adventure, Fantasy, Science Fiction, ...\n",
       "2       [Action, Adventure, Fantasy, Science Fiction, ...\n",
       "3       [Action, Adventure, Fantasy, Science Fiction, ...\n",
       "4       [Action, Adventure, Fantasy, Science Fiction, ...\n",
       "                              ...                        \n",
       "4779    [Action, Adventure, Fantasy, Science Fiction, ...\n",
       "4787    [Action, Adventure, Fantasy, Science Fiction, ...\n",
       "4797    [Action, Adventure, Fantasy, Science Fiction, ...\n",
       "4802    [Action, Adventure, Fantasy, Science Fiction, ...\n",
       "4807    [Action, Adventure, Fantasy, Science Fiction, ...\n",
       "Name: genres, Length: 1494, dtype: object"
      ]
     },
     "execution_count": 26,
     "metadata": {},
     "output_type": "execute_result"
    }
   ],
   "source": [
    "movies_dataset[\"genres\"]\n",
    "\n"
   ]
  },
  {
   "cell_type": "code",
   "execution_count": 27,
   "id": "cf5eadc7",
   "metadata": {},
   "outputs": [
    {
     "data": {
      "text/html": [
       "<div>\n",
       "<style scoped>\n",
       "    .dataframe tbody tr th:only-of-type {\n",
       "        vertical-align: middle;\n",
       "    }\n",
       "\n",
       "    .dataframe tbody tr th {\n",
       "        vertical-align: top;\n",
       "    }\n",
       "\n",
       "    .dataframe thead th {\n",
       "        text-align: right;\n",
       "    }\n",
       "</style>\n",
       "<table border=\"1\" class=\"dataframe\">\n",
       "  <thead>\n",
       "    <tr style=\"text-align: right;\">\n",
       "      <th></th>\n",
       "      <th>genres</th>\n",
       "      <th>id</th>\n",
       "      <th>keywords</th>\n",
       "      <th>overview</th>\n",
       "      <th>title</th>\n",
       "      <th>cast</th>\n",
       "      <th>crew</th>\n",
       "    </tr>\n",
       "  </thead>\n",
       "  <tbody>\n",
       "    <tr>\n",
       "      <th>0</th>\n",
       "      <td>[Action, Adventure, Fantasy, Science Fiction, ...</td>\n",
       "      <td>19995</td>\n",
       "      <td>[{\"id\": 1463, \"name\": \"culture clash\"}, {\"id\":...</td>\n",
       "      <td>In the 22nd century, a paraplegic Marine is di...</td>\n",
       "      <td>Avatar</td>\n",
       "      <td>[{\"cast_id\": 242, \"character\": \"Jake Sully\", \"...</td>\n",
       "      <td>[{\"credit_id\": \"52fe48009251416c750aca23\", \"de...</td>\n",
       "    </tr>\n",
       "  </tbody>\n",
       "</table>\n",
       "</div>"
      ],
      "text/plain": [
       "                                              genres     id  \\\n",
       "0  [Action, Adventure, Fantasy, Science Fiction, ...  19995   \n",
       "\n",
       "                                            keywords  \\\n",
       "0  [{\"id\": 1463, \"name\": \"culture clash\"}, {\"id\":...   \n",
       "\n",
       "                                            overview   title  \\\n",
       "0  In the 22nd century, a paraplegic Marine is di...  Avatar   \n",
       "\n",
       "                                                cast  \\\n",
       "0  [{\"cast_id\": 242, \"character\": \"Jake Sully\", \"...   \n",
       "\n",
       "                                                crew  \n",
       "0  [{\"credit_id\": \"52fe48009251416c750aca23\", \"de...  "
      ]
     },
     "execution_count": 27,
     "metadata": {},
     "output_type": "execute_result"
    }
   ],
   "source": [
    "movies_dataset.head(1)"
   ]
  },
  {
   "cell_type": "markdown",
   "id": "42c15aa8",
   "metadata": {},
   "source": [
    "#### Task 2 : Clean keywords columns"
   ]
  },
  {
   "cell_type": "code",
   "execution_count": 28,
   "id": "7fa550ec",
   "metadata": {},
   "outputs": [
    {
     "data": {
      "text/plain": [
       "'[{\"id\": 1463, \"name\": \"culture clash\"}, {\"id\": 2964, \"name\": \"future\"}, {\"id\": 3386, \"name\": \"space war\"}, {\"id\": 3388, \"name\": \"space colony\"}, {\"id\": 3679, \"name\": \"society\"}, {\"id\": 3801, \"name\": \"space travel\"}, {\"id\": 9685, \"name\": \"futuristic\"}, {\"id\": 9840, \"name\": \"romance\"}, {\"id\": 9882, \"name\": \"space\"}, {\"id\": 9951, \"name\": \"alien\"}, {\"id\": 10148, \"name\": \"tribe\"}, {\"id\": 10158, \"name\": \"alien planet\"}, {\"id\": 10987, \"name\": \"cgi\"}, {\"id\": 11399, \"name\": \"marine\"}, {\"id\": 13065, \"name\": \"soldier\"}, {\"id\": 14643, \"name\": \"battle\"}, {\"id\": 14720, \"name\": \"love affair\"}, {\"id\": 165431, \"name\": \"anti war\"}, {\"id\": 193554, \"name\": \"power relations\"}, {\"id\": 206690, \"name\": \"mind and soul\"}, {\"id\": 209714, \"name\": \"3d\"}]'"
      ]
     },
     "execution_count": 28,
     "metadata": {},
     "output_type": "execute_result"
    }
   ],
   "source": [
    "movies_dataset['keywords'][0]"
   ]
  },
  {
   "cell_type": "markdown",
   "id": "ab244e8b",
   "metadata": {},
   "source": [
    "### From the above code cell output we cam observe a list of many dictionaries which consists id and name as a key and their detail as a value. so we can build  a function which can fetch a name from every dictionary of a list of/from every movies"
   ]
  },
  {
   "cell_type": "code",
   "execution_count": 29,
   "id": "38a8e970",
   "metadata": {},
   "outputs": [],
   "source": [
    "import ast\n",
    "\n",
    "name_list =  []\n",
    "def keyword_fetcher(obj):\n",
    "    for i in ast.literal_eval(obj):\n",
    "        name_list.append(i[\"name\"])\n",
    "    return name_list"
   ]
  },
  {
   "cell_type": "code",
   "execution_count": 30,
   "id": "897e896d",
   "metadata": {},
   "outputs": [
    {
     "name": "stdout",
     "output_type": "stream",
     "text": [
      " Congratulations ,  Task 2 is done succesfully!!!!!!!!!!!!!! Keep it up . Lets move for task 3!!!!!\n"
     ]
    }
   ],
   "source": [
    "movies_dataset['keywords'] = movies_dataset['keywords'].apply(keyword_fetcher)\n",
    "print (\" Congratulations ,  Task 2 is done succesfully!!!!!!!!!!!!!! Keep it up . Lets move for task 3!!!!!\")"
   ]
  },
  {
   "cell_type": "code",
   "execution_count": 31,
   "id": "245c5db1",
   "metadata": {},
   "outputs": [
    {
     "data": {
      "text/plain": [
       "0       [culture clash, future, space war, space colon...\n",
       "1       [culture clash, future, space war, space colon...\n",
       "2       [culture clash, future, space war, space colon...\n",
       "3       [culture clash, future, space war, space colon...\n",
       "4       [culture clash, future, space war, space colon...\n",
       "                              ...                        \n",
       "4779    [culture clash, future, space war, space colon...\n",
       "4787    [culture clash, future, space war, space colon...\n",
       "4797    [culture clash, future, space war, space colon...\n",
       "4802    [culture clash, future, space war, space colon...\n",
       "4807    [culture clash, future, space war, space colon...\n",
       "Name: keywords, Length: 1494, dtype: object"
      ]
     },
     "execution_count": 31,
     "metadata": {},
     "output_type": "execute_result"
    }
   ],
   "source": [
    "movies_dataset['keywords']"
   ]
  },
  {
   "cell_type": "code",
   "execution_count": 32,
   "id": "2abdd952",
   "metadata": {},
   "outputs": [
    {
     "data": {
      "text/html": [
       "<div>\n",
       "<style scoped>\n",
       "    .dataframe tbody tr th:only-of-type {\n",
       "        vertical-align: middle;\n",
       "    }\n",
       "\n",
       "    .dataframe tbody tr th {\n",
       "        vertical-align: top;\n",
       "    }\n",
       "\n",
       "    .dataframe thead th {\n",
       "        text-align: right;\n",
       "    }\n",
       "</style>\n",
       "<table border=\"1\" class=\"dataframe\">\n",
       "  <thead>\n",
       "    <tr style=\"text-align: right;\">\n",
       "      <th></th>\n",
       "      <th>genres</th>\n",
       "      <th>id</th>\n",
       "      <th>keywords</th>\n",
       "      <th>overview</th>\n",
       "      <th>title</th>\n",
       "      <th>cast</th>\n",
       "      <th>crew</th>\n",
       "    </tr>\n",
       "  </thead>\n",
       "  <tbody>\n",
       "    <tr>\n",
       "      <th>0</th>\n",
       "      <td>[Action, Adventure, Fantasy, Science Fiction, ...</td>\n",
       "      <td>19995</td>\n",
       "      <td>[culture clash, future, space war, space colon...</td>\n",
       "      <td>In the 22nd century, a paraplegic Marine is di...</td>\n",
       "      <td>Avatar</td>\n",
       "      <td>[{\"cast_id\": 242, \"character\": \"Jake Sully\", \"...</td>\n",
       "      <td>[{\"credit_id\": \"52fe48009251416c750aca23\", \"de...</td>\n",
       "    </tr>\n",
       "  </tbody>\n",
       "</table>\n",
       "</div>"
      ],
      "text/plain": [
       "                                              genres     id  \\\n",
       "0  [Action, Adventure, Fantasy, Science Fiction, ...  19995   \n",
       "\n",
       "                                            keywords  \\\n",
       "0  [culture clash, future, space war, space colon...   \n",
       "\n",
       "                                            overview   title  \\\n",
       "0  In the 22nd century, a paraplegic Marine is di...  Avatar   \n",
       "\n",
       "                                                cast  \\\n",
       "0  [{\"cast_id\": 242, \"character\": \"Jake Sully\", \"...   \n",
       "\n",
       "                                                crew  \n",
       "0  [{\"credit_id\": \"52fe48009251416c750aca23\", \"de...  "
      ]
     },
     "execution_count": 32,
     "metadata": {},
     "output_type": "execute_result"
    }
   ],
   "source": [
    "movies_dataset.head(1)"
   ]
  },
  {
   "cell_type": "markdown",
   "id": "8d01afda",
   "metadata": {},
   "source": [
    "#### Task 3 : Clean cast columns\n"
   ]
  },
  {
   "cell_type": "code",
   "execution_count": 33,
   "id": "26327623",
   "metadata": {},
   "outputs": [
    {
     "data": {
      "text/plain": [
       "'[{\"cast_id\": 242, \"character\": \"Jake Sully\", \"credit_id\": \"5602a8a7c3a3685532001c9a\", \"gender\": 2, \"id\": 65731, \"name\": \"Sam Worthington\", \"order\": 0}, {\"cast_id\": 3, \"character\": \"Neytiri\", \"credit_id\": \"52fe48009251416c750ac9cb\", \"gender\": 1, \"id\": 8691, \"name\": \"Zoe Saldana\", \"order\": 1}, {\"cast_id\": 25, \"character\": \"Dr. Grace Augustine\", \"credit_id\": \"52fe48009251416c750aca39\", \"gender\": 1, \"id\": 10205, \"name\": \"Sigourney Weaver\", \"order\": 2}, {\"cast_id\": 4, \"character\": \"Col. Quaritch\", \"credit_id\": \"52fe48009251416c750ac9cf\", \"gender\": 2, \"id\": 32747, \"name\": \"Stephen Lang\", \"order\": 3}, {\"cast_id\": 5, \"character\": \"Trudy Chacon\", \"credit_id\": \"52fe48009251416c750ac9d3\", \"gender\": 1, \"id\": 17647, \"name\": \"Michelle Rodriguez\", \"order\": 4}, {\"cast_id\": 8, \"character\": \"Selfridge\", \"credit_id\": \"52fe48009251416c750ac9e1\", \"gender\": 2, \"id\": 1771, \"name\": \"Giovanni Ribisi\", \"order\": 5}, {\"cast_id\": 7, \"character\": \"Norm Spellman\", \"credit_id\": \"52fe48009251416c750ac9dd\", \"gender\": 2, \"id\": 59231, \"name\": \"Joel David Moore\", \"order\": 6}, {\"cast_id\": 9, \"character\": \"Moat\", \"credit_id\": \"52fe48009251416c750ac9e5\", \"gender\": 1, \"id\": 30485, \"name\": \"CCH Pounder\", \"order\": 7}, {\"cast_id\": 11, \"character\": \"Eytukan\", \"credit_id\": \"52fe48009251416c750ac9ed\", \"gender\": 2, \"id\": 15853, \"name\": \"Wes Studi\", \"order\": 8}, {\"cast_id\": 10, \"character\": \"Tsu\\'Tey\", \"credit_id\": \"52fe48009251416c750ac9e9\", \"gender\": 2, \"id\": 10964, \"name\": \"Laz Alonso\", \"order\": 9}, {\"cast_id\": 12, \"character\": \"Dr. Max Patel\", \"credit_id\": \"52fe48009251416c750ac9f1\", \"gender\": 2, \"id\": 95697, \"name\": \"Dileep Rao\", \"order\": 10}, {\"cast_id\": 13, \"character\": \"Lyle Wainfleet\", \"credit_id\": \"52fe48009251416c750ac9f5\", \"gender\": 2, \"id\": 98215, \"name\": \"Matt Gerald\", \"order\": 11}, {\"cast_id\": 32, \"character\": \"Private Fike\", \"credit_id\": \"52fe48009251416c750aca5b\", \"gender\": 2, \"id\": 154153, \"name\": \"Sean Anthony Moran\", \"order\": 12}, {\"cast_id\": 33, \"character\": \"Cryo Vault Med Tech\", \"credit_id\": \"52fe48009251416c750aca5f\", \"gender\": 2, \"id\": 397312, \"name\": \"Jason Whyte\", \"order\": 13}, {\"cast_id\": 34, \"character\": \"Venture Star Crew Chief\", \"credit_id\": \"52fe48009251416c750aca63\", \"gender\": 2, \"id\": 42317, \"name\": \"Scott Lawrence\", \"order\": 14}, {\"cast_id\": 35, \"character\": \"Lock Up Trooper\", \"credit_id\": \"52fe48009251416c750aca67\", \"gender\": 2, \"id\": 986734, \"name\": \"Kelly Kilgour\", \"order\": 15}, {\"cast_id\": 36, \"character\": \"Shuttle Pilot\", \"credit_id\": \"52fe48009251416c750aca6b\", \"gender\": 0, \"id\": 1207227, \"name\": \"James Patrick Pitt\", \"order\": 16}, {\"cast_id\": 37, \"character\": \"Shuttle Co-Pilot\", \"credit_id\": \"52fe48009251416c750aca6f\", \"gender\": 0, \"id\": 1180936, \"name\": \"Sean Patrick Murphy\", \"order\": 17}, {\"cast_id\": 38, \"character\": \"Shuttle Crew Chief\", \"credit_id\": \"52fe48009251416c750aca73\", \"gender\": 2, \"id\": 1019578, \"name\": \"Peter Dillon\", \"order\": 18}, {\"cast_id\": 39, \"character\": \"Tractor Operator / Troupe\", \"credit_id\": \"52fe48009251416c750aca77\", \"gender\": 0, \"id\": 91443, \"name\": \"Kevin Dorman\", \"order\": 19}, {\"cast_id\": 40, \"character\": \"Dragon Gunship Pilot\", \"credit_id\": \"52fe48009251416c750aca7b\", \"gender\": 2, \"id\": 173391, \"name\": \"Kelson Henderson\", \"order\": 20}, {\"cast_id\": 41, \"character\": \"Dragon Gunship Gunner\", \"credit_id\": \"52fe48009251416c750aca7f\", \"gender\": 0, \"id\": 1207236, \"name\": \"David Van Horn\", \"order\": 21}, {\"cast_id\": 42, \"character\": \"Dragon Gunship Navigator\", \"credit_id\": \"52fe48009251416c750aca83\", \"gender\": 0, \"id\": 215913, \"name\": \"Jacob Tomuri\", \"order\": 22}, {\"cast_id\": 43, \"character\": \"Suit #1\", \"credit_id\": \"52fe48009251416c750aca87\", \"gender\": 0, \"id\": 143206, \"name\": \"Michael Blain-Rozgay\", \"order\": 23}, {\"cast_id\": 44, \"character\": \"Suit #2\", \"credit_id\": \"52fe48009251416c750aca8b\", \"gender\": 2, \"id\": 169676, \"name\": \"Jon Curry\", \"order\": 24}, {\"cast_id\": 46, \"character\": \"Ambient Room Tech\", \"credit_id\": \"52fe48009251416c750aca8f\", \"gender\": 0, \"id\": 1048610, \"name\": \"Luke Hawker\", \"order\": 25}, {\"cast_id\": 47, \"character\": \"Ambient Room Tech / Troupe\", \"credit_id\": \"52fe48009251416c750aca93\", \"gender\": 0, \"id\": 42288, \"name\": \"Woody Schultz\", \"order\": 26}, {\"cast_id\": 48, \"character\": \"Horse Clan Leader\", \"credit_id\": \"52fe48009251416c750aca97\", \"gender\": 2, \"id\": 68278, \"name\": \"Peter Mensah\", \"order\": 27}, {\"cast_id\": 49, \"character\": \"Link Room Tech\", \"credit_id\": \"52fe48009251416c750aca9b\", \"gender\": 0, \"id\": 1207247, \"name\": \"Sonia Yee\", \"order\": 28}, {\"cast_id\": 50, \"character\": \"Basketball Avatar / Troupe\", \"credit_id\": \"52fe48009251416c750aca9f\", \"gender\": 1, \"id\": 1207248, \"name\": \"Jahnel Curfman\", \"order\": 29}, {\"cast_id\": 51, \"character\": \"Basketball Avatar\", \"credit_id\": \"52fe48009251416c750acaa3\", \"gender\": 0, \"id\": 89714, \"name\": \"Ilram Choi\", \"order\": 30}, {\"cast_id\": 52, \"character\": \"Na\\'vi Child\", \"credit_id\": \"52fe48009251416c750acaa7\", \"gender\": 0, \"id\": 1207249, \"name\": \"Kyla Warren\", \"order\": 31}, {\"cast_id\": 53, \"character\": \"Troupe\", \"credit_id\": \"52fe48009251416c750acaab\", \"gender\": 0, \"id\": 1207250, \"name\": \"Lisa Roumain\", \"order\": 32}, {\"cast_id\": 54, \"character\": \"Troupe\", \"credit_id\": \"52fe48009251416c750acaaf\", \"gender\": 1, \"id\": 83105, \"name\": \"Debra Wilson\", \"order\": 33}, {\"cast_id\": 57, \"character\": \"Troupe\", \"credit_id\": \"52fe48009251416c750acabb\", \"gender\": 0, \"id\": 1207253, \"name\": \"Chris Mala\", \"order\": 34}, {\"cast_id\": 55, \"character\": \"Troupe\", \"credit_id\": \"52fe48009251416c750acab3\", \"gender\": 0, \"id\": 1207251, \"name\": \"Taylor Kibby\", \"order\": 35}, {\"cast_id\": 56, \"character\": \"Troupe\", \"credit_id\": \"52fe48009251416c750acab7\", \"gender\": 0, \"id\": 1207252, \"name\": \"Jodie Landau\", \"order\": 36}, {\"cast_id\": 58, \"character\": \"Troupe\", \"credit_id\": \"52fe48009251416c750acabf\", \"gender\": 0, \"id\": 1207254, \"name\": \"Julie Lamm\", \"order\": 37}, {\"cast_id\": 59, \"character\": \"Troupe\", \"credit_id\": \"52fe48009251416c750acac3\", \"gender\": 0, \"id\": 1207257, \"name\": \"Cullen B. Madden\", \"order\": 38}, {\"cast_id\": 60, \"character\": \"Troupe\", \"credit_id\": \"52fe48009251416c750acac7\", \"gender\": 0, \"id\": 1207259, \"name\": \"Joseph Brady Madden\", \"order\": 39}, {\"cast_id\": 61, \"character\": \"Troupe\", \"credit_id\": \"52fe48009251416c750acacb\", \"gender\": 0, \"id\": 1207262, \"name\": \"Frankie Torres\", \"order\": 40}, {\"cast_id\": 62, \"character\": \"Troupe\", \"credit_id\": \"52fe48009251416c750acacf\", \"gender\": 1, \"id\": 1158600, \"name\": \"Austin Wilson\", \"order\": 41}, {\"cast_id\": 63, \"character\": \"Troupe\", \"credit_id\": \"52fe48019251416c750acad3\", \"gender\": 1, \"id\": 983705, \"name\": \"Sara Wilson\", \"order\": 42}, {\"cast_id\": 64, \"character\": \"Troupe\", \"credit_id\": \"52fe48019251416c750acad7\", \"gender\": 0, \"id\": 1207263, \"name\": \"Tamica Washington-Miller\", \"order\": 43}, {\"cast_id\": 65, \"character\": \"Op Center Staff\", \"credit_id\": \"52fe48019251416c750acadb\", \"gender\": 1, \"id\": 1145098, \"name\": \"Lucy Briant\", \"order\": 44}, {\"cast_id\": 66, \"character\": \"Op Center Staff\", \"credit_id\": \"52fe48019251416c750acadf\", \"gender\": 2, \"id\": 33305, \"name\": \"Nathan Meister\", \"order\": 45}, {\"cast_id\": 67, \"character\": \"Op Center Staff\", \"credit_id\": \"52fe48019251416c750acae3\", \"gender\": 0, \"id\": 1207264, \"name\": \"Gerry Blair\", \"order\": 46}, {\"cast_id\": 68, \"character\": \"Op Center Staff\", \"credit_id\": \"52fe48019251416c750acae7\", \"gender\": 2, \"id\": 33311, \"name\": \"Matthew Chamberlain\", \"order\": 47}, {\"cast_id\": 69, \"character\": \"Op Center Staff\", \"credit_id\": \"52fe48019251416c750acaeb\", \"gender\": 0, \"id\": 1207265, \"name\": \"Paul Yates\", \"order\": 48}, {\"cast_id\": 70, \"character\": \"Op Center Duty Officer\", \"credit_id\": \"52fe48019251416c750acaef\", \"gender\": 0, \"id\": 1207266, \"name\": \"Wray Wilson\", \"order\": 49}, {\"cast_id\": 71, \"character\": \"Op Center Staff\", \"credit_id\": \"52fe48019251416c750acaf3\", \"gender\": 2, \"id\": 54492, \"name\": \"James Gaylyn\", \"order\": 50}, {\"cast_id\": 72, \"character\": \"Dancer\", \"credit_id\": \"52fe48019251416c750acaf7\", \"gender\": 0, \"id\": 1207267, \"name\": \"Melvin Leno Clark III\", \"order\": 51}, {\"cast_id\": 73, \"character\": \"Dancer\", \"credit_id\": \"52fe48019251416c750acafb\", \"gender\": 0, \"id\": 1207268, \"name\": \"Carvon Futrell\", \"order\": 52}, {\"cast_id\": 74, \"character\": \"Dancer\", \"credit_id\": \"52fe48019251416c750acaff\", \"gender\": 0, \"id\": 1207269, \"name\": \"Brandon Jelkes\", \"order\": 53}, {\"cast_id\": 75, \"character\": \"Dancer\", \"credit_id\": \"52fe48019251416c750acb03\", \"gender\": 0, \"id\": 1207270, \"name\": \"Micah Moch\", \"order\": 54}, {\"cast_id\": 76, \"character\": \"Dancer\", \"credit_id\": \"52fe48019251416c750acb07\", \"gender\": 0, \"id\": 1207271, \"name\": \"Hanniyah Muhammad\", \"order\": 55}, {\"cast_id\": 77, \"character\": \"Dancer\", \"credit_id\": \"52fe48019251416c750acb0b\", \"gender\": 0, \"id\": 1207272, \"name\": \"Christopher Nolen\", \"order\": 56}, {\"cast_id\": 78, \"character\": \"Dancer\", \"credit_id\": \"52fe48019251416c750acb0f\", \"gender\": 0, \"id\": 1207273, \"name\": \"Christa Oliver\", \"order\": 57}, {\"cast_id\": 79, \"character\": \"Dancer\", \"credit_id\": \"52fe48019251416c750acb13\", \"gender\": 0, \"id\": 1207274, \"name\": \"April Marie Thomas\", \"order\": 58}, {\"cast_id\": 80, \"character\": \"Dancer\", \"credit_id\": \"52fe48019251416c750acb17\", \"gender\": 0, \"id\": 1207275, \"name\": \"Bravita A. Threatt\", \"order\": 59}, {\"cast_id\": 81, \"character\": \"Mining Chief (uncredited)\", \"credit_id\": \"52fe48019251416c750acb1b\", \"gender\": 0, \"id\": 1207276, \"name\": \"Colin Bleasdale\", \"order\": 60}, {\"cast_id\": 82, \"character\": \"Veteran Miner (uncredited)\", \"credit_id\": \"52fe48019251416c750acb1f\", \"gender\": 0, \"id\": 107969, \"name\": \"Mike Bodnar\", \"order\": 61}, {\"cast_id\": 83, \"character\": \"Richard (uncredited)\", \"credit_id\": \"52fe48019251416c750acb23\", \"gender\": 0, \"id\": 1207278, \"name\": \"Matt Clayton\", \"order\": 62}, {\"cast_id\": 84, \"character\": \"Nav\\'i (uncredited)\", \"credit_id\": \"52fe48019251416c750acb27\", \"gender\": 1, \"id\": 147898, \"name\": \"Nicole Dionne\", \"order\": 63}, {\"cast_id\": 85, \"character\": \"Trooper (uncredited)\", \"credit_id\": \"52fe48019251416c750acb2b\", \"gender\": 0, \"id\": 1207280, \"name\": \"Jamie Harrison\", \"order\": 64}, {\"cast_id\": 86, \"character\": \"Trooper (uncredited)\", \"credit_id\": \"52fe48019251416c750acb2f\", \"gender\": 0, \"id\": 1207281, \"name\": \"Allan Henry\", \"order\": 65}, {\"cast_id\": 87, \"character\": \"Ground Technician (uncredited)\", \"credit_id\": \"52fe48019251416c750acb33\", \"gender\": 2, \"id\": 1207282, \"name\": \"Anthony Ingruber\", \"order\": 66}, {\"cast_id\": 88, \"character\": \"Flight Crew Mechanic (uncredited)\", \"credit_id\": \"52fe48019251416c750acb37\", \"gender\": 0, \"id\": 1207283, \"name\": \"Ashley Jeffery\", \"order\": 67}, {\"cast_id\": 14, \"character\": \"Samson Pilot\", \"credit_id\": \"52fe48009251416c750ac9f9\", \"gender\": 0, \"id\": 98216, \"name\": \"Dean Knowsley\", \"order\": 68}, {\"cast_id\": 89, \"character\": \"Trooper (uncredited)\", \"credit_id\": \"52fe48019251416c750acb3b\", \"gender\": 0, \"id\": 1201399, \"name\": \"Joseph Mika-Hunt\", \"order\": 69}, {\"cast_id\": 90, \"character\": \"Banshee (uncredited)\", \"credit_id\": \"52fe48019251416c750acb3f\", \"gender\": 0, \"id\": 236696, \"name\": \"Terry Notary\", \"order\": 70}, {\"cast_id\": 91, \"character\": \"Soldier (uncredited)\", \"credit_id\": \"52fe48019251416c750acb43\", \"gender\": 0, \"id\": 1207287, \"name\": \"Kai Pantano\", \"order\": 71}, {\"cast_id\": 92, \"character\": \"Blast Technician (uncredited)\", \"credit_id\": \"52fe48019251416c750acb47\", \"gender\": 0, \"id\": 1207288, \"name\": \"Logan Pithyou\", \"order\": 72}, {\"cast_id\": 93, \"character\": \"Vindum Raah (uncredited)\", \"credit_id\": \"52fe48019251416c750acb4b\", \"gender\": 0, \"id\": 1207289, \"name\": \"Stuart Pollock\", \"order\": 73}, {\"cast_id\": 94, \"character\": \"Hero (uncredited)\", \"credit_id\": \"52fe48019251416c750acb4f\", \"gender\": 0, \"id\": 584868, \"name\": \"Raja\", \"order\": 74}, {\"cast_id\": 95, \"character\": \"Ops Centreworker (uncredited)\", \"credit_id\": \"52fe48019251416c750acb53\", \"gender\": 0, \"id\": 1207290, \"name\": \"Gareth Ruck\", \"order\": 75}, {\"cast_id\": 96, \"character\": \"Engineer (uncredited)\", \"credit_id\": \"52fe48019251416c750acb57\", \"gender\": 0, \"id\": 1062463, \"name\": \"Rhian Sheehan\", \"order\": 76}, {\"cast_id\": 97, \"character\": \"Col. Quaritch\\'s Mech Suit (uncredited)\", \"credit_id\": \"52fe48019251416c750acb5b\", \"gender\": 0, \"id\": 60656, \"name\": \"T. J. Storm\", \"order\": 77}, {\"cast_id\": 98, \"character\": \"Female Marine (uncredited)\", \"credit_id\": \"52fe48019251416c750acb5f\", \"gender\": 0, \"id\": 1207291, \"name\": \"Jodie Taylor\", \"order\": 78}, {\"cast_id\": 99, \"character\": \"Ikran Clan Leader (uncredited)\", \"credit_id\": \"52fe48019251416c750acb63\", \"gender\": 1, \"id\": 1186027, \"name\": \"Alicia Vela-Bailey\", \"order\": 79}, {\"cast_id\": 100, \"character\": \"Geologist (uncredited)\", \"credit_id\": \"52fe48019251416c750acb67\", \"gender\": 0, \"id\": 1207292, \"name\": \"Richard Whiteside\", \"order\": 80}, {\"cast_id\": 101, \"character\": \"Na\\'vi (uncredited)\", \"credit_id\": \"52fe48019251416c750acb6b\", \"gender\": 0, \"id\": 103259, \"name\": \"Nikie Zambo\", \"order\": 81}, {\"cast_id\": 102, \"character\": \"Ambient Room Tech / Troupe\", \"credit_id\": \"52fe48019251416c750acb6f\", \"gender\": 1, \"id\": 42286, \"name\": \"Julene Renee\", \"order\": 82}]'"
      ]
     },
     "execution_count": 33,
     "metadata": {},
     "output_type": "execute_result"
    }
   ],
   "source": [
    "movies_dataset['cast'][0]"
   ]
  },
  {
   "cell_type": "markdown",
   "id": "2ce02d5b",
   "metadata": {},
   "source": [
    "### From the above code cell output we cam observe a list of many dictionaries which consists id,job,name  etc as a key and their detail as a value. so we can build a function which can fetch a name of top 3 casts from every dictionary of a list of/from every movies"
   ]
  },
  {
   "cell_type": "code",
   "execution_count": 34,
   "id": "f5b2c87c",
   "metadata": {},
   "outputs": [],
   "source": [
    "import ast\n",
    "\n",
    "\n",
    "def cast_fetcher(obj):\n",
    "    cast_name = []\n",
    "    counter = 0\n",
    "    for i in ast.literal_eval(obj):\n",
    "        if counter != 3:\n",
    "            cast_name.append(i[\"name\"])\n",
    "            counter +=1\n",
    "        else:\n",
    "            break\n",
    "    return cast_name"
   ]
  },
  {
   "cell_type": "code",
   "execution_count": 35,
   "id": "a9c13832",
   "metadata": {},
   "outputs": [
    {
     "name": "stdout",
     "output_type": "stream",
     "text": [
      " Congratulations ,  Task 3 is done succesfully!!!!!!!!!!!!!! Keep it up . Lets move for task 4!!!!!\n"
     ]
    }
   ],
   "source": [
    "movies_dataset['cast'] = movies_dataset['cast'].apply(cast_fetcher)\n",
    "print (\" Congratulations ,  Task 3 is done succesfully!!!!!!!!!!!!!! Keep it up . Lets move for task 4!!!!!\")"
   ]
  },
  {
   "cell_type": "code",
   "execution_count": 36,
   "id": "f6ec5d91",
   "metadata": {},
   "outputs": [
    {
     "data": {
      "text/plain": [
       "0        [Sam Worthington, Zoe Saldana, Sigourney Weaver]\n",
       "1           [Johnny Depp, Orlando Bloom, Keira Knightley]\n",
       "2            [Daniel Craig, Christoph Waltz, Léa Seydoux]\n",
       "3            [Christian Bale, Michael Caine, Gary Oldman]\n",
       "4          [Taylor Kitsch, Lynn Collins, Samantha Morton]\n",
       "                              ...                        \n",
       "4779       [Brian O'Halloran, Jeff Anderson, Jason Mewes]\n",
       "4787         [Suzi Lorraine, Jared Degado, Heather Dorff]\n",
       "4797    [Michael Parle, Emma Eliza Regan, Patrick O'Do...\n",
       "4802        [Shane Carruth, David Sullivan, Casey Gooden]\n",
       "4807            [Daniel Henney, Eliza Coupe, Bill Paxton]\n",
       "Name: cast, Length: 1494, dtype: object"
      ]
     },
     "execution_count": 36,
     "metadata": {},
     "output_type": "execute_result"
    }
   ],
   "source": [
    "movies_dataset['cast']"
   ]
  },
  {
   "cell_type": "code",
   "execution_count": 37,
   "id": "ffa67dfc",
   "metadata": {},
   "outputs": [
    {
     "data": {
      "text/html": [
       "<div>\n",
       "<style scoped>\n",
       "    .dataframe tbody tr th:only-of-type {\n",
       "        vertical-align: middle;\n",
       "    }\n",
       "\n",
       "    .dataframe tbody tr th {\n",
       "        vertical-align: top;\n",
       "    }\n",
       "\n",
       "    .dataframe thead th {\n",
       "        text-align: right;\n",
       "    }\n",
       "</style>\n",
       "<table border=\"1\" class=\"dataframe\">\n",
       "  <thead>\n",
       "    <tr style=\"text-align: right;\">\n",
       "      <th></th>\n",
       "      <th>genres</th>\n",
       "      <th>id</th>\n",
       "      <th>keywords</th>\n",
       "      <th>overview</th>\n",
       "      <th>title</th>\n",
       "      <th>cast</th>\n",
       "      <th>crew</th>\n",
       "    </tr>\n",
       "  </thead>\n",
       "  <tbody>\n",
       "    <tr>\n",
       "      <th>0</th>\n",
       "      <td>[Action, Adventure, Fantasy, Science Fiction, ...</td>\n",
       "      <td>19995</td>\n",
       "      <td>[culture clash, future, space war, space colon...</td>\n",
       "      <td>In the 22nd century, a paraplegic Marine is di...</td>\n",
       "      <td>Avatar</td>\n",
       "      <td>[Sam Worthington, Zoe Saldana, Sigourney Weaver]</td>\n",
       "      <td>[{\"credit_id\": \"52fe48009251416c750aca23\", \"de...</td>\n",
       "    </tr>\n",
       "  </tbody>\n",
       "</table>\n",
       "</div>"
      ],
      "text/plain": [
       "                                              genres     id  \\\n",
       "0  [Action, Adventure, Fantasy, Science Fiction, ...  19995   \n",
       "\n",
       "                                            keywords  \\\n",
       "0  [culture clash, future, space war, space colon...   \n",
       "\n",
       "                                            overview   title  \\\n",
       "0  In the 22nd century, a paraplegic Marine is di...  Avatar   \n",
       "\n",
       "                                               cast  \\\n",
       "0  [Sam Worthington, Zoe Saldana, Sigourney Weaver]   \n",
       "\n",
       "                                                crew  \n",
       "0  [{\"credit_id\": \"52fe48009251416c750aca23\", \"de...  "
      ]
     },
     "execution_count": 37,
     "metadata": {},
     "output_type": "execute_result"
    }
   ],
   "source": [
    "movies_dataset.head(1)"
   ]
  },
  {
   "cell_type": "markdown",
   "id": "c47fac09",
   "metadata": {},
   "source": [
    "#### Task 4 : Clean crew columns"
   ]
  },
  {
   "cell_type": "code",
   "execution_count": 38,
   "id": "d4f7f18c",
   "metadata": {},
   "outputs": [
    {
     "data": {
      "text/plain": [
       "'[{\"credit_id\": \"52fe48009251416c750aca23\", \"department\": \"Editing\", \"gender\": 0, \"id\": 1721, \"job\": \"Editor\", \"name\": \"Stephen E. Rivkin\"}, {\"credit_id\": \"539c47ecc3a36810e3001f87\", \"department\": \"Art\", \"gender\": 2, \"id\": 496, \"job\": \"Production Design\", \"name\": \"Rick Carter\"}, {\"credit_id\": \"54491c89c3a3680fb4001cf7\", \"department\": \"Sound\", \"gender\": 0, \"id\": 900, \"job\": \"Sound Designer\", \"name\": \"Christopher Boyes\"}, {\"credit_id\": \"54491cb70e0a267480001bd0\", \"department\": \"Sound\", \"gender\": 0, \"id\": 900, \"job\": \"Supervising Sound Editor\", \"name\": \"Christopher Boyes\"}, {\"credit_id\": \"539c4a4cc3a36810c9002101\", \"department\": \"Production\", \"gender\": 1, \"id\": 1262, \"job\": \"Casting\", \"name\": \"Mali Finn\"}, {\"credit_id\": \"5544ee3b925141499f0008fc\", \"department\": \"Sound\", \"gender\": 2, \"id\": 1729, \"job\": \"Original Music Composer\", \"name\": \"James Horner\"}, {\"credit_id\": \"52fe48009251416c750ac9c3\", \"department\": \"Directing\", \"gender\": 2, \"id\": 2710, \"job\": \"Director\", \"name\": \"James Cameron\"}, {\"credit_id\": \"52fe48009251416c750ac9d9\", \"department\": \"Writing\", \"gender\": 2, \"id\": 2710, \"job\": \"Writer\", \"name\": \"James Cameron\"}, {\"credit_id\": \"52fe48009251416c750aca17\", \"department\": \"Editing\", \"gender\": 2, \"id\": 2710, \"job\": \"Editor\", \"name\": \"James Cameron\"}, {\"credit_id\": \"52fe48009251416c750aca29\", \"department\": \"Production\", \"gender\": 2, \"id\": 2710, \"job\": \"Producer\", \"name\": \"James Cameron\"}, {\"credit_id\": \"52fe48009251416c750aca3f\", \"department\": \"Writing\", \"gender\": 2, \"id\": 2710, \"job\": \"Screenplay\", \"name\": \"James Cameron\"}, {\"credit_id\": \"539c4987c3a36810ba0021a4\", \"department\": \"Art\", \"gender\": 2, \"id\": 7236, \"job\": \"Art Direction\", \"name\": \"Andrew Menzies\"}, {\"credit_id\": \"549598c3c3a3686ae9004383\", \"department\": \"Visual Effects\", \"gender\": 0, \"id\": 6690, \"job\": \"Visual Effects Producer\", \"name\": \"Jill Brooks\"}, {\"credit_id\": \"52fe48009251416c750aca4b\", \"department\": \"Production\", \"gender\": 1, \"id\": 6347, \"job\": \"Casting\", \"name\": \"Margery Simkin\"}, {\"credit_id\": \"570b6f419251417da70032fe\", \"department\": \"Art\", \"gender\": 2, \"id\": 6878, \"job\": \"Supervising Art Director\", \"name\": \"Kevin Ishioka\"}, {\"credit_id\": \"5495a0fac3a3686ae9004468\", \"department\": \"Sound\", \"gender\": 0, \"id\": 6883, \"job\": \"Music Editor\", \"name\": \"Dick Bernstein\"}, {\"credit_id\": \"54959706c3a3686af3003e81\", \"department\": \"Sound\", \"gender\": 0, \"id\": 8159, \"job\": \"Sound Effects Editor\", \"name\": \"Shannon Mills\"}, {\"credit_id\": \"54491d58c3a3680fb1001ccb\", \"department\": \"Sound\", \"gender\": 0, \"id\": 8160, \"job\": \"Foley\", \"name\": \"Dennie Thorpe\"}, {\"credit_id\": \"54491d6cc3a3680fa5001b2c\", \"department\": \"Sound\", \"gender\": 0, \"id\": 8163, \"job\": \"Foley\", \"name\": \"Jana Vance\"}, {\"credit_id\": \"52fe48009251416c750aca57\", \"department\": \"Costume & Make-Up\", \"gender\": 1, \"id\": 8527, \"job\": \"Costume Design\", \"name\": \"Deborah Lynn Scott\"}, {\"credit_id\": \"52fe48009251416c750aca2f\", \"department\": \"Production\", \"gender\": 2, \"id\": 8529, \"job\": \"Producer\", \"name\": \"Jon Landau\"}, {\"credit_id\": \"539c4937c3a36810ba002194\", \"department\": \"Art\", \"gender\": 0, \"id\": 9618, \"job\": \"Art Direction\", \"name\": \"Sean Haworth\"}, {\"credit_id\": \"539c49b6c3a36810c10020e6\", \"department\": \"Art\", \"gender\": 1, \"id\": 12653, \"job\": \"Set Decoration\", \"name\": \"Kim Sinclair\"}, {\"credit_id\": \"570b6f2f9251413a0e00020d\", \"department\": \"Art\", \"gender\": 1, \"id\": 12653, \"job\": \"Supervising Art Director\", \"name\": \"Kim Sinclair\"}, {\"credit_id\": \"54491a6c0e0a26748c001b19\", \"department\": \"Art\", \"gender\": 2, \"id\": 14350, \"job\": \"Set Designer\", \"name\": \"Richard F. Mays\"}, {\"credit_id\": \"56928cf4c3a3684cff0025c4\", \"department\": \"Production\", \"gender\": 1, \"id\": 20294, \"job\": \"Executive Producer\", \"name\": \"Laeta Kalogridis\"}, {\"credit_id\": \"52fe48009251416c750aca51\", \"department\": \"Costume & Make-Up\", \"gender\": 0, \"id\": 17675, \"job\": \"Costume Design\", \"name\": \"Mayes C. Rubeo\"}, {\"credit_id\": \"52fe48009251416c750aca11\", \"department\": \"Camera\", \"gender\": 2, \"id\": 18265, \"job\": \"Director of Photography\", \"name\": \"Mauro Fiore\"}, {\"credit_id\": \"5449194d0e0a26748f001b39\", \"department\": \"Art\", \"gender\": 0, \"id\": 42281, \"job\": \"Set Designer\", \"name\": \"Scott Herbertson\"}, {\"credit_id\": \"52fe48009251416c750aca05\", \"department\": \"Crew\", \"gender\": 0, \"id\": 42288, \"job\": \"Stunts\", \"name\": \"Woody Schultz\"}, {\"credit_id\": \"5592aefb92514152de0010f5\", \"department\": \"Costume & Make-Up\", \"gender\": 0, \"id\": 29067, \"job\": \"Makeup Artist\", \"name\": \"Linda DeVetta\"}, {\"credit_id\": \"5592afa492514152de00112c\", \"department\": \"Costume & Make-Up\", \"gender\": 0, \"id\": 29067, \"job\": \"Hairstylist\", \"name\": \"Linda DeVetta\"}, {\"credit_id\": \"54959ed592514130fc002e5d\", \"department\": \"Camera\", \"gender\": 2, \"id\": 33302, \"job\": \"Camera Operator\", \"name\": \"Richard Bluck\"}, {\"credit_id\": \"539c4891c3a36810ba002147\", \"department\": \"Art\", \"gender\": 2, \"id\": 33303, \"job\": \"Art Direction\", \"name\": \"Simon Bright\"}, {\"credit_id\": \"54959c069251417a81001f3a\", \"department\": \"Visual Effects\", \"gender\": 0, \"id\": 113145, \"job\": \"Visual Effects Supervisor\", \"name\": \"Richard Martin\"}, {\"credit_id\": \"54959a0dc3a3680ff5002c8d\", \"department\": \"Crew\", \"gender\": 2, \"id\": 58188, \"job\": \"Visual Effects Editor\", \"name\": \"Steve R. Moore\"}, {\"credit_id\": \"52fe48009251416c750aca1d\", \"department\": \"Editing\", \"gender\": 2, \"id\": 58871, \"job\": \"Editor\", \"name\": \"John Refoua\"}, {\"credit_id\": \"54491a4dc3a3680fc30018ca\", \"department\": \"Art\", \"gender\": 0, \"id\": 92359, \"job\": \"Set Designer\", \"name\": \"Karl J. Martin\"}, {\"credit_id\": \"52fe48009251416c750aca35\", \"department\": \"Camera\", \"gender\": 1, \"id\": 72201, \"job\": \"Director of Photography\", \"name\": \"Chiling Lin\"}, {\"credit_id\": \"52fe48009251416c750ac9ff\", \"department\": \"Crew\", \"gender\": 0, \"id\": 89714, \"job\": \"Stunts\", \"name\": \"Ilram Choi\"}, {\"credit_id\": \"54959c529251416e2b004394\", \"department\": \"Visual Effects\", \"gender\": 2, \"id\": 93214, \"job\": \"Visual Effects Supervisor\", \"name\": \"Steven Quale\"}, {\"credit_id\": \"54491edf0e0a267489001c37\", \"department\": \"Crew\", \"gender\": 1, \"id\": 122607, \"job\": \"Dialect Coach\", \"name\": \"Carla Meyer\"}, {\"credit_id\": \"539c485bc3a368653d001a3a\", \"department\": \"Art\", \"gender\": 2, \"id\": 132585, \"job\": \"Art Direction\", \"name\": \"Nick Bassett\"}, {\"credit_id\": \"539c4903c3a368653d001a74\", \"department\": \"Art\", \"gender\": 0, \"id\": 132596, \"job\": \"Art Direction\", \"name\": \"Jill Cormack\"}, {\"credit_id\": \"539c4967c3a368653d001a94\", \"department\": \"Art\", \"gender\": 0, \"id\": 132604, \"job\": \"Art Direction\", \"name\": \"Andy McLaren\"}, {\"credit_id\": \"52fe48009251416c750aca45\", \"department\": \"Crew\", \"gender\": 0, \"id\": 236696, \"job\": \"Motion Capture Artist\", \"name\": \"Terry Notary\"}, {\"credit_id\": \"54959e02c3a3680fc60027d2\", \"department\": \"Crew\", \"gender\": 2, \"id\": 956198, \"job\": \"Stunt Coordinator\", \"name\": \"Garrett Warren\"}, {\"credit_id\": \"54959ca3c3a3686ae300438c\", \"department\": \"Visual Effects\", \"gender\": 2, \"id\": 957874, \"job\": \"Visual Effects Supervisor\", \"name\": \"Jonathan Rothbart\"}, {\"credit_id\": \"570b6f519251412c74001b2f\", \"department\": \"Art\", \"gender\": 0, \"id\": 957889, \"job\": \"Supervising Art Director\", \"name\": \"Stefan Dechant\"}, {\"credit_id\": \"570b6f62c3a3680b77007460\", \"department\": \"Art\", \"gender\": 2, \"id\": 959555, \"job\": \"Supervising Art Director\", \"name\": \"Todd Cherniawsky\"}, {\"credit_id\": \"539c4a3ac3a36810da0021cc\", \"department\": \"Production\", \"gender\": 0, \"id\": 1016177, \"job\": \"Casting\", \"name\": \"Miranda Rivers\"}, {\"credit_id\": \"539c482cc3a36810c1002062\", \"department\": \"Art\", \"gender\": 0, \"id\": 1032536, \"job\": \"Production Design\", \"name\": \"Robert Stromberg\"}, {\"credit_id\": \"539c4b65c3a36810c9002125\", \"department\": \"Costume & Make-Up\", \"gender\": 2, \"id\": 1071680, \"job\": \"Costume Design\", \"name\": \"John Harding\"}, {\"credit_id\": \"54959e6692514130fc002e4e\", \"department\": \"Camera\", \"gender\": 0, \"id\": 1177364, \"job\": \"Steadicam Operator\", \"name\": \"Roberto De Angelis\"}, {\"credit_id\": \"539c49f1c3a368653d001aac\", \"department\": \"Costume & Make-Up\", \"gender\": 2, \"id\": 1202850, \"job\": \"Makeup Department Head\", \"name\": \"Mike Smithson\"}, {\"credit_id\": \"5495999ec3a3686ae100460c\", \"department\": \"Visual Effects\", \"gender\": 0, \"id\": 1204668, \"job\": \"Visual Effects Producer\", \"name\": \"Alain Lalanne\"}, {\"credit_id\": \"54959cdfc3a3681153002729\", \"department\": \"Visual Effects\", \"gender\": 0, \"id\": 1206410, \"job\": \"Visual Effects Supervisor\", \"name\": \"Lucas Salton\"}, {\"credit_id\": \"549596239251417a81001eae\", \"department\": \"Crew\", \"gender\": 0, \"id\": 1234266, \"job\": \"Post Production Supervisor\", \"name\": \"Janace Tashjian\"}, {\"credit_id\": \"54959c859251416e1e003efe\", \"department\": \"Visual Effects\", \"gender\": 0, \"id\": 1271932, \"job\": \"Visual Effects Supervisor\", \"name\": \"Stephen Rosenbaum\"}, {\"credit_id\": \"5592af28c3a368775a00105f\", \"department\": \"Costume & Make-Up\", \"gender\": 0, \"id\": 1310064, \"job\": \"Makeup Artist\", \"name\": \"Frankie Karena\"}, {\"credit_id\": \"539c4adfc3a36810e300203b\", \"department\": \"Costume & Make-Up\", \"gender\": 1, \"id\": 1319844, \"job\": \"Costume Supervisor\", \"name\": \"Lisa Lovaas\"}, {\"credit_id\": \"54959b579251416e2b004371\", \"department\": \"Visual Effects\", \"gender\": 0, \"id\": 1327028, \"job\": \"Visual Effects Supervisor\", \"name\": \"Jonathan Fawkner\"}, {\"credit_id\": \"539c48a7c3a36810b5001fa7\", \"department\": \"Art\", \"gender\": 0, \"id\": 1330561, \"job\": \"Art Direction\", \"name\": \"Robert Bavin\"}, {\"credit_id\": \"539c4a71c3a36810da0021e0\", \"department\": \"Costume & Make-Up\", \"gender\": 0, \"id\": 1330567, \"job\": \"Costume Supervisor\", \"name\": \"Anthony Almaraz\"}, {\"credit_id\": \"539c4a8ac3a36810ba0021e4\", \"department\": \"Costume & Make-Up\", \"gender\": 0, \"id\": 1330570, \"job\": \"Costume Supervisor\", \"name\": \"Carolyn M. Fenton\"}, {\"credit_id\": \"539c4ab6c3a36810da0021f0\", \"department\": \"Costume & Make-Up\", \"gender\": 0, \"id\": 1330574, \"job\": \"Costume Supervisor\", \"name\": \"Beth Koenigsberg\"}, {\"credit_id\": \"54491ab70e0a267480001ba2\", \"department\": \"Art\", \"gender\": 0, \"id\": 1336191, \"job\": \"Set Designer\", \"name\": \"Sam Page\"}, {\"credit_id\": \"544919d9c3a3680fc30018bd\", \"department\": \"Art\", \"gender\": 0, \"id\": 1339441, \"job\": \"Set Designer\", \"name\": \"Tex Kadonaga\"}, {\"credit_id\": \"54491cf50e0a267483001b0c\", \"department\": \"Editing\", \"gender\": 0, \"id\": 1352422, \"job\": \"Dialogue Editor\", \"name\": \"Kim Foscato\"}, {\"credit_id\": \"544919f40e0a26748c001b09\", \"department\": \"Art\", \"gender\": 0, \"id\": 1352962, \"job\": \"Set Designer\", \"name\": \"Tammy S. Lee\"}, {\"credit_id\": \"5495a115c3a3680ff5002d71\", \"department\": \"Crew\", \"gender\": 0, \"id\": 1357070, \"job\": \"Transportation Coordinator\", \"name\": \"Denny Caira\"}, {\"credit_id\": \"5495a12f92514130fc002e94\", \"department\": \"Crew\", \"gender\": 0, \"id\": 1357071, \"job\": \"Transportation Coordinator\", \"name\": \"James Waitkus\"}, {\"credit_id\": \"5495976fc3a36811530026b0\", \"department\": \"Sound\", \"gender\": 0, \"id\": 1360103, \"job\": \"Supervising Sound Editor\", \"name\": \"Addison Teague\"}, {\"credit_id\": \"54491837c3a3680fb1001c5a\", \"department\": \"Art\", \"gender\": 2, \"id\": 1376887, \"job\": \"Set Designer\", \"name\": \"C. Scott Baker\"}, {\"credit_id\": \"54491878c3a3680fb4001c9d\", \"department\": \"Art\", \"gender\": 0, \"id\": 1376888, \"job\": \"Set Designer\", \"name\": \"Luke Caska\"}, {\"credit_id\": \"544918dac3a3680fa5001ae0\", \"department\": \"Art\", \"gender\": 0, \"id\": 1376889, \"job\": \"Set Designer\", \"name\": \"David Chow\"}, {\"credit_id\": \"544919110e0a267486001b68\", \"department\": \"Art\", \"gender\": 0, \"id\": 1376890, \"job\": \"Set Designer\", \"name\": \"Jonathan Dyer\"}, {\"credit_id\": \"54491967c3a3680faa001b5e\", \"department\": \"Art\", \"gender\": 0, \"id\": 1376891, \"job\": \"Set Designer\", \"name\": \"Joseph Hiura\"}, {\"credit_id\": \"54491997c3a3680fb1001c8a\", \"department\": \"Art\", \"gender\": 0, \"id\": 1376892, \"job\": \"Art Department Coordinator\", \"name\": \"Rebecca Jellie\"}, {\"credit_id\": \"544919ba0e0a26748f001b42\", \"department\": \"Art\", \"gender\": 0, \"id\": 1376893, \"job\": \"Set Designer\", \"name\": \"Robert Andrew Johnson\"}, {\"credit_id\": \"54491b1dc3a3680faa001b8c\", \"department\": \"Art\", \"gender\": 0, \"id\": 1376895, \"job\": \"Assistant Art Director\", \"name\": \"Mike Stassi\"}, {\"credit_id\": \"54491b79c3a3680fbb001826\", \"department\": \"Art\", \"gender\": 0, \"id\": 1376897, \"job\": \"Construction Coordinator\", \"name\": \"John Villarino\"}, {\"credit_id\": \"54491baec3a3680fb4001ce6\", \"department\": \"Art\", \"gender\": 2, \"id\": 1376898, \"job\": \"Assistant Art Director\", \"name\": \"Jeffrey Wisniewski\"}, {\"credit_id\": \"54491d2fc3a3680fb4001d07\", \"department\": \"Editing\", \"gender\": 0, \"id\": 1376899, \"job\": \"Dialogue Editor\", \"name\": \"Cheryl Nardi\"}, {\"credit_id\": \"54491d86c3a3680fa5001b2f\", \"department\": \"Editing\", \"gender\": 0, \"id\": 1376901, \"job\": \"Dialogue Editor\", \"name\": \"Marshall Winn\"}, {\"credit_id\": \"54491d9dc3a3680faa001bb0\", \"department\": \"Sound\", \"gender\": 0, \"id\": 1376902, \"job\": \"Supervising Sound Editor\", \"name\": \"Gwendolyn Yates Whittle\"}, {\"credit_id\": \"54491dc10e0a267486001bce\", \"department\": \"Sound\", \"gender\": 0, \"id\": 1376903, \"job\": \"Sound Re-Recording Mixer\", \"name\": \"William Stein\"}, {\"credit_id\": \"54491f500e0a26747c001c07\", \"department\": \"Crew\", \"gender\": 0, \"id\": 1376909, \"job\": \"Choreographer\", \"name\": \"Lula Washington\"}, {\"credit_id\": \"549599239251412c4e002a2e\", \"department\": \"Visual Effects\", \"gender\": 0, \"id\": 1391692, \"job\": \"Visual Effects Producer\", \"name\": \"Chris Del Conte\"}, {\"credit_id\": \"54959d54c3a36831b8001d9a\", \"department\": \"Visual Effects\", \"gender\": 2, \"id\": 1391695, \"job\": \"Visual Effects Supervisor\", \"name\": \"R. Christopher White\"}, {\"credit_id\": \"54959bdf9251412c4e002a66\", \"department\": \"Visual Effects\", \"gender\": 0, \"id\": 1394070, \"job\": \"Visual Effects Supervisor\", \"name\": \"Dan Lemmon\"}, {\"credit_id\": \"5495971d92514132ed002922\", \"department\": \"Sound\", \"gender\": 0, \"id\": 1394129, \"job\": \"Sound Effects Editor\", \"name\": \"Tim Nielsen\"}, {\"credit_id\": \"5592b25792514152cc0011aa\", \"department\": \"Crew\", \"gender\": 0, \"id\": 1394286, \"job\": \"CG Supervisor\", \"name\": \"Michael Mulholland\"}, {\"credit_id\": \"54959a329251416e2b004355\", \"department\": \"Crew\", \"gender\": 0, \"id\": 1394750, \"job\": \"Visual Effects Editor\", \"name\": \"Thomas Nittmann\"}, {\"credit_id\": \"54959d6dc3a3686ae9004401\", \"department\": \"Visual Effects\", \"gender\": 0, \"id\": 1394755, \"job\": \"Visual Effects Supervisor\", \"name\": \"Edson Williams\"}, {\"credit_id\": \"5495a08fc3a3686ae300441c\", \"department\": \"Editing\", \"gender\": 0, \"id\": 1394953, \"job\": \"Digital Intermediate\", \"name\": \"Christine Carr\"}, {\"credit_id\": \"55402d659251413d6d000249\", \"department\": \"Visual Effects\", \"gender\": 0, \"id\": 1395269, \"job\": \"Visual Effects Supervisor\", \"name\": \"John Bruno\"}, {\"credit_id\": \"54959e7b9251416e1e003f3e\", \"department\": \"Camera\", \"gender\": 0, \"id\": 1398970, \"job\": \"Steadicam Operator\", \"name\": \"David Emmerichs\"}, {\"credit_id\": \"54959734c3a3686ae10045e0\", \"department\": \"Sound\", \"gender\": 0, \"id\": 1400906, \"job\": \"Sound Effects Editor\", \"name\": \"Christopher Scarabosio\"}, {\"credit_id\": \"549595dd92514130fc002d79\", \"department\": \"Production\", \"gender\": 0, \"id\": 1401784, \"job\": \"Production Supervisor\", \"name\": \"Jennifer Teves\"}, {\"credit_id\": \"549596009251413af70028cc\", \"department\": \"Production\", \"gender\": 0, \"id\": 1401785, \"job\": \"Production Manager\", \"name\": \"Brigitte Yorke\"}, {\"credit_id\": \"549596e892514130fc002d99\", \"department\": \"Sound\", \"gender\": 0, \"id\": 1401786, \"job\": \"Sound Effects Editor\", \"name\": \"Ken Fischer\"}, {\"credit_id\": \"549598229251412c4e002a1c\", \"department\": \"Crew\", \"gender\": 0, \"id\": 1401787, \"job\": \"Special Effects Coordinator\", \"name\": \"Iain Hutton\"}, {\"credit_id\": \"549598349251416e2b00432b\", \"department\": \"Crew\", \"gender\": 0, \"id\": 1401788, \"job\": \"Special Effects Coordinator\", \"name\": \"Steve Ingram\"}, {\"credit_id\": \"54959905c3a3686ae3004324\", \"department\": \"Visual Effects\", \"gender\": 0, \"id\": 1401789, \"job\": \"Visual Effects Producer\", \"name\": \"Joyce Cox\"}, {\"credit_id\": \"5495994b92514132ed002951\", \"department\": \"Visual Effects\", \"gender\": 0, \"id\": 1401790, \"job\": \"Visual Effects Producer\", \"name\": \"Jenny Foster\"}, {\"credit_id\": \"549599cbc3a3686ae1004613\", \"department\": \"Crew\", \"gender\": 0, \"id\": 1401791, \"job\": \"Visual Effects Editor\", \"name\": \"Christopher Marino\"}, {\"credit_id\": \"549599f2c3a3686ae100461e\", \"department\": \"Crew\", \"gender\": 0, \"id\": 1401792, \"job\": \"Visual Effects Editor\", \"name\": \"Jim Milton\"}, {\"credit_id\": \"54959a51c3a3686af3003eb5\", \"department\": \"Visual Effects\", \"gender\": 0, \"id\": 1401793, \"job\": \"Visual Effects Producer\", \"name\": \"Cyndi Ochs\"}, {\"credit_id\": \"54959a7cc3a36811530026f4\", \"department\": \"Crew\", \"gender\": 0, \"id\": 1401794, \"job\": \"Visual Effects Editor\", \"name\": \"Lucas Putnam\"}, {\"credit_id\": \"54959b91c3a3680ff5002cb4\", \"department\": \"Visual Effects\", \"gender\": 0, \"id\": 1401795, \"job\": \"Visual Effects Supervisor\", \"name\": \"Anthony \\'Max\\' Ivins\"}, {\"credit_id\": \"54959bb69251412c4e002a5f\", \"department\": \"Visual Effects\", \"gender\": 0, \"id\": 1401796, \"job\": \"Visual Effects Supervisor\", \"name\": \"John Knoll\"}, {\"credit_id\": \"54959cbbc3a3686ae3004391\", \"department\": \"Visual Effects\", \"gender\": 2, \"id\": 1401799, \"job\": \"Visual Effects Supervisor\", \"name\": \"Eric Saindon\"}, {\"credit_id\": \"54959d06c3a3686ae90043f6\", \"department\": \"Visual Effects\", \"gender\": 0, \"id\": 1401800, \"job\": \"Visual Effects Supervisor\", \"name\": \"Wayne Stables\"}, {\"credit_id\": \"54959d259251416e1e003f11\", \"department\": \"Visual Effects\", \"gender\": 0, \"id\": 1401801, \"job\": \"Visual Effects Supervisor\", \"name\": \"David Stinnett\"}, {\"credit_id\": \"54959db49251413af7002975\", \"department\": \"Visual Effects\", \"gender\": 0, \"id\": 1401803, \"job\": \"Visual Effects Supervisor\", \"name\": \"Guy Williams\"}, {\"credit_id\": \"54959de4c3a3681153002750\", \"department\": \"Crew\", \"gender\": 0, \"id\": 1401804, \"job\": \"Stunt Coordinator\", \"name\": \"Stuart Thorp\"}, {\"credit_id\": \"54959ef2c3a3680fc60027f2\", \"department\": \"Lighting\", \"gender\": 0, \"id\": 1401805, \"job\": \"Best Boy Electric\", \"name\": \"Giles Coburn\"}, {\"credit_id\": \"54959f07c3a3680fc60027f9\", \"department\": \"Camera\", \"gender\": 2, \"id\": 1401806, \"job\": \"Still Photographer\", \"name\": \"Mark Fellman\"}, {\"credit_id\": \"54959f47c3a3681153002774\", \"department\": \"Lighting\", \"gender\": 0, \"id\": 1401807, \"job\": \"Lighting Technician\", \"name\": \"Scott Sprague\"}, {\"credit_id\": \"54959f8cc3a36831b8001df2\", \"department\": \"Visual Effects\", \"gender\": 0, \"id\": 1401808, \"job\": \"Animation Director\", \"name\": \"Jeremy Hollobon\"}, {\"credit_id\": \"54959fa0c3a36831b8001dfb\", \"department\": \"Visual Effects\", \"gender\": 0, \"id\": 1401809, \"job\": \"Animation Director\", \"name\": \"Orlando Meunier\"}, {\"credit_id\": \"54959fb6c3a3686af3003f54\", \"department\": \"Visual Effects\", \"gender\": 0, \"id\": 1401810, \"job\": \"Animation Director\", \"name\": \"Taisuke Tanimura\"}, {\"credit_id\": \"54959fd2c3a36831b8001e02\", \"department\": \"Costume & Make-Up\", \"gender\": 0, \"id\": 1401812, \"job\": \"Set Costumer\", \"name\": \"Lilia Mishel Acevedo\"}, {\"credit_id\": \"54959ff9c3a3686ae300440c\", \"department\": \"Costume & Make-Up\", \"gender\": 0, \"id\": 1401814, \"job\": \"Set Costumer\", \"name\": \"Alejandro M. Hernandez\"}, {\"credit_id\": \"5495a0ddc3a3686ae10046fe\", \"department\": \"Editing\", \"gender\": 0, \"id\": 1401815, \"job\": \"Digital Intermediate\", \"name\": \"Marvin Hall\"}, {\"credit_id\": \"5495a1f7c3a3686ae3004443\", \"department\": \"Production\", \"gender\": 0, \"id\": 1401816, \"job\": \"Publicist\", \"name\": \"Judy Alley\"}, {\"credit_id\": \"5592b29fc3a36869d100002f\", \"department\": \"Crew\", \"gender\": 0, \"id\": 1418381, \"job\": \"CG Supervisor\", \"name\": \"Mike Perry\"}, {\"credit_id\": \"5592b23a9251415df8001081\", \"department\": \"Crew\", \"gender\": 0, \"id\": 1426854, \"job\": \"CG Supervisor\", \"name\": \"Andrew Morley\"}, {\"credit_id\": \"55491e1192514104c40002d8\", \"department\": \"Art\", \"gender\": 0, \"id\": 1438901, \"job\": \"Conceptual Design\", \"name\": \"Seth Engstrom\"}, {\"credit_id\": \"5525d5809251417276002b06\", \"department\": \"Crew\", \"gender\": 0, \"id\": 1447362, \"job\": \"Visual Effects Art Director\", \"name\": \"Eric Oliver\"}, {\"credit_id\": \"554427ca925141586500312a\", \"department\": \"Visual Effects\", \"gender\": 0, \"id\": 1447503, \"job\": \"Modeling\", \"name\": \"Matsune Suzuki\"}, {\"credit_id\": \"551906889251415aab001c88\", \"department\": \"Art\", \"gender\": 0, \"id\": 1447524, \"job\": \"Art Department Manager\", \"name\": \"Paul Tobin\"}, {\"credit_id\": \"5592af8492514152cc0010de\", \"department\": \"Costume & Make-Up\", \"gender\": 0, \"id\": 1452643, \"job\": \"Hairstylist\", \"name\": \"Roxane Griffin\"}, {\"credit_id\": \"553d3c109251415852001318\", \"department\": \"Lighting\", \"gender\": 0, \"id\": 1453938, \"job\": \"Lighting Artist\", \"name\": \"Arun Ram-Mohan\"}, {\"credit_id\": \"5592af4692514152d5001355\", \"department\": \"Costume & Make-Up\", \"gender\": 0, \"id\": 1457305, \"job\": \"Makeup Artist\", \"name\": \"Georgia Lockhart-Adams\"}, {\"credit_id\": \"5592b2eac3a36877470012a5\", \"department\": \"Crew\", \"gender\": 0, \"id\": 1466035, \"job\": \"CG Supervisor\", \"name\": \"Thrain Shadbolt\"}, {\"credit_id\": \"5592b032c3a36877450015f1\", \"department\": \"Crew\", \"gender\": 0, \"id\": 1483220, \"job\": \"CG Supervisor\", \"name\": \"Brad Alexander\"}, {\"credit_id\": \"5592b05592514152d80012f6\", \"department\": \"Crew\", \"gender\": 0, \"id\": 1483221, \"job\": \"CG Supervisor\", \"name\": \"Shadi Almassizadeh\"}, {\"credit_id\": \"5592b090c3a36877570010b5\", \"department\": \"Crew\", \"gender\": 0, \"id\": 1483222, \"job\": \"CG Supervisor\", \"name\": \"Simon Clutterbuck\"}, {\"credit_id\": \"5592b0dbc3a368774b00112c\", \"department\": \"Crew\", \"gender\": 0, \"id\": 1483223, \"job\": \"CG Supervisor\", \"name\": \"Graeme Demmocks\"}, {\"credit_id\": \"5592b0fe92514152db0010c1\", \"department\": \"Crew\", \"gender\": 0, \"id\": 1483224, \"job\": \"CG Supervisor\", \"name\": \"Adrian Fernandes\"}, {\"credit_id\": \"5592b11f9251415df8001059\", \"department\": \"Crew\", \"gender\": 0, \"id\": 1483225, \"job\": \"CG Supervisor\", \"name\": \"Mitch Gates\"}, {\"credit_id\": \"5592b15dc3a3687745001645\", \"department\": \"Crew\", \"gender\": 0, \"id\": 1483226, \"job\": \"CG Supervisor\", \"name\": \"Jerry Kung\"}, {\"credit_id\": \"5592b18e925141645a0004ae\", \"department\": \"Crew\", \"gender\": 0, \"id\": 1483227, \"job\": \"CG Supervisor\", \"name\": \"Andy Lomas\"}, {\"credit_id\": \"5592b1bfc3a368775d0010e7\", \"department\": \"Crew\", \"gender\": 0, \"id\": 1483228, \"job\": \"CG Supervisor\", \"name\": \"Sebastian Marino\"}, {\"credit_id\": \"5592b2049251415df8001078\", \"department\": \"Crew\", \"gender\": 0, \"id\": 1483229, \"job\": \"CG Supervisor\", \"name\": \"Matthias Menz\"}, {\"credit_id\": \"5592b27b92514152d800136a\", \"department\": \"Crew\", \"gender\": 0, \"id\": 1483230, \"job\": \"CG Supervisor\", \"name\": \"Sergei Nevshupov\"}, {\"credit_id\": \"5592b2c3c3a36869e800003c\", \"department\": \"Crew\", \"gender\": 0, \"id\": 1483231, \"job\": \"CG Supervisor\", \"name\": \"Philippe Rebours\"}, {\"credit_id\": \"5592b317c3a36877470012af\", \"department\": \"Crew\", \"gender\": 0, \"id\": 1483232, \"job\": \"CG Supervisor\", \"name\": \"Michael Takarangi\"}, {\"credit_id\": \"5592b345c3a36877470012bb\", \"department\": \"Crew\", \"gender\": 0, \"id\": 1483233, \"job\": \"CG Supervisor\", \"name\": \"David Weitzberg\"}, {\"credit_id\": \"5592b37cc3a368775100113b\", \"department\": \"Crew\", \"gender\": 0, \"id\": 1483234, \"job\": \"CG Supervisor\", \"name\": \"Ben White\"}, {\"credit_id\": \"573c8e2f9251413f5d000094\", \"department\": \"Crew\", \"gender\": 1, \"id\": 1621932, \"job\": \"Stunts\", \"name\": \"Min Windle\"}]'"
      ]
     },
     "execution_count": 38,
     "metadata": {},
     "output_type": "execute_result"
    }
   ],
   "source": [
    "movies_dataset['crew'][0]"
   ]
  },
  {
   "cell_type": "markdown",
   "id": "8e682111",
   "metadata": {},
   "source": [
    "###  From the above code cell output we cam observe a list of many dictionaries which consists id,job,name  etc as a key and their detail as a value. so we can build a function which can fetch a name of  director from every dictionary of a list of/from every movies"
   ]
  },
  {
   "cell_type": "code",
   "execution_count": 39,
   "id": "0fa0a035",
   "metadata": {},
   "outputs": [],
   "source": [
    "import ast\n",
    "\n",
    "\n",
    "def fetch_director(text):\n",
    "    dire_name = []\n",
    "    for i in ast.literal_eval(text):\n",
    "        if i['job'] == 'Director':\n",
    "            dire_name.append(i['name'])\n",
    "    return dire_name"
   ]
  },
  {
   "cell_type": "code",
   "execution_count": 40,
   "id": "fa6c7c23",
   "metadata": {},
   "outputs": [
    {
     "name": "stdout",
     "output_type": "stream",
     "text": [
      " Congratulations all task  is done succesfully!!!!!!!!!!!!!! Keep it up . Lets move for another task \n"
     ]
    }
   ],
   "source": [
    " movies_dataset['crew'] = movies_dataset['crew'].apply(fetch_director)\n",
    "print (\" Congratulations all task  is done succesfully!!!!!!!!!!!!!! Keep it up . Lets move for another task \")"
   ]
  },
  {
   "cell_type": "code",
   "execution_count": 41,
   "id": "92a3ffd5",
   "metadata": {},
   "outputs": [
    {
     "data": {
      "text/plain": [
       "0           [James Cameron]\n",
       "1          [Gore Verbinski]\n",
       "2              [Sam Mendes]\n",
       "3       [Christopher Nolan]\n",
       "4          [Andrew Stanton]\n",
       "               ...         \n",
       "4779          [Kevin Smith]\n",
       "4787         [Travis Legge]\n",
       "4797        [Ivan Kavanagh]\n",
       "4802        [Shane Carruth]\n",
       "4807          [Daniel Hsia]\n",
       "Name: crew, Length: 1494, dtype: object"
      ]
     },
     "execution_count": 41,
     "metadata": {},
     "output_type": "execute_result"
    }
   ],
   "source": [
    "movies_dataset['crew']"
   ]
  },
  {
   "cell_type": "code",
   "execution_count": 42,
   "id": "2031942a",
   "metadata": {},
   "outputs": [
    {
     "data": {
      "text/html": [
       "<div>\n",
       "<style scoped>\n",
       "    .dataframe tbody tr th:only-of-type {\n",
       "        vertical-align: middle;\n",
       "    }\n",
       "\n",
       "    .dataframe tbody tr th {\n",
       "        vertical-align: top;\n",
       "    }\n",
       "\n",
       "    .dataframe thead th {\n",
       "        text-align: right;\n",
       "    }\n",
       "</style>\n",
       "<table border=\"1\" class=\"dataframe\">\n",
       "  <thead>\n",
       "    <tr style=\"text-align: right;\">\n",
       "      <th></th>\n",
       "      <th>genres</th>\n",
       "      <th>id</th>\n",
       "      <th>keywords</th>\n",
       "      <th>overview</th>\n",
       "      <th>title</th>\n",
       "      <th>cast</th>\n",
       "      <th>crew</th>\n",
       "    </tr>\n",
       "  </thead>\n",
       "  <tbody>\n",
       "    <tr>\n",
       "      <th>0</th>\n",
       "      <td>[Action, Adventure, Fantasy, Science Fiction, ...</td>\n",
       "      <td>19995</td>\n",
       "      <td>[culture clash, future, space war, space colon...</td>\n",
       "      <td>In the 22nd century, a paraplegic Marine is di...</td>\n",
       "      <td>Avatar</td>\n",
       "      <td>[Sam Worthington, Zoe Saldana, Sigourney Weaver]</td>\n",
       "      <td>[James Cameron]</td>\n",
       "    </tr>\n",
       "  </tbody>\n",
       "</table>\n",
       "</div>"
      ],
      "text/plain": [
       "                                              genres     id  \\\n",
       "0  [Action, Adventure, Fantasy, Science Fiction, ...  19995   \n",
       "\n",
       "                                            keywords  \\\n",
       "0  [culture clash, future, space war, space colon...   \n",
       "\n",
       "                                            overview   title  \\\n",
       "0  In the 22nd century, a paraplegic Marine is di...  Avatar   \n",
       "\n",
       "                                               cast             crew  \n",
       "0  [Sam Worthington, Zoe Saldana, Sigourney Weaver]  [James Cameron]  "
      ]
     },
     "execution_count": 42,
     "metadata": {},
     "output_type": "execute_result"
    }
   ],
   "source": [
    "movies_dataset.head(1)"
   ]
  },
  {
   "cell_type": "code",
   "execution_count": 43,
   "id": "acb17c38",
   "metadata": {},
   "outputs": [
    {
     "data": {
      "text/plain": [
       "'In the 22nd century, a paraplegic Marine is dispatched to the moon Pandora on a unique mission, but becomes torn between following orders and protecting an alien civilization.'"
      ]
     },
     "execution_count": 43,
     "metadata": {},
     "output_type": "execute_result"
    }
   ],
   "source": [
    "movies_dataset['overview'][0]"
   ]
  },
  {
   "cell_type": "code",
   "execution_count": 44,
   "id": "a8de3d6b",
   "metadata": {},
   "outputs": [
    {
     "data": {
      "text/html": [
       "<div>\n",
       "<style scoped>\n",
       "    .dataframe tbody tr th:only-of-type {\n",
       "        vertical-align: middle;\n",
       "    }\n",
       "\n",
       "    .dataframe tbody tr th {\n",
       "        vertical-align: top;\n",
       "    }\n",
       "\n",
       "    .dataframe thead th {\n",
       "        text-align: right;\n",
       "    }\n",
       "</style>\n",
       "<table border=\"1\" class=\"dataframe\">\n",
       "  <thead>\n",
       "    <tr style=\"text-align: right;\">\n",
       "      <th></th>\n",
       "      <th>genres</th>\n",
       "      <th>id</th>\n",
       "      <th>keywords</th>\n",
       "      <th>overview</th>\n",
       "      <th>title</th>\n",
       "      <th>cast</th>\n",
       "      <th>crew</th>\n",
       "    </tr>\n",
       "  </thead>\n",
       "  <tbody>\n",
       "    <tr>\n",
       "      <th>0</th>\n",
       "      <td>[Action, Adventure, Fantasy, Science Fiction, ...</td>\n",
       "      <td>19995</td>\n",
       "      <td>[culture clash, future, space war, space colon...</td>\n",
       "      <td>In the 22nd century, a paraplegic Marine is di...</td>\n",
       "      <td>Avatar</td>\n",
       "      <td>[Sam Worthington, Zoe Saldana, Sigourney Weaver]</td>\n",
       "      <td>[James Cameron]</td>\n",
       "    </tr>\n",
       "  </tbody>\n",
       "</table>\n",
       "</div>"
      ],
      "text/plain": [
       "                                              genres     id  \\\n",
       "0  [Action, Adventure, Fantasy, Science Fiction, ...  19995   \n",
       "\n",
       "                                            keywords  \\\n",
       "0  [culture clash, future, space war, space colon...   \n",
       "\n",
       "                                            overview   title  \\\n",
       "0  In the 22nd century, a paraplegic Marine is di...  Avatar   \n",
       "\n",
       "                                               cast             crew  \n",
       "0  [Sam Worthington, Zoe Saldana, Sigourney Weaver]  [James Cameron]  "
      ]
     },
     "execution_count": 44,
     "metadata": {},
     "output_type": "execute_result"
    }
   ],
   "source": [
    "movies_dataset.head(1)"
   ]
  },
  {
   "cell_type": "markdown",
   "id": "cc8ca1e3",
   "metadata": {},
   "source": [
    "### From the above code cell output we cam observe a strings of many characters ( text ) so we can build a function which can fetch a useful stemmed text from every overview of/from every movies"
   ]
  },
  {
   "cell_type": "code",
   "execution_count": 45,
   "id": "a60a2c72",
   "metadata": {},
   "outputs": [],
   "source": [
    "movies_dataset[\"overview\"] = movies_dataset[\"overview\"].apply(lambda x : x.split())"
   ]
  },
  {
   "cell_type": "code",
   "execution_count": 46,
   "id": "b9daa197",
   "metadata": {},
   "outputs": [
    {
     "data": {
      "text/plain": [
       "['In',\n",
       " 'the',\n",
       " '22nd',\n",
       " 'century,',\n",
       " 'a',\n",
       " 'paraplegic',\n",
       " 'Marine',\n",
       " 'is',\n",
       " 'dispatched',\n",
       " 'to',\n",
       " 'the',\n",
       " 'moon',\n",
       " 'Pandora',\n",
       " 'on',\n",
       " 'a',\n",
       " 'unique',\n",
       " 'mission,',\n",
       " 'but',\n",
       " 'becomes',\n",
       " 'torn',\n",
       " 'between',\n",
       " 'following',\n",
       " 'orders',\n",
       " 'and',\n",
       " 'protecting',\n",
       " 'an',\n",
       " 'alien',\n",
       " 'civilization.']"
      ]
     },
     "execution_count": 46,
     "metadata": {},
     "output_type": "execute_result"
    }
   ],
   "source": [
    "movies_dataset[\"overview\"][0]"
   ]
  },
  {
   "cell_type": "code",
   "execution_count": 47,
   "id": "ca68165c",
   "metadata": {},
   "outputs": [
    {
     "data": {
      "text/html": [
       "<div>\n",
       "<style scoped>\n",
       "    .dataframe tbody tr th:only-of-type {\n",
       "        vertical-align: middle;\n",
       "    }\n",
       "\n",
       "    .dataframe tbody tr th {\n",
       "        vertical-align: top;\n",
       "    }\n",
       "\n",
       "    .dataframe thead th {\n",
       "        text-align: right;\n",
       "    }\n",
       "</style>\n",
       "<table border=\"1\" class=\"dataframe\">\n",
       "  <thead>\n",
       "    <tr style=\"text-align: right;\">\n",
       "      <th></th>\n",
       "      <th>genres</th>\n",
       "      <th>id</th>\n",
       "      <th>keywords</th>\n",
       "      <th>overview</th>\n",
       "      <th>title</th>\n",
       "      <th>cast</th>\n",
       "      <th>crew</th>\n",
       "    </tr>\n",
       "  </thead>\n",
       "  <tbody>\n",
       "    <tr>\n",
       "      <th>0</th>\n",
       "      <td>[Action, Adventure, Fantasy, Science Fiction, ...</td>\n",
       "      <td>19995</td>\n",
       "      <td>[culture clash, future, space war, space colon...</td>\n",
       "      <td>[In, the, 22nd, century,, a, paraplegic, Marin...</td>\n",
       "      <td>Avatar</td>\n",
       "      <td>[Sam Worthington, Zoe Saldana, Sigourney Weaver]</td>\n",
       "      <td>[James Cameron]</td>\n",
       "    </tr>\n",
       "  </tbody>\n",
       "</table>\n",
       "</div>"
      ],
      "text/plain": [
       "                                              genres     id  \\\n",
       "0  [Action, Adventure, Fantasy, Science Fiction, ...  19995   \n",
       "\n",
       "                                            keywords  \\\n",
       "0  [culture clash, future, space war, space colon...   \n",
       "\n",
       "                                            overview   title  \\\n",
       "0  [In, the, 22nd, century,, a, paraplegic, Marin...  Avatar   \n",
       "\n",
       "                                               cast             crew  \n",
       "0  [Sam Worthington, Zoe Saldana, Sigourney Weaver]  [James Cameron]  "
      ]
     },
     "execution_count": 47,
     "metadata": {},
     "output_type": "execute_result"
    }
   ],
   "source": [
    "movies_dataset.head(1)"
   ]
  },
  {
   "cell_type": "markdown",
   "id": "fedd49a1",
   "metadata": {},
   "source": [
    "### Eliminate the white space "
   ]
  },
  {
   "cell_type": "code",
   "execution_count": 48,
   "id": "b531e79f",
   "metadata": {},
   "outputs": [],
   "source": [
    "def collapse(L):\n",
    "    L1 = []\n",
    "    for i in L:\n",
    "        L1.append(i.replace(\" \",\"\"))\n",
    "    return L1"
   ]
  },
  {
   "cell_type": "code",
   "execution_count": 49,
   "id": "b637b0db",
   "metadata": {},
   "outputs": [],
   "source": [
    "movies_dataset['cast'] = movies_dataset['cast'].apply(collapse)\n",
    "movies_dataset['crew'] = movies_dataset['crew'].apply(collapse)\n",
    "movies_dataset['genres'] = movies_dataset['genres'].apply(collapse)\n",
    "movies_dataset['keywords'] = movies_dataset['keywords'].apply(collapse)"
   ]
  },
  {
   "cell_type": "code",
   "execution_count": 50,
   "id": "72811ac7",
   "metadata": {},
   "outputs": [
    {
     "data": {
      "text/html": [
       "<div>\n",
       "<style scoped>\n",
       "    .dataframe tbody tr th:only-of-type {\n",
       "        vertical-align: middle;\n",
       "    }\n",
       "\n",
       "    .dataframe tbody tr th {\n",
       "        vertical-align: top;\n",
       "    }\n",
       "\n",
       "    .dataframe thead th {\n",
       "        text-align: right;\n",
       "    }\n",
       "</style>\n",
       "<table border=\"1\" class=\"dataframe\">\n",
       "  <thead>\n",
       "    <tr style=\"text-align: right;\">\n",
       "      <th></th>\n",
       "      <th>genres</th>\n",
       "      <th>id</th>\n",
       "      <th>keywords</th>\n",
       "      <th>overview</th>\n",
       "      <th>title</th>\n",
       "      <th>cast</th>\n",
       "      <th>crew</th>\n",
       "    </tr>\n",
       "  </thead>\n",
       "  <tbody>\n",
       "    <tr>\n",
       "      <th>0</th>\n",
       "      <td>[Action, Adventure, Fantasy, ScienceFiction, A...</td>\n",
       "      <td>19995</td>\n",
       "      <td>[cultureclash, future, spacewar, spacecolony, ...</td>\n",
       "      <td>[In, the, 22nd, century,, a, paraplegic, Marin...</td>\n",
       "      <td>Avatar</td>\n",
       "      <td>[SamWorthington, ZoeSaldana, SigourneyWeaver]</td>\n",
       "      <td>[JamesCameron]</td>\n",
       "    </tr>\n",
       "  </tbody>\n",
       "</table>\n",
       "</div>"
      ],
      "text/plain": [
       "                                              genres     id  \\\n",
       "0  [Action, Adventure, Fantasy, ScienceFiction, A...  19995   \n",
       "\n",
       "                                            keywords  \\\n",
       "0  [cultureclash, future, spacewar, spacecolony, ...   \n",
       "\n",
       "                                            overview   title  \\\n",
       "0  [In, the, 22nd, century,, a, paraplegic, Marin...  Avatar   \n",
       "\n",
       "                                            cast            crew  \n",
       "0  [SamWorthington, ZoeSaldana, SigourneyWeaver]  [JamesCameron]  "
      ]
     },
     "execution_count": 50,
     "metadata": {},
     "output_type": "execute_result"
    }
   ],
   "source": [
    "movies_dataset.head(1)"
   ]
  },
  {
   "cell_type": "markdown",
   "id": "340c64ca",
   "metadata": {},
   "source": [
    "## Create tag attribute"
   ]
  },
  {
   "cell_type": "code",
   "execution_count": 51,
   "id": "a7ad6119",
   "metadata": {},
   "outputs": [],
   "source": [
    "movies_dataset['tags'] = movies_dataset['genres'] +  movies_dataset['keywords'] +  movies_dataset['cast'] + movies_dataset['crew'] +  movies_dataset['overview']"
   ]
  },
  {
   "cell_type": "code",
   "execution_count": 52,
   "id": "27bd8c16",
   "metadata": {},
   "outputs": [
    {
     "data": {
      "text/html": [
       "<div>\n",
       "<style scoped>\n",
       "    .dataframe tbody tr th:only-of-type {\n",
       "        vertical-align: middle;\n",
       "    }\n",
       "\n",
       "    .dataframe tbody tr th {\n",
       "        vertical-align: top;\n",
       "    }\n",
       "\n",
       "    .dataframe thead th {\n",
       "        text-align: right;\n",
       "    }\n",
       "</style>\n",
       "<table border=\"1\" class=\"dataframe\">\n",
       "  <thead>\n",
       "    <tr style=\"text-align: right;\">\n",
       "      <th></th>\n",
       "      <th>genres</th>\n",
       "      <th>id</th>\n",
       "      <th>keywords</th>\n",
       "      <th>overview</th>\n",
       "      <th>title</th>\n",
       "      <th>cast</th>\n",
       "      <th>crew</th>\n",
       "      <th>tags</th>\n",
       "    </tr>\n",
       "  </thead>\n",
       "  <tbody>\n",
       "    <tr>\n",
       "      <th>0</th>\n",
       "      <td>[Action, Adventure, Fantasy, ScienceFiction, A...</td>\n",
       "      <td>19995</td>\n",
       "      <td>[cultureclash, future, spacewar, spacecolony, ...</td>\n",
       "      <td>[In, the, 22nd, century,, a, paraplegic, Marin...</td>\n",
       "      <td>Avatar</td>\n",
       "      <td>[SamWorthington, ZoeSaldana, SigourneyWeaver]</td>\n",
       "      <td>[JamesCameron]</td>\n",
       "      <td>[Action, Adventure, Fantasy, ScienceFiction, A...</td>\n",
       "    </tr>\n",
       "  </tbody>\n",
       "</table>\n",
       "</div>"
      ],
      "text/plain": [
       "                                              genres     id  \\\n",
       "0  [Action, Adventure, Fantasy, ScienceFiction, A...  19995   \n",
       "\n",
       "                                            keywords  \\\n",
       "0  [cultureclash, future, spacewar, spacecolony, ...   \n",
       "\n",
       "                                            overview   title  \\\n",
       "0  [In, the, 22nd, century,, a, paraplegic, Marin...  Avatar   \n",
       "\n",
       "                                            cast            crew  \\\n",
       "0  [SamWorthington, ZoeSaldana, SigourneyWeaver]  [JamesCameron]   \n",
       "\n",
       "                                                tags  \n",
       "0  [Action, Adventure, Fantasy, ScienceFiction, A...  "
      ]
     },
     "execution_count": 52,
     "metadata": {},
     "output_type": "execute_result"
    }
   ],
   "source": [
    "movies_dataset.head(1)"
   ]
  },
  {
   "cell_type": "code",
   "execution_count": 53,
   "id": "91bf769b",
   "metadata": {},
   "outputs": [
    {
     "data": {
      "text/html": [
       "<div>\n",
       "<style scoped>\n",
       "    .dataframe tbody tr th:only-of-type {\n",
       "        vertical-align: middle;\n",
       "    }\n",
       "\n",
       "    .dataframe tbody tr th {\n",
       "        vertical-align: top;\n",
       "    }\n",
       "\n",
       "    .dataframe thead th {\n",
       "        text-align: right;\n",
       "    }\n",
       "</style>\n",
       "<table border=\"1\" class=\"dataframe\">\n",
       "  <thead>\n",
       "    <tr style=\"text-align: right;\">\n",
       "      <th></th>\n",
       "      <th>id</th>\n",
       "      <th>title</th>\n",
       "      <th>tags</th>\n",
       "    </tr>\n",
       "  </thead>\n",
       "  <tbody>\n",
       "    <tr>\n",
       "      <th>0</th>\n",
       "      <td>19995</td>\n",
       "      <td>Avatar</td>\n",
       "      <td>[Action, Adventure, Fantasy, ScienceFiction, A...</td>\n",
       "    </tr>\n",
       "  </tbody>\n",
       "</table>\n",
       "</div>"
      ],
      "text/plain": [
       "      id   title                                               tags\n",
       "0  19995  Avatar  [Action, Adventure, Fantasy, ScienceFiction, A..."
      ]
     },
     "execution_count": 53,
     "metadata": {},
     "output_type": "execute_result"
    }
   ],
   "source": [
    "movies_dataset = movies_dataset.drop(columns=['overview','genres','keywords','cast','crew'])\n",
    "movies_dataset.head(1)"
   ]
  },
  {
   "cell_type": "code",
   "execution_count": 54,
   "id": "4d7dc89c",
   "metadata": {},
   "outputs": [
    {
     "data": {
      "text/html": [
       "<div>\n",
       "<style scoped>\n",
       "    .dataframe tbody tr th:only-of-type {\n",
       "        vertical-align: middle;\n",
       "    }\n",
       "\n",
       "    .dataframe tbody tr th {\n",
       "        vertical-align: top;\n",
       "    }\n",
       "\n",
       "    .dataframe thead th {\n",
       "        text-align: right;\n",
       "    }\n",
       "</style>\n",
       "<table border=\"1\" class=\"dataframe\">\n",
       "  <thead>\n",
       "    <tr style=\"text-align: right;\">\n",
       "      <th></th>\n",
       "      <th>id</th>\n",
       "      <th>title</th>\n",
       "      <th>tags</th>\n",
       "    </tr>\n",
       "  </thead>\n",
       "  <tbody>\n",
       "    <tr>\n",
       "      <th>0</th>\n",
       "      <td>19995</td>\n",
       "      <td>Avatar</td>\n",
       "      <td>Action Adventure Fantasy ScienceFiction Advent...</td>\n",
       "    </tr>\n",
       "    <tr>\n",
       "      <th>1</th>\n",
       "      <td>285</td>\n",
       "      <td>Pirates of the Caribbean: At World's End</td>\n",
       "      <td>Action Adventure Fantasy ScienceFiction Advent...</td>\n",
       "    </tr>\n",
       "    <tr>\n",
       "      <th>2</th>\n",
       "      <td>206647</td>\n",
       "      <td>Spectre</td>\n",
       "      <td>Action Adventure Fantasy ScienceFiction Advent...</td>\n",
       "    </tr>\n",
       "    <tr>\n",
       "      <th>3</th>\n",
       "      <td>49026</td>\n",
       "      <td>The Dark Knight Rises</td>\n",
       "      <td>Action Adventure Fantasy ScienceFiction Advent...</td>\n",
       "    </tr>\n",
       "    <tr>\n",
       "      <th>4</th>\n",
       "      <td>49529</td>\n",
       "      <td>John Carter</td>\n",
       "      <td>Action Adventure Fantasy ScienceFiction Advent...</td>\n",
       "    </tr>\n",
       "  </tbody>\n",
       "</table>\n",
       "</div>"
      ],
      "text/plain": [
       "       id                                     title  \\\n",
       "0   19995                                    Avatar   \n",
       "1     285  Pirates of the Caribbean: At World's End   \n",
       "2  206647                                   Spectre   \n",
       "3   49026                     The Dark Knight Rises   \n",
       "4   49529                               John Carter   \n",
       "\n",
       "                                                tags  \n",
       "0  Action Adventure Fantasy ScienceFiction Advent...  \n",
       "1  Action Adventure Fantasy ScienceFiction Advent...  \n",
       "2  Action Adventure Fantasy ScienceFiction Advent...  \n",
       "3  Action Adventure Fantasy ScienceFiction Advent...  \n",
       "4  Action Adventure Fantasy ScienceFiction Advent...  "
      ]
     },
     "execution_count": 54,
     "metadata": {},
     "output_type": "execute_result"
    }
   ],
   "source": [
    "movies_dataset['tags'] = movies_dataset['tags'].apply(lambda x: \" \".join(x)) \n",
    "movies_dataset.head()"
   ]
  },
  {
   "cell_type": "markdown",
   "id": "fa38ada7",
   "metadata": {},
   "source": [
    "### Vectorization "
   ]
  },
  {
   "cell_type": "code",
   "execution_count": 55,
   "id": "5650972b",
   "metadata": {},
   "outputs": [],
   "source": [
    "from sklearn.feature_extraction.text import CountVectorizer\n",
    "cv = CountVectorizer(max_features=5000,stop_words='english')"
   ]
  },
  {
   "cell_type": "code",
   "execution_count": 56,
   "id": "93c29600",
   "metadata": {},
   "outputs": [],
   "source": [
    "vector = cv.fit_transform(movies_dataset['tags']).toarray() "
   ]
  },
  {
   "cell_type": "code",
   "execution_count": 57,
   "id": "910786b7",
   "metadata": {},
   "outputs": [
    {
     "data": {
      "text/plain": [
       "(1494, 5000)"
      ]
     },
     "execution_count": 57,
     "metadata": {},
     "output_type": "execute_result"
    }
   ],
   "source": [
    "vector.shape"
   ]
  },
  {
   "cell_type": "code",
   "execution_count": 58,
   "id": "73882fc9",
   "metadata": {},
   "outputs": [],
   "source": [
    "from nltk.stem.porter import PorterStemmer\n",
    "ps = PorterStemmer()"
   ]
  },
  {
   "cell_type": "code",
   "execution_count": 59,
   "id": "f12a208d",
   "metadata": {},
   "outputs": [],
   "source": [
    "def stem(text):\n",
    "    y = []\n",
    "    for i in text.split():\n",
    "        y.append(ps.stem(i))\n",
    "    return \" \".join(y)"
   ]
  },
  {
   "cell_type": "code",
   "execution_count": 60,
   "id": "b93f2629",
   "metadata": {},
   "outputs": [
    {
     "data": {
      "text/plain": [
       "'Action Adventure Fantasy ScienceFiction Adventure Fantasy Action Action Adventure Crime Action Crime Drama Thriller Action Adventure ScienceFiction Fantasy Action Adventure Animation Family Action Adventure ScienceFiction Adventure Fantasy Family Action Adventure Fantasy Adventure Action Thriller Crime Adventure Fantasy Action Action Adventure Western Action Adventure Fantasy ScienceFiction ScienceFiction Action Adventure Adventure Action Fantasy Action Comedy ScienceFiction Action Adventure Fantasy Action Adventure Fantasy Action Adventure Adventure Fantasy Adventure Fantasy Drama Romance Thriller Adventure Action ScienceFiction Action Adventure ScienceFiction Thriller Action Adventure Thriller Action Adventure Fantasy Action Adventure ScienceFiction Family Fantasy Adventure ScienceFiction Action Adventure ScienceFiction Action Adventure Fantasy Adventure Family Action Adventure Fantasy Adventure Action ScienceFiction Animation Family Adventure Comedy Adventure Action Thriller ScienceFiction Animation Family Comedy Action ScienceFiction Thriller Action Action Drama Horror ScienceFiction Thriller Action Adventure Fantasy ScienceFiction Action Family Fantasy Adventure Fantasy Action Romance Action ScienceFiction Adventure Action ScienceFiction Adventure Adventure Action Adventure Animation Family Animation Adventure Comedy Family Action Fantasy Animation Family Action Adventure ScienceFiction Animation Drama ScienceFiction Fantasy Action Adventure Action Adventure ScienceFiction Drama Action Crime Thriller Animation Family Adventure ScienceFiction Action ScienceFiction Adventure Adventure Drama Family Adventure Action Fantasy Action Adventure Crime Fantasy ScienceFiction Fantasy Comedy Family Action ScienceFiction Adventure Action Thriller ScienceFiction Drama Comedy Animation Family Adventure Action ScienceFiction Adventure Fantasy Drama Fantasy Adventure Action Family Romance ScienceFiction Action Drama Thriller Action Adventure ScienceFiction Comedy Adventure Fantasy Animation Family Adventure Family Mystery ScienceFiction Adventure Family Animation Action Comedy Family Animation Comedy Adventure Action Adventure ScienceFiction Fantasy Adventure Animation Family Action ScienceFiction Adventure Adventure Drama ScienceFiction Action Thriller ScienceFiction Mystery Adventure Adventure Fantasy Action Fantasy Drama Thriller Mystery Romance Action ScienceFiction Adventure Action Adventure ScienceFiction Fantasy Adventure Action Comedy Drama Adventure Action Drama Thriller Fantasy Fantasy Adventure Animation Comedy Family Action Adventure Fantasy ScienceFiction Action Thriller Adventure Adventure ScienceFiction Action Adventure Fantasy Family Mystery Adventure Fantasy Family Fantasy Action Drama Horror Action Thriller ScienceFiction Adventure Comedy Family Fantasy Animation Comedy Family Fantasy Action Crime Drama Family Animation Adventure Fantasy Action Comedy Family Adventure Action Thriller ScienceFiction Animation Adventure Family Action Adventure Fantasy Action Adventure ScienceFiction Thriller Adventure Fantasy Action Animation Family Adventure Comedy Fantasy Action Adventure Family Comedy Adventure Comedy Fantasy Action Adventure Thriller Drama Horror Thriller Family Animation Adventure Comedy Animation Family Action Adventure Family Fantasy Adventure Action Thriller Adventure Animation Family Adventure Animation Comedy Family Adventure Action Thriller Action Fantasy Comedy Action Adventure Comedy ScienceFiction Adventure Action Animation Action Adventure Animation Comedy Family Action Thriller Adventure Fantasy Animation Family Comedy Adventure Drama Action Fantasy Action Fantasy Action Adventure Animation Comedy Family Action Mystery ScienceFiction Action Adventure ScienceFiction Adventure Action Thriller Adventure Animation Comedy Family Adventure Family Fantasy Western Drama Adventure Thriller Animation Family Animation Comedy Family Western Adventure Action Drama Mystery Thriller Adventure Animation Family Comedy ScienceFiction Action Adventure Adventure Action ScienceFiction Fantasy Comedy Animation ScienceFiction Family Action Mystery Thriller Drama Adventure Adventure Animation Mystery Animation Action Comedy Family ScienceFiction Adventure Fantasy Family Fantasy Action Comedy Crime Adventure Fantasy Action ScienceFiction Adventure Thriller Thriller Mystery Animation Adventure Comedy Family Action Thriller Crime Adventure Action Crime Mystery Adventure Fantasy Action Action Thriller Family Comedy Fantasy Action Adventure ScienceFiction Thriller Adventure Action Thriller Adventure Drama Action Thriller Action Fantasy Horror Action Thriller ScienceFiction Adventure Mystery Action ScienceFiction Action Family ScienceFiction Comedy Drama Romance Action Comedy Action ScienceFiction Adventure Mystery ScienceFiction Adventure Action Adventure Action ScienceFiction Animation Comedy Family Action ScienceFiction Adventure Fantasy Adventure Action ScienceFiction Adventure Animation Comedy Family Fantasy Action Adventure Drama ScienceFiction Action Adventure Fantasy Comedy ScienceFiction Thriller Drama Fantasy Action Adventure Comedy Action Adventure ScienceFiction Action Drama Thriller Adventure Action Thriller Thriller Crime Adventure ScienceFiction Thriller Action Crime Comedy Action War Animation Family Adventure Comedy Fantasy Animation Family Adventure ScienceFiction Action ScienceFiction Drama Fantasy Family Comedy Animation ScienceFiction Action Adventure Adventure Fantasy Action Drama Action Adventure History War Romance Family Animation Music Drama Adventure ScienceFiction Action Thriller ScienceFiction Adventure Adventure Action Thriller History Crime Drama Drama Crime Thriller Drama Crime Comedy Romance Action Comedy Crime Action Drama Mystery Thriller Drama Western Action Adventure Thriller Fantasy Action Adventure Family Family Fantasy Action Thriller Romance Action Fantasy Horror Mystery Crime Drama Comedy Drama ScienceFiction Animation Adventure Family Fantasy Action Adventure Thriller Action Crime Thriller Thriller Drama Adventure Action History War Action Adventure Drama Thriller Animation Drama History Crime Animation Comedy Family Comedy Drama Romance Animation Comedy Adventure Family Romance Fantasy Family Drama Fantasy Drama Animation Family Adventure Fantasy Action Adventure Fantasy Action Adventure Fantasy Thriller Action Drama ScienceFiction Action Thriller Action Adventure Animation Family Action Adventure Comedy ScienceFiction Animation Comedy Family Animation Comedy Family Animation Comedy Family Adventure Drama Thriller Crime Action Comedy Thriller Crime Mystery Drama Action Adventure Crime Mystery Drama Animation Family Adventure ScienceFiction Adventure Animation Comedy Family Comedy Action Action Comedy ScienceFiction Drama ScienceFiction Mystery Crime Thriller Adventure Family Fantasy Action Adventure Comedy Crime Mystery Thriller Animation Adventure Comedy Family Romance Drama History Drama History Animation Comedy Action Drama Thriller Thriller Crime Adventure Action Thriller Animation Comedy Family Fantasy Comedy Family Fantasy Romance Action Thriller Action Comedy Comedy Romance Comedy Romance Crime Thriller Adventure Animation Family Adventure Action ScienceFiction Adventure Action Comedy Thriller Drama History Romance Action Crime Drama Thriller Drama Animation Family Comedy Fantasy Drama Mystery Action Thriller Drama Action Adventure Comedy Action ScienceFiction Comedy Family Adventure Fantasy ScienceFiction Fantasy Comedy Thriller Adventure Action Adventure Action Thriller ScienceFiction Adventure Fantasy Comedy Action Comedy Crime Thriller Comedy Fantasy Family Music Animation Comedy Action Comedy Thriller Drama Thriller Mystery Romance Comedy Animation Comedy Drama Family Fantasy Comedy Family Animation Adventure Comedy Romance Family ScienceFiction Adventure Action Action Adventure Comedy Fantasy ScienceFiction Action ScienceFiction Thriller Animation Family Adventure Drama Music Romance Fantasy Action Adventure Documentary Family Thriller ScienceFiction Adventure Action Drama Romance Family Animation Drama Adventure Action ScienceFiction Comedy Adventure Animation Fantasy Animation Family Animation Comedy Family Drama Action Thriller ScienceFiction Action Thriller Crime Animation Family Comedy Adventure Family Comedy Music Romance Comedy Comedy Drama Action Adventure Thriller Comedy Drama History Drama Action Comedy Thriller Romance Animation Comedy Family Fantasy Fantasy Action Drama Action War ScienceFiction Family Animation Adventure Comedy Action Fantasy Thriller ScienceFiction Family Animation Romance Comedy Adventure Comedy Drama Thriller Action Drama Comedy Animation Comedy Family Adventure Animation Comedy Family Fantasy Animation Adventure Comedy Family Action Adventure Thriller Animation Adventure Comedy Family Drama Action Thriller War Action Thriller Crime Adventure ScienceFiction Action Comedy Family Animation Fantasy Music Action ScienceFiction Drama War War Drama History Action Drama Crime Adventure Fantasy Romance Family Comedy Drama Fantasy Action Horror Comedy Drama Music Romance Adventure Animation Action Comedy Family Animation Music Family Crime Drama Mystery Mystery Action Thriller ScienceFiction Adventure Action Thriller Thriller Action Drama Adventure Fantasy Drama Romance Animation Family Adventure Drama History Comedy Action Drama History Thriller Action Drama Thriller Comedy Romance Drama Mystery Animation Comedy Family Adventure Drama Horror ScienceFiction Thriller Action ScienceFiction Drama Music Romance Comedy Romance Comedy Drama Drama War Action Adventure Thriller Fantasy Comedy Family Comedy Mystery Drama Romance Comedy Crime Drama Action Comedy Romance ScienceFiction Action Horror Thriller Adventure Fantasy Action Horror ScienceFiction Action Thriller ScienceFiction Drama Horror Thriller Action Fantasy Crime Thriller Adventure Drama Crime Fantasy Drama Comedy Crime ScienceFiction Animation Action Family ScienceFiction Adventure ScienceFiction Comedy Crime Action Drama Thriller War Comedy Romance Crime Drama Mystery Western Animation Comedy Family Action Adventure War Comedy Romance Comedy Family Fantasy Drama Crime Action Adventure Comedy Animation Family Comedy Mystery Thriller Drama Action Drama Mystery Thriller Adventure Action Thriller Action Comedy Crime Comedy Family Action Crime Comedy Romance Action Drama Action Fantasy Adventure Crime Drama Thriller Music Documentary Drama Thriller ScienceFiction Animation Family Thriller ScienceFiction Comedy Family Fantasy Action ScienceFiction Family Animation Adventure Comedy Adventure Animation Family Action Crime Thriller Action Drama Mystery Thriller Crime Adventure Animation Comedy Family Fantasy Crime Drama Action Thriller Drama History Action Romance Comedy Crime ScienceFiction Animation Family Comedy Adventure Drama Romance Action Crime Drama Thriller Drama Action Adventure Crime Drama Mystery Thriller Action ScienceFiction Fantasy Thriller Horror Drama Fantasy Mystery Romance Action Adventure Drama Mystery Romance Fantasy Comedy ScienceFiction Adventure Family Adventure Family Fantasy Action Comedy Thriller Crime ScienceFiction Comedy Adventure Adventure Fantasy Action Drama Action Adventure Comedy War Action Adventure Horror Comedy ScienceFiction Comedy Family Romance Comedy Romance Drama Comedy Action Adventure Horror ScienceFiction Drama Action Adventure History War Comedy Action Comedy Crime Drama Action Fantasy Thriller Action Comedy Drama Family Thriller Comedy Music Family Fantasy Animation Action Drama Thriller Comedy Action Crime Action Adventure Fantasy History Drama Music Family Comedy Comedy Crime Drama Mystery Comedy Drama Romance Fantasy Horror Action Thriller Drama Crime Drama Thriller Comedy Romance Drama Drama Thriller Drama Romance Drama Crime Thriller Drama History Romance Comedy Comedy Romance Action Adventure Comedy Comedy Comedy Drama Romance Action Crime Thriller Adventure Fantasy Drama Romance Adventure Animation Comedy Family Fantasy ScienceFiction Thriller Romance Comedy Fantasy Thriller ScienceFiction Mystery Drama Crime Comedy Action Action Comedy Comedy Fantasy Comedy Music Crime Drama Thriller Drama Comedy Family Action Adventure Drama Mystery ScienceFiction Thriller Comedy Drama Romance Drama Action Thriller Fantasy Fantasy Horror Action Action Thriller ScienceFiction Adventure Drama Thriller Action Drama History Thriller War Horror Mystery Comedy Drama Adventure Family ScienceFiction Action Crime Thriller Family Comedy Drama Fantasy Crime Drama Thriller Horror Drama ScienceFiction Horror Drama ScienceFiction Drama Thriller Crime Action Adventure ScienceFiction Thriller Adventure Animation Family Fantasy ScienceFiction War Action Drama History Thriller Thriller Crime Mystery Comedy Drama Thriller Action Thriller ScienceFiction Comedy Fantasy Thriller Action Crime Drama Comedy Adventure Action Crime Action ScienceFiction Drama ScienceFiction Western Thriller Action Animation Comedy Family Fantasy ScienceFiction ScienceFiction Action Adventure Thriller Action Western Drama Fantasy Thriller Crime Drama Thriller Drama Comedy Drama Thriller Crime Comedy Family Music Horror Action Comedy Romance Drama Adventure Animation Comedy Family Horror Action ScienceFiction Crime Drama Thriller Action Adventure Crime Thriller Fantasy Adventure Animation Comedy Family Adventure Drama Music Romance Action Adventure ScienceFiction Thriller Adventure Comedy Family Fantasy ScienceFiction Drama Romance Western Action Drama Fantasy Action Crime Thriller Drama Romance Crime Adventure Action Comedy Thriller Animation Action Comedy Family Drama Thriller Action Fantasy Action ScienceFiction Thriller Drama ScienceFiction Thriller Action Crime Romance Comedy Action Thriller Crime Action Comedy Crime Romance Comedy Drama Comedy Romance Adventure Action Thriller Fantasy Thriller Horror Action Comedy Crime Adventure Fantasy Action Western Thriller Drama Adventure Comedy Animation Action Thriller Crime Drama Crime Comedy Romance Drama Adventure Comedy Family ScienceFiction Action ScienceFiction Drama Romance Thriller Action Drama Thriller War Horror Drama Comedy Romance Drama Adventure Comedy Family ScienceFiction Romance Drama Thriller Crime Drama Comedy Action Comedy Action Thriller Crime Drama Action Thriller Crime Comedy Comedy Horror Mystery Comedy Drama Romance Comedy Crime Drama Thriller Action Mystery Thriller Drama Mystery Thriller Animation Comedy Adventure Family ScienceFiction Action Adventure Thriller Romance Drama Mystery Fantasy Drama Comedy Family Horror Thriller Fantasy Action ScienceFiction Thriller Horror Adventure Comedy ScienceFiction Horror Mystery Horror Mystery Comedy Drama Comedy Drama Romance Drama Romance Horror Action Thriller Crime Drama Drama History Adventure Animation Comedy Family Comedy Fantasy ScienceFiction Comedy Romance Adventure Drama Romance Action Horror Mystery ScienceFiction Thriller Drama Comedy Thriller Drama Mystery Action Adventure Thriller Drama Action ScienceFiction Drama Comedy Animation Comedy Family Adventure Drama Action Comedy Romance Drama Romance Drama Thriller Drama Romance Thriller Drama Horror Mystery ScienceFiction ScienceFiction Action Thriller Adventure Family Fantasy Adventure ScienceFiction Drama Crime Drama Thriller Romance Comedy Drama Drama Action Comedy Crime Comedy Romance Drama Family Adventure Fantasy Drama Romance Comedy Crime Adventure Action Thriller ScienceFiction Comedy Adventure Family Drama Action Drama Drama Thriller Horror Animation Family Comedy Drama Comedy Crime Drama Adventure Western Comedy Drama Romance Comedy Crime Drama Crime Adventure Comedy Family Drama Romance Comedy Comedy Comedy Comedy Family Comedy Horror Action ScienceFiction Action Action Thriller ScienceFiction Comedy Romance Comedy Drama Romance Drama War Drama Crime History Drama Comedy Fantasy Family Fantasy Comedy Drama Thriller Action Mystery Thriller Crime Drama Crime Action Thriller Comedy Comedy Music Drama History Romance Action Crime Mystery Thriller Drama Fantasy Action Crime Adventure Drama Thriller Action Mystery ScienceFiction Thriller Drama Adventure ScienceFiction Romance Action Crime Thriller Family Fantasy Animation Adventure Horror Action Thriller ScienceFiction Action Crime Drama Action Crime Thriller Adventure Action ScienceFiction Comedy Comedy Family Comedy Romance Action Comedy Action Crime Drama Thriller Crime Comedy Action Thriller ScienceFiction Mystery Thriller Drama Mystery Action ScienceFiction Thriller Crime War Crime Drama Mystery Romance Thriller Drama War Comedy Drama Romance Action Adventure Thriller ScienceFiction Drama Drama Action Adventure Thriller Crime Mystery Thriller ScienceFiction Drama Romance Drama Comedy Romance Comedy Drama Family Music Romance Drama Romance Action Thriller ScienceFiction Comedy Romance Drama Action Crime Comedy Comedy Adventure Action Thriller Adventure Animation Comedy Family Comedy Drama Romance Comedy Romance Fantasy Animation Music Horror Thriller Fantasy Drama Romance Drama Romance Comedy Drama Fantasy Romance Horror Thriller Horror Thriller Comedy Action Thriller Adventure Comedy Romance Drama Drama Horror Thriller Crime Drama Animation Family Action Thriller Comedy Romance Drama Thriller Crime ScienceFiction Action Thriller Drama Comedy Romance Drama Horror Thriller ScienceFiction Thriller Crime Drama Comedy Romance Horror Comedy Action Crime Thriller Comedy Animation Family Drama Comedy Drama Crime Thriller Drama Action Crime Drama Fantasy Drama Action Thriller Romance Action Drama Western Adventure Drama Action History War Action Thriller Crime Fantasy Adventure Animation Adventure Animation Comedy Fantasy Comedy Animation Family Comedy Adventure Fantasy Romance Drama Music Adventure Action Comedy Drama Comedy Drama Music Comedy Drama Fantasy Horror Action Adventure Action Thriller Comedy Action Adventure Comedy Family Comedy Drama Romance ScienceFiction Drama Thriller Action Horror ScienceFiction Comedy Drama Romance Horror Comedy Thriller Adventure Action Thriller Comedy Romance Drama Drama Drama Romance Drama Thriller Comedy Music Drama Comedy Romance Drama History Thriller Drama History Romance Adventure Family Fantasy Horror Mystery Thriller Mystery Thriller Crime Comedy Drama Action Adventure Comedy Family Comedy Romance Action Comedy Horror Thriller Crime Action Comedy ScienceFiction Mystery Thriller Drama Drama Drama History Drama History War Drama Action Thriller ScienceFiction Comedy Romance Adventure Drama Family Comedy Drama Action Drama Thriller Drama Crime Thriller Action Drama Crime Romance Comedy Drama Drama ScienceFiction Comedy Drama Romance Drama Thriller Crime Drama Comedy Drama History Action Adventure Crime Mystery Thriller Fantasy Horror Thriller Thriller ScienceFiction Crime Thriller Horror Thriller Crime Drama History Action Adventure Comedy Fantasy Action Drama Drama War Horror Thriller Drama Thriller Adventure Drama Action Adventure Fantasy Horror Comedy Drama Drama Romance Crime Mystery Comedy Drama Adventure Drama Drama Comedy Comedy Comedy War Action Comedy Drama Romance Comedy Comedy Horror Crime Drama Action Thriller Comedy Horror Adventure Action ScienceFiction Drama Thriller ScienceFiction Action Romance ScienceFiction Drama Drama Comedy Romance Action Thriller Action Thriller History Drama Thriller Crime Mystery Drama History Drama Action History Horror Thriller Comedy ScienceFiction War Drama Romance Comedy Comedy Family Fantasy Action Thriller Drama Thriller Drama Comedy Crime Comedy Drama Mystery Thriller Action Crime Action Comedy Romance Drama Drama Mystery Crime Comedy Drama Drama Comedy Romance Crime Drama Drama Drama Action Drama Thriller Mystery Drama Adventure Action Horror Thriller Horror Thriller Comedy Music Comedy Drama Comedy Romance Drama Romance Drama Comedy Crime Comedy Thriller Horror Drama Mystery Drama Thriller History Horror Thriller Horror Comedy Music Adventure Animation Action Comedy History Drama Comedy Horror Thriller Mystery Drama Thriller Horror Mystery Thriller ScienceFiction Drama Romance Fantasy Horror Action Thriller ScienceFiction Comedy Romance Family Animation Mystery Adventure Crime Action Drama Fantasy Horror Thriller Romance Comedy Drama Adventure Drama Horror Action Thriller Crime Adventure Comedy Family Drama Drama Crime Thriller Documentary Crime Drama Mystery Action Comedy Comedy Romance Action Thriller ScienceFiction Action Thriller Crime Drama Action Adventure Drama Thriller Drama Horror Mystery Action Thriller Drama Drama Comedy Family Comedy Romance Crime Drama Mystery Family Comedy Fantasy Comedy Drama War Drama Thriller Animation ScienceFiction Thriller Comedy Drama Family Music Crime Drama Thriller Drama Drama Music Adventure Comedy Drama Romance Drama Drama War Drama Action Thriller Crime Action Comedy Horror Mystery ScienceFiction Thriller Comedy Animation Adventure Family Thriller Comedy Comedy Adventure Comedy ScienceFiction Family Action Drama Comedy Romance Drama Fantasy Adventure Animation Family Drama Comedy Adventure Romance Romance Comedy Comedy Drama Romance Comedy Crime Drama Comedy Romance Fantasy Comedy Thriller Action ScienceFiction Drama Comedy Crime Family Comedy Crime Horror Comedy Horror Action Drama Drama Romance Comedy Family Drama History Comedy Romance Drama Comedy Romance Action Crime Drama Romance Action Crime Thriller Drama Romance Adventure Drama ScienceFiction Drama Comedy Animation Comedy Family Drama History War Action Crime Drama Thriller Drama Music Comedy Drama Romance Horror Thriller Comedy Family ScienceFiction Action Comedy Crime Thriller Horror Crime Drama Fantasy Romance Horror Thriller Comedy Music Romance Horror Comedy Romance Action Crime Drama Thriller Adventure Thriller Action Adventure Comedy Drama ScienceFiction Thriller Horror Thriller Drama Mystery Romance Drama Romance Drama Comedy Romance Horror Thriller Mystery Comedy Drama Romance Fantasy Drama War Thriller Drama Horror Crime Action Comedy Drama Romance Drama Comedy Family Drama Drama History History Drama Thriller War Comedy Family Horror Drama Drama Horror Thriller Horror Thriller Family Comedy Horror Comedy Fantasy Action Crime Drama Drama Romance Horror Crime Thriller Horror Drama Comedy Romance Drama Action Thriller Crime Comedy Comedy Family Action Comedy Drama Romance Drama Crime Crime Action Thriller Drama Thriller War Crime Thriller Music Documentary Drama Romance Crime Thriller Music Drama Romance Comedy Crime Drama Drama Thriller Comedy Drama Crime Comedy Music Comedy Comedy Romance Thriller Drama Romance ScienceFiction Horror Thriller Crime Drama Thriller ScienceFiction Action Thriller ScienceFiction Adventure Action Thriller Adventure Action Drama Mystery Drama Crime Thriller Horror Drama Animation Adventure Family Thriller ScienceFiction Drama Action Thriller Crime Drama Romance Drama Drama Romance Mystery Horror Adventure Action Thriller Comedy Drama Romance History Drama Drama Romance Comedy Comedy Romance Romance Drama Drama Romance Comedy Crime Drama History War Documentary Music Family Drama Thriller Drama Comedy Comedy Family Horror Drama Thriller Crime Thriller ScienceFiction Horror Thriller Drama ScienceFiction Action Adventure Drama War Drama Thriller Drama Romance Action Comedy ScienceFiction Drama Romance War Crime Thriller Crime Drama Thriller Comedy Romance Drama Comedy Drama Romance Action Comedy Thriller Crime Comedy Drama Drama Family Drama Horror Thriller Horror Thriller Adventure Comedy Romance Thriller ScienceFiction Action Thriller War Comedy Adventure Drama Horror Thriller Comedy Documentary Music Comedy Drama Fantasy Romance Family Comedy Comedy Drama Action Drama History War Adventure ScienceFiction Thriller Comedy Drama Drama Horror Thriller Fantasy Drama ScienceFiction Romance Adventure Drama Family Drama Romance Crime Drama Thriller Drama Thriller Thriller ScienceFiction Mystery Drama Drama Romance Drama Adventure Action ScienceFiction Comedy Drama Comedy Family ScienceFiction Drama Romance Horror Mystery Adventure Drama Romance Drama Drama Thriller Crime Crime Drama Mystery Thriller Horror ScienceFiction Adventure Family Fantasy Romance Comedy Drama Drama Comedy Romance Foreign History Drama Drama Comedy Action Horror Thriller Horror Thriller Crime Adventure Comedy ScienceFiction Drama Comedy Horror Mystery Thriller Horror Mystery Thriller Fantasy Comedy Adventure Drama Thriller Adventure Family Fantasy Horror Mystery ScienceFiction Thriller Drama Action Thriller Comedy Drama Family Comedy Drama Family Romance Documentary Music Thriller Mystery Action Adventure Comedy Comedy Comedy Drama Action Crime Drama Romance Comedy Romance Drama ScienceFiction Mystery Drama Drama Romance Comedy Horror Thriller Comedy Drama Mystery Drama Mystery Thriller Crime Drama Thriller Comedy Drama Action Adventure Comedy Thriller Comedy Drama Comedy Romance Horror Comedy Thriller Drama Thriller Comedy Drama Romance Drama Family Drama Horror Thriller Comedy Romance Drama Action Comedy Western Comedy Action Thriller Adventure Comedy Drama Romance Action Comedy Thriller Drama Comedy Family Horror Action Thriller ScienceFiction Adventure Action Thriller Horror Comedy ScienceFiction Drama Action Crime Drama Comedy Romance Drama Romance Animation ScienceFiction Drama History War Romance Comedy Drama Romance Drama Romance Crime Drama Thriller Comedy Drama Comedy Drama Adventure Adventure Action Thriller Drama Comedy Action Thriller Crime Comedy Comedy Comedy Drama Animation Family Fantasy Drama Romance Romance Comedy Drama Horror Action Comedy ScienceFiction Animation Drama Comedy Romance Thriller Crime Drama Romance Drama Romance Comedy Drama Thriller Adventure Fantasy Drama Thriller Thriller Horror Comedy Drama Romance Adventure Action Thriller Drama Crime Comedy Drama Romance Drama Comedy Adventure Action Thriller Comedy Drama Family Comedy Romance Comedy Drama History Crime Drama Adventure Action Thriller Drama Horror Crime Crime Drama Comedy Horror Romance Drama Comedy Drama Romance Drama Family Drama Romance Drama Comedy Action Thriller Crime Horror Thriller Drama War Mystery Action Comedy Crime Drama Drama Action Crime Horror Drama Thriller Drama History Action Thriller ScienceFiction Comedy Drama Romance Drama Crime Thriller Drama Romance ScienceFiction Action Comedy Family Drama Thriller Comedy Western Action Comedy Thriller Crime Drama Romance Mystery Drama Thriller Horror Drama Crime Drama Thriller Drama Drama History War Drama Thriller Comedy Drama Romance Thriller Horror Comedy Music Family Comedy ScienceFiction Comedy Romance Comedy Drama Comedy Thriller Action Drama ScienceFiction Comedy Thriller Horror Drama Action Crime Foreign Horror Thriller Thriller ScienceFiction Drama Horror Thriller Horror Mystery Thriller Comedy Drama Horror Thriller Drama Crime Drama Horror Horror Thriller ScienceFiction Comedy Drama Romance Comedy ScienceFiction Drama Drama History Comedy Drama Drama Fantasy Comedy Drama Romance Drama Horror Crime Thriller Drama ScienceFiction Mystery Drama Foreign History Horror Thriller Thriller Romance Comedy Comedy Drama Comedy Fantasy Horror Thriller Horror Comedy Drama Drama Comedy Romance Comedy Drama Romance Comedy Drama Thriller Adventure Action Western Drama Horror Mystery Thriller Comedy Drama Family Music TVMovie Romance Crime Drama Thriller Horror ScienceFiction Horror Drama Romance Thriller Comedy Drama Action Horror ScienceFiction Thriller Comedy Mystery Comedy Crime Thriller Romance Drama Romance Crime Comedy Romance Comedy Foreign Crime Drama Thriller Drama Horror Action Thriller ScienceFiction Horror Horror Horror Comedy Crime Drama Drama Comedy Romance Comedy Drama Comedy Mystery Horror TVMovie Horror Fantasy Horror Documentary Documentary Family Thriller Drama Drama Drama Crime Drama Music Drama Romance Drama Thriller Crime Drama Romance Comedy Comedy Adventure Action Thriller ScienceFiction Horror Drama Crime Horror Thriller Documentary Adventure Fantasy Animation Action Family Action Horror ScienceFiction Thriller Crime Drama Action Comedy Thriller Comedy Romance Comedy Romance Drama Horror Romance Crime Action Documentary Adventure Family Fantasy Comedy ScienceFiction Thriller Documentary Comedy Horror Documentary Comedy Documentary ScienceFiction Comedy Drama Crime Comedy Drama Romance Comedy Documentary Drama ScienceFiction Thriller Comedy Action Drama Crime Drama Crime Animation Family Music Horror Mystery Thriller Horror ScienceFiction Action Thriller Adventure Crime Drama Drama Comedy Drama Drama Romance Drama Documentary Crime Drama Thriller Action Romance Drama Comedy Documentary Drama Western Drama Adventure Family Thriller Horror Comedy Thriller Horror Crime Drama Horror Thriller Thriller Comedy Fantasy Music Thriller Drama Thriller Mystery Drama Comedy Romance Documentary Drama History Thriller Documentary Crime History Horror Drama Thriller Drama Drama Romance Drama Fantasy Comedy Documentary Adventure Drama Foreign Adventure Family Drama Drama Music Horror Thriller Comedy Romance Comedy Horror Comedy Horror Drama Horror Thriller Horror Comedy Thriller Comedy Family Drama Drama Mystery Horror Thriller Fantasy Animation Family Drama Thriller Horror Comedy Crime Adventure Animation Comedy Family Drama Western Drama Comedy Documentary Horror Action Thriller Crime Horror Thriller Drama Comedy Romance Adventure Action Thriller Horror Thriller Drama Romance Drama Thriller Horror Comedy Drama Thriller Documentary Documentary Music Documentary Drama Drama Thriller Documentary Comedy Drama Romance Comedy Drama Fantasy Romance Documentary Documentary Drama Adventure Documentary Drama Action Comedy Thriller Crime Romance Drama Crime Drama ScienceFiction Drama Horror Horror Thriller Mystery Horror Thriller Drama Mystery Thriller Comedy Drama Thriller Drama Animation Drama Family Comedy Drama Romance Action Comedy ScienceFiction Horror Comedy Comedy Documentary Horror Thriller Horror Drama Thriller Crime Horror Mystery Thriller Drama Mystery Drama Thriller Drama Drama Horror Mystery Comedy Music Drama Comedy Drama Documentary Comedy Crime Family Crime Drama Romance Drama Comedy Drama Fantasy Horror Mystery Drama Thriller ScienceFiction Comedy Horror Music Horror Thriller Comedy Mystery Crime Thriller Horror Mystery Adventure Comedy Fantasy Documentary History Documentary Documentary Drama Music Documentary Comedy Drama Comedy Horror Thriller Drama Thriller Crime Comedy Drama Romance Drama Romance Thriller Drama Drama Drama Thriller Thriller Mystery Drama Family Drama Action Crime Foreign Documentary Drama Comedy Drama Romance ScienceFiction Drama Drama Comedy Family Drama Romance Action Drama Romance Drama Music Romance Documentary Drama Comedy Comedy Drama Drama Horror Thriller Mystery Drama Thriller Drama Romance Comedy Drama Documentary Thriller ScienceFiction Drama Horror Documentary Music Drama Action Comedy Comedy Comedy Romance Horror ScienceFiction Drama Thriller cultureclash future spacewar spacecolony society spacetravel futuristic romance space alien tribe alienplanet cgi marine soldier battle loveaffair antiwar powerrelations mindandsoul 3d ocean drugabuse exoticisland eastindiatradingcompany loveofone\\'slife traitor shipwreck strongwoman ship alliance calypso afterlife fighter pirate swashbuckler aftercreditsstinger spy basedonnovel secretagent sequel mi6 britishsecretservice unitedkingdom dccomics crimefighter terrorist secretidentity burglar hostagedrama timebomb gothamcity vigilante cover-up superhero villainess tragichero terrorism destruction catwoman catburglar imax flood criminalunderworld batman basedonnovel mars medallion spacetravel princess alien steampunk martian escape edgarriceburroughs alienrace superhumanstrength marscivilization swordandplanet 19thcentury 3d dualidentity amnesia sandstorm loveofone\\'slife forgiveness spider wretch deathofafriend egomania sand narcism hostility marvelcomic sequel superhero revenge hostage magic horse fairytale musical princess animation tower blondewoman selfishness healingpower basedonfairytale duringcreditsstinger healinggift animalsidekick marvelcomic sequel superhero basedoncomicbook vision superheroteam duringcreditsstinger marvelcinematicuniverse 3d witch magic broom schoolofwitchcraft wizardry apparition teenagecrush werewolf dccomics vigilante superhero basedoncomicbook revenge superpowers clarkkent brucewayne dcextendeduniverse killing undercover secretagent britishsecretservice witch fortuneteller bondage exoticisland monster captain cardgame eastindiatradingcompany compass ship daughter pirate swashbuckler aftercreditsstinger texas horse survivor texasranger partner outlaw escape lawyer train loneranger comanche theloneranger tonto savingtheworld dccomics superhero basedoncomicbook superhuman alieninvasion reboot superpowers dcextendeduniverse newyork shield marvelcomic superhero basedoncomicbook alieninvasion superheroteam aftercreditsstinger duringcreditsstinger marvelcinematicuniverse sea captain mutiny sword primeminister sailing silver ship duke mermaid pirate soldier battle swashbuckler aftercreditsstinger 3d timetravel timemachine alien fictionalgovernmentagency seeingthefuture changinghistory corruption elves dwarves orcs middle-earth(tolkien) hobbit dragon battle unlikelyfriendship epicbattle swordandsorcery lossoffather vigilante serum marvelcomic scientificexperiment spiderbite maskedvigilante reboot superpowers geneticengineering socialoutcast duringcreditsstinger robinhood archer knight sherwoodforest bowandarrow middleages medieval kingofengland elves dwarves orcs hobbit dragon wizard swordandsorcery england compass experiment lordship uncle polarbear orphan animal basedonyoungadultnovel shipwreck iceberg ship panic titanic oceanliner epic richwoman-poorman love disaster tragiclove classdifferences imax starcrossedlovers steerage salvage richsnob 3d 1910s civilwar war marvelcomic sequel superhero basedoncomicbook imax aftercreditsstinger duringcreditsstinger marvelcinematicuniverse 3d monster dna tyrannosaurusrex velociraptor island sequel suspense disaster escape dinosaur amusementpark animalattack themepark jurassicpark 3d animalhorror spy secretagent sociopath killer artgallery britishsecretservice istanbulturkey imax uzi boobytrap impersonatingapoliceofficer macao dualidentity loveofone\\'slife pizzaboy marvelcomic sequel superhero doctor scientist tentacle death supervillain terrorist waronterror tennessee malibu marvelcomic superhero basedoncomicbook tonystark ironman aftercreditsstinger marvelcinematicuniverse mandarin 3d warmachine ironpatriot extremis basedonnovel fictionalplace queen fantasy aliceinwonderland fantasyworld 3d egypt sun chaos symbol artifact transformers tank robot imax duringcreditsstinger sequel alien transformers giantrobot robot imax transformingrobot circus witch magic hope illusion lost magictrick wizard 3d obsession marvelcomic sequel basedoncomicbook electrocution medicalexperiment electricity superpowers artificialintelligence secretidentity computerprogram dystopia computer deception duel motorcycle neonlight autocracy carrace sequel comedy anthropomorphism bestfriend duringcreditsstinger dccomics transformation superhero alien alieninfection magicalobject protector superpowers origin 3d hostage college toy barbie animation escape daycare teddybear duringcreditsstinger toycomestolife personification inanimateobjectscomingtolife toystory savingtheworld artificialintelligence prophecy sanfrancisco cyborg killerrobot gasstation post-apocalyptic dystopia army firearm wartime losangeles carrace speed revenge suspense car race musclecar dystopia apocalypse zombie nuclearweapons multipleperspectives zombieapocalypse 1970s mutant timetravel marvelcomic basedoncomicbook superhuman storm beast aftercreditsstinger changingthepastorfuture basedonfairytale giant persia sandstorm brotheragainstbrother armageddon regent basedonvideogame dystopia giantrobot giantmonster apocalypse imax duringcreditsstinger 3d moon spacecraft traitor bodyguard alienplanet basedoncartoon transformers giantrobot sabotage worddomination commando duringcreditsstinger savingtheworld riddle whip treasure mexicocity leatherjacket machinegun alienphenomenons mayacivilization peru treasurehunt nuclearexplosion refrigerator archaeologist indianajones archeology\\xa0 tyrannosaurusrex friends alternatehistory dinosaur fear storm nature human journey scotland rebel bravery kingdom archer wish bear scot rebelliousdaughter turnsintoanimal archery ruins aftercreditsstinger peaceoffering womandirector courage 3d romanticcomedy civilization naturaldisaster endoftheworld disaster apocalypse destruction volcaniceruption mayan ark solar destructionofmankind holiday basedonnovel victorianengland money christmaseve scrooge christmascarol ghost lesson charlesdickens christmas jupiter space womandirector 3d interspeciesromance africa feralchild tarzan jungle animalattack mutant supernaturalpowers marvelcomic superhero basedoncomicbook superhuman apocalypse superheroteam worlddomination aftercreditsstinger 1980s dccomics crimefighter secretidentity scarecrow sadism chaos gothamcity vigilante joker superhero basedoncomicbook tragichero organizedcrime criminalmastermind districtattorney imax supervillain superpowers batman alien giantrobot duringcreditsstinger middleeast armsdealer malibu marvelcomic superhero basedoncomicbook tonystark ironman aftercreditsstinger marvelcinematicuniverse counterterrorism agentcoulson library clock filmdirector key toy boy love orphan robot automaton hiding filmmaking legbrace doberman 3d dccomics shareduniverse antihero secretmission villain superhero supervillain dcextendeduniverse fathersonrelationship dailylife marriedcouple support father marriage faith baustelle rescue animal nature duringcreditsstinger noah\\'sark dejavu timewarp restart dystopia war alien militaryofficer soldier alieninvasion exoskeleton terrorist secret hostage technology warhead government president revenge murder attack explosion scientist lasers evil cobra dream cartoon imaginaryfriend animation family moving kids unicorn duringcreditsstinger 3d emotions malibu marvelcomic superhero basedoncomicbook revenge aftercreditsstinger marvelcinematicuniverse queen magic fairytale immortality forest deception woman eternalyouth snowwhite evilqueen evilstepmother imprisoned sorceress fairytale villain sleepingbeauty darkfantasy basedonfairytale adaptation retelling literaryadaptation 3d leader colony post-apocalyptic dystopia forest sequel woods ape scientist monkey medicalresearch animalattack plague 3d washingtond.c. future shield marvelcomic superhero basedoncomicbook captainamerica aftercreditsstinger duringcreditsstinger marvelcinematicuniverse 3d politicalthriller ogre 3d inventor apocalypse destiny imax dreamer futuristiccar futuristiccity brotherbrotherrelationship hero talent revenge bestfriend anotherdimension robot boygenius hate aftercreditsstinger moraldilemma 3d teensuperheroes deadbrother supportgroup productplacement bullying racing arcade medal selfesteem curiosity precociouschild aftercreditsstinger duringcreditsstinger firstpersonshooter glitch carefree videogamer q*bert interruptedwedding socialreject alternatehistory alieninvasion flying blacksmith arena island night ship training village forest viking friendship ignorance flight nest dragon battle combat well warrior marvelcomic spaceship space outerspace orphan adventurer aftercreditsstinger duringcreditsstinger marvelcinematicuniverse savingtheworld artificialintelligence fathersonrelationship singleparent nasa expedition wormhole spacetravel famine blackhole dystopia raceagainsttime quantummechanics spaceship space rescue familyrelationships farmhouse robot astronaut scientist fatherdaughterrelationship singlefather farmer spacestation imax astrophysics zerogravity courage timeparadox relativity lossoflover dream kidnapping sleep subconsciousness heist redemption femalehero riddle elves dwarves orcs middle-earth(tolkien) hobbit mountains wizard journey ring goblin courage giant tunnel undergroundlake buriedtreasure climbingatree invisibility ancient gnomes diary navy funeral tea travel hospital cia mutant mine marvelcomic superhero basedoncomicbook superhuman historicalfiction nuclearwar cubanmissilecrisis worldwariii 1960s revolution strongwoman dystopia gameofdeath 3d basedonyoungadultnovel witch fire wolf fountain magic book castle water apprentice training merlin love mission sorcerer dragon aftercreditsstinger apprendista morgana newyear\\'seve fire drowning cataclysm lossoffather atlanticocean ball self-abandonment shipwreck giantwave blackout ship daughter single escape capsizedship basedonnovel clock queen sequel aliceinwonderland darkfantasy madhatter 3d ambush sadness stage liberationofprisoners island traitor shipwreck prince ship donkey kingdom theatreplay transformation conciliation tricks heirtothethrone assault boardingschool coupd\\'etat teacher bestfriend dragon cowardliness pregnancy capture duringcreditsstinger videogame elves orcs magic chase basedoncomicbook sorcerer fictionalwar basedonvideogame wizard fictionallanguage muscles orc swordandsorcery savingtheworld artificialintelligence cyborg killerrobot future timetravel dystopia sequel fiction duringcreditsstinger 3d destroy transformation alien basedontoy transformers robot duringcreditsstinger teenagehero prophecy witch lossoflover magic cuttingthecord childhero dyinganddeath broom sorcerer\\'sapprentice schoolofwitchcraft blackmagic deathofafriend sorcery occultism magic dyinganddeath broom sorcerer\\'sapprentice schoolofwitchcraft chosenone blackmagic boardingschool vision tournament teenager wizard teenagehero basedonyoungadultnovel flying alcohol loveofone\\'slife forbiddenlove lovers affection advertisingexpert alcoholism invulnerability superhero pokies duringcreditsstinger savingtheworld lostcivilisation post-apocalyptic dystopia matteroflifeanddeath alone helplessness virus pandemic londonengland fathersonrelationship chocolate factoryworker basedonnovel parentskidsrelationship candy overweightchild grandfathergrandsonrelationship teacher paris brotherbrotherrelationship expensiverestaurant river cook mouse confidence roof window leavingone\\'sfamily work restaurantcritic kitchen spice court cookbook family chef rat himalaya martialarts dccomics crimefighter secretidentity undercover hero lossoffather society gothamcity vigilante superhero basedoncomicbook rivalry tragichero ninja goodvsevil crime superpowers hauntedbythepast evildoctor escapade mastervillain fightingcrime unfulfillment loveandromance unfulfilledlove africa jealousy dance hunger lion zoo hippopotamus chimp penguin volcano madagascar airplane zebra sequel shark imax duringcreditsstinger museum theodoreroosevelt duringcreditsstinger ameliaearhart smithsonian corruption mutant boxer army marvelcomic superhero aftercreditsstinger duringcreditsstinger queen musical princess betrayal snowman animation reindeer curse snow troll mountainclimber aftercreditsstinger womandirector 3d marvelcomic superhero basedoncomicbook hostiletakeover norsemythology aftercreditsstinger duringcreditsstinger marvelcinematicuniverse 3d asgard future chase post-apocalyptic dystopia australia rescue survival ontherun convoy peakoil darkfuture newmexico banishment shield marvelcomic hammer superhero basedoncomicbook redemption norsemythology aftercreditsstinger marvelcinematicuniverse 3d asgard odin heimdall hamster kidsandfamily animal catvsdog duringcreditsstinger dogcatfriendship animallead girldogrelationship dyr duringcreditsstinger underworld hades mythology greekmythology zeus perseus gods ancientgreece basedongreekmyth ares 3d witch imprisonment vampire curse fishoutofwater chains gothic madness oldhouse lostlove angrymob 18thcentury ghost hiddenroom oldmansion londonengland spy austria villain sequel mission conspiracy viennaopera vienna fathersonrelationship victorianengland remake ruralsetting werewolf factoryworker tennis flower florist flowershop pilot college airplane beehive court aftercreditsstinger martialarts hope fleet panda mission womandirector fire ice warship prince kingdom water village arrest remake attack avatar air spirit world domination cheering berlin cia vatican whitehouse secretidentity secret explosive mobilephone map traitor mask honeymoon shanghai pretendedmurder secretmission letter funeral coveredinvestigation toshootdead secretagent video stamp harddrive e-mail decipherment suitcase computer revenge murder mission hospital duel disguise celebration goodandbad researchlaboratory blast boy alien rescue martian alienabduction alieninvasion basedonchildren\\'sbook duringcreditsstinger londonengland underworld return ship frog girlfriend rubin laser britishsecretservice secretserviceagent spacebasedweapon femalefriendship ghosthunting reboot ghost savingtheworld secretidentity sunglasses undercover spacemarine illegalimmigration deportation newidentity flyingsaucer light firearm alien fictionalgovernmentagency denmark nordicmythology lie prideandvanity folkhero humanweakness viking alienation festivalhall sin royalty curse battle ancientworld adultanimation motioncapture china martialarts kungfu village panda sequel talkinganimal anthropomorphism dragon ancientchina wuxia womandirector fight sequel mission explosion brokenarm imax nuclearthreat dream santaclaus nightmare easterbunny toothfairy jackfrost sandman duringcreditsstinger basedonnovel desperation robber hold-uprobbery remake suburbia lossofjob humiliation unemployment bankruptcy travelagent richestorags bearerbonds comeuppance moses bible ancientegypt 3d ramses lossoflover spider thanksgiving badboss hostility marvelcomic superhero pokies evil referencetosuperman goblin fathersonrelationship wifehusbandrelationship sacrifice viking sequel rescue dragon mothersonrelationship deathofhusband warrior 3d dccomics secretidentity massmurder retirement basedoncomicbook conspiracy nuclearwar doomsday soviet maskedvigilante doomsdayclock redsquare deathofsuperhero americanpresident 1980s newyork usa worldwarii nazis marvelcomic superhero basedoncomicbook nazigermany perioddrama brooklynnewyorkcity captainamerica aftercreditsstinger marvelcinematicuniverse 3d british mission oil heiress bilbaospain britishsecretservice naturalist frigate selfsurgery seabattle weevil penguin musical aftercreditsstinger 3d londonengland england basedonnovel queen littlegirl orphan cannibal giant evilbrother fathersonrelationship rape basedonnovel mountains winter grizzlybear wilderness frontier revenge murder nativeamerican survival bear snow violence animaldeath bearattack deathofson basedontrueevents furtrapper underdog carrace dream speed power snail fast friends superpower racer sheriff nevada pet rango chameleon lasvegas cactus terrarium constructionsite armadillo disillusionment paris corruption madrid assassin basedonnovel europe prosecution dangerous falseidentity revelation government weapon interpol sequel conspiracy shootout espionage motorcycle violence footchase moskow darkpast langleyvirginia flashback chaseontheroof securityleak china martialarts kungfu mentor snake restaurant shop strongwoman bravery tiger turtle panda sensei anthropomorphism fighting ancientchina monkey master destiny evil aftercreditsstinger monkeywarrior noodle marvelcomic superhero basedoncomicbook aftercreditsstinger duringcreditsstinger marvelcinematicuniverse 3d competition basedonnovel mentor secret factory television propaganda future dystopia alliance games president uprising sequel murder survival conspiracy rebellion blood femaleprotagonist tournament explosion danger imax winner basedonyoungadultnovel friendship spaceship space alien alieninvasion alienfriendship awfulleader takingresposibility assassination spy cia kidnapping coldwar sovietunion doubleagent raceagainsttime revenge ontherun shootout espionage femaleprotagonist hitwoman terrorism violence russianspy intelligenceofficer actionheroine bible god noah 3d riddle captain treasure liquor treasurehunt sunkentreasure plot reporter 3d action savingtheworld date prison secretidentity fish gun dna mayor antihero rain museum one-sidedlove serum talkinganimal reporter duringcreditsstinger strongervillain witch christmasparty magic cuttingthecord halloween childhero broom chosenone frog fantasyworld basedonyoungadultnovel gold policeoperation partner revenge undead ghost policedepartment exoticisland blacksmith eastindiatradingcompany gold marriageproposal mutiny jamaica skeleton daughter governor woodeneye goldcoin pirate alcoholic swashbuckler caribbean aftercreditsstinger pirateship capuchinmonkey tortuga resistance post-apocalyptic dystopia war sequel femaleprotagonist bowandarrow game futurewar revolt classprejudice humansubjugation basedonyoungadultnovel paris holygrail christianity monk basedonnovel zurich secretsociety louvre curator symbologist opusdei heresy monalisa freemason conspiracy pentagram tomb catholicism cryptologist iconography albino sect bird sequel jungle audition amazonrainforest parrots brazil fbi freedom escapefromprison carcrash heist organizedcrime ontherun money fugitive policechase escapedconvict car imax automobileracing duringcreditsstinger detectiveinspector steampunk criminalmastermind hades mythology greekmythology zeus medusa mythologicalbeast seamonster perseus kraken gods ancientgreece basedongreekmyth 3d assassin wolf maryland suicidebygunshot rooftop explodinghouse laptop trackingdevice fakeid seoulsouthkorea pharmaceuticallab governmentconspiracy roofchase manilaphilippines hunted falsepassport albertacanada lieutenantgeneral holiday christmasparty newlove santaclaus village kidsandfamily savingtheworld library cataclysm climatechange greenhouseeffect tornado twister hurricane hail temperaturedrop iceage polarzone meteorology gulfstream barrierice icemelting thirdworld exodus evacuation climate government snow losangeles scientist doomsday antarctic disastermovie terror spain cia helicopter secretidentity skyscraper undercover island ex-lover secretmission dyinganddeath secretagent computer duel lethalvirus violence rescueteam agent car researchlaboratory ocean shipwreck hindu tiger faith zookeeper teenageboy cargoship lifeboat injuredanimal mephisto religionandsupernatural dyinganddeath devil\\'sson ghostworld stunts flame basedoncomicbook assassin amnesia flashback android dystopia alien spinoff creation emergencysurgery aftercreditsstinger stasis archeologicaldig godcomplex cavedrawing geneticmutation originsoflife cyborg future dystopia police remake violence detroit carrace lossofbrother chimp family duringcreditsstinger womandirector lovetriangle baseball athlete aftercreditsstinger spy airport gasstation garage pilot chase secretagent rope explodingbuilding carchase policecar boygenius duringcreditsstinger spacecraft dystopia space drone imax humanvsalien showdown deathstar vision cultfigure hatred dreamsequence expectantmother spaceopera chancel childbirth galacticwar senate investigation army deathstar jedi cultfigure wedding violence kendo lasergun spaceopera spaceport teenagerebellion goodbecomingevil alienrace mechanicalhand yoda monster infant energysupply company rivalry hijinks bestfriend scream conveyorbelt energycompany friend japan samurai mutant worldwari marvelcomic superhero basedoncomicbook superhuman duringcreditsstinger prophecy senate queen taskmaster galaxy apprentice taxes spaceopera stoneage daughter father prehistoric ancientworld fatherdaughterrelationship family cavemen aftercreditsstinger duringcreditsstinger witch magic fairytale snowwhite huntsman martialarts terrorist hero mutation van turtle vigilante superhero basedoncomicbook ninja newyorkcity sewer reboot scienceexperiment 3d spacemission loss space astronaut trappedinspace brotherbrotherrelationship turtle sequel basedoncomicbook ninja rat teleportation transformation telekinesis portal marvelcomic superhero basedoncomicbook superheroteam fantasticfour bodyhorror invisiblewoman california earthquake catastrophe disasterfilm 3d sanandreas sanandreascalifornia rescueoperation londonengland england spy china newsbroadcast intelligence television missile manipulationofthemedia secretintelligenceservice specialcar tvstation mediatycoon navy motorcycle secretservice hamburggermany sequel fabergéegg dutcheastindiancompany second part goldenegg goon basedonnovel revolution dystopia sequel dystopicfuture youngadult 3d divergent bomb martialarts assassin vandalism nightclub training knife party playboy superhero revenge trap violence kato carchase methlab basedongraphicnovel ancientgreece duringcreditsstinger seabattle handtohandcombat minions navalwarfare 3d moon magic basedoncomicbook animation goodvsevil smurf blue vortex mischief catandmouse duringcreditsstinger farm cow animal basedonnovel revolution dystopia sequel dystopicfuture youngadult basedonyoungadultnovel fathersonrelationship fight sport robot prizefighting fathersonreunion robotfighting basedoncartoon animation smurf basedonnovel intolerance chosenone childprodigy futuristic space sciencefiction alieninvasion militaryschool moralitytale basedonyoungadultnovel elves dwarves orcs middle-earth(tolkien) hobbit basedonnovel mountains fireworks castle volcano password deathofafriend uncle mirror wizard swordandsorcery crusade epic knight swordsman orderofthetemplars religious knighttemplars saladin kingrichard basedonnovel voodoo kiss princess animation cajun firefly basedonfairytale duringcreditsstinger bigdreams frogprince charlatan basedonnovel mars nasa isolation botanist stranded spaceship space engineering survival astronaut science deepspaceexplorer duringcreditsstinger battleforsurvival clone transplantation loveofone\\'slife dystopia genetics freedom escape cloning plague italy poker casino terrorist banker money freerunning torture britishsecretservice montenegro cinema hidingplace machinegun prisonguard escapefromprison dillinger underdog blackpeople drugtraffic drugsmuggle society ambition riseandfall cop drugdealing policecorruption gangster crime policedetective family lawenforcement aftercreditsstinger dishonesty criminalheroes hostage newyorkcity newyorksubway subwaytrain stockmarket motorcyclecrash subwaytunnel aftercreditsstinger nurse cat father-in-law vomit kidsandfamily viagra duringcreditsstinger narration ceo firetruck shotintheshoulder zipline buddycomedy carjacking aftercreditsstinger duringcreditsstinger suicide ambush showdown hostage traitor newidentity hitman witness witnessprotection armsdealer deception betrayal treason conspiracy u.s.marshal gunfight train explosion violence sabotage corporatecrime rogueagent assassinationattempt x-rayvision railgun bountyhunter hero plantation society friendship friends revenge rivalry rescue shootout racism danger dentist django dualrole aftercreditsstinger oddcouple blackslave deadly chasesandraces 19thcentury airplane numberintitle airplanecrash violence beard ensemblecast lossoffriend wisecrackhumor airportlounge asianwoman basedonnovel mythicalcreature dragon fantasyworld teenagehero basedonyoungadultnovel children\\'sbook igloo wolfcostume swallowedwhole hitwitharock lying fallingdownahill snowballfight children\\'sperspectives paris hotel falseidentity undercoveragent romance christianity sex newyear\\'seve pastor nudity mephisto nightmare bible satanist faith ex-cop anti-christ millenium atheist suspense priest hospital train newyorkcity explosion church violence devil womaninjeopardy satanic flashback stigmata corruption sex sexuality bank humor biography wallstreet marriagecrisis riseandfall stockbroker drug stockbroker clone future dystopia ensemblecast duringcreditsstinger century womandirector 1930s owl cia armsdealer sequel rescuemission hospital battle sledgehammer revolver undercover undercoveragent extremesports fbiagent 3d suicide ocean sea hunger shipwreck ship whale basedontruestory stranded survival whaling death newengland lostatsea basedontrueevents whalingship starvation 19thcentury cannibalism referencetomobydick whaleoil nantucket weaponofmassdestruction baghdad iraqi\\xa0 basedoncomicstrip family 3d charliebrown snoopy fire irish-american immigrant gangwar pickpocket ship gangofthieves butcher pig army rescue gang sea worldcup surfer wave surfboard giantwave worldchampion idol mockumentary bluefootedbooby prehistorictimes meltingice badger elephantseal floatingice landbridge era glaciale deriva cinderella magic prince fairytale kingdom royalty orphan lostshoe evilstepmother retelling rape 1970s evidence tree afterlife lossofdaughter serialkiller corpse pedophile teenagelove grieving childhoodsexualabuse basedonyoungadultnovel fathersonrelationship harbor underwater fishtank greatbarrierreef missingchild aftercreditsstinger duringcreditsstinger shorttermmemoryloss clownfish fathersonreunion protectivefather elves orcs middle-earth(tolkien) basedonnovel suspicion bravery war honor troll brutality violence ghost endoftrilogy quest swordandsorcery elves orcs middle-earth(tolkien) hobbit basedonnovel explosive cave fort army mission attack guide wizard ring swordandsorcery magic chosenone darkfantasy witchhunter evilwitch basedonyoungadultnovel swordandsorcery intelligence zoo cage dystopia goldengatebridge ape monkey medicalresearch alzheimer\\'sdisease bomb cia russia escape courthouse rogue moscow secretidentity secret hero island wretch supernaturalpowers weapon lawsuit superhero secretidentity sunglasses undercover spacemarine illegalimmigration deportation newidentity giantcockroach cannon flyingsaucer staypermit alien fictionalgovernmentagency museum prosecution identitycrisis airplane fleamarket collector teamwork friendship rescueteam garagesale duringcreditsstinger toycomestolife personification inanimateobjectscomingtolife weather food science iceage bridge insanity jungle dinosaur birth duringcreditsstinger 3d undercover boston police friends mafia undercovercop mobster mole statepolice policetraining realtor filmmaking satire jungle moviestar southeastasia landmine shackles warfilmmaking duringcreditsstinger blackface methodacting rape journalist basedonnovel journalism hacker nazis punk investigation remake antisocialpersonalitydisorder serialkiller disappearance hacking computerhacker biblequote scandinavian abuse detective scotlandyard coffin blackmagic arrest partner sherlockholmes murder steampunk pentagram clue betrayal vengeance sea atlantis animation underwater seamonster chipmunk cgi talkinganimal aftercreditsstinger duringcreditsstinger newyork israel middleeast hairdresser ladykiller mossad israeli palestinian heart-throb middleeastconflict hairstyle hackysack videogame nerd alienattack 3d pixels basedonnovel nasa newmexico extraterrestrialtechnology primenumber star radiowave wormhole fanatic spirituality religion scientist sabotage hamradio aliencontact mechanicalengineering observatory eccentricman radiotelescope newyork dictator africa destructionofacivilization assassination resistance revenge murder unitednations witnesstomurder fbiagent resistancefighter poison hermes poseidon demigod goldenfleece olympus 3d kronos overthrowolympus basedonyoungadultnovel londonengland china magic secretsociety vigilante sequel revenge heist ontherun macauchina magician brazil pet bird musical canary samba animal duringcreditsstinger rio1 río1 transporter netherlands worldcup sociallydeprivedfamily family\\'sdailylife boxer boxingmatch comeback training heavyweight folkhero biography daughter defeat sport horserace americandream racehorse greatdepression ocean fish zoo penguin tapdancing love crush snow anthropomorphism singing antarctica family duringcreditsstinger berlin assassin basedonnovel amnesia sniper lie sequel suspense ontherun shootout espionage violence footchase carchase explodinghouse thoughguy oneagainstmany railcar darkpast moscow handtohandcombat prison pickpocket stripclub conartist atlanticcity cockneyaccent lasvegas carddealer explosivesexpert blackandwhitescene male saltlakecityutah numberintitle historicalfiction musketeer 17thcentury 3d witch magic mummy vampire dracula skeleton backpacker frankenstein wolfman zombie invisibleman duringcreditsstinger \\xa0nosferatu protectivefather fangvamp poison queen fairytale musical princess portal animation fantasyworld evilwitch partanimation cia violence safehouse rogueagent capetownsouthafrica soccerstadium skyscraper thanksgiving billionaire parade fbiagent apartment highrise femaleagent ponzischeme emptysafe capercomedy planning safecracker recruiting heistmovie deceit lobby holiday londonengland filmmaking christmasparty countryhouse roomexchange surrey romanticcomedy losangeles multiplestorylines womandirector christmas graduation exhusband womandirector casino thief revenge heist lasvegas pretendingtoberich laborstrike hunter mountains garage grizzlybear bunny chase forest deer bear hunt basedonnovel dystopia youth dystopicfuture castesystem divergent basedonyoungadultnovel hunter bounty bountyhunter fight amazon treasurehunt jungle japan prostitute sistersisterrelationship brothel worldwarii geisha carrace carjourney carmechanic auto cargarage auto-tuning drifting car automobileracing holiday santaclaus duringcreditsstinger womandirector christmas lifeanddeath loveatfirstsight brokenengagement fireworks religionandsupernatural teenagecrush fate doctor millionaire terrorist fbi colombia firemen revenge explosion carexplosion bombattack whipping hipster underagegirlfriend animatedflashback character\\'spointofviewcamerashot unconsciousness girlfight vegan aftercreditsstinger usa corruption crimefighter judge metropolis law post-apocalyptic dystopia executivecase police futuristic basedoncomicbook gore survival gunfight gangster extremeviolence psychic violence criminal justice druglord basedongraphicnovel dystopicfuture darkhumor expertmarksman rookie dredd 2000ad torture aftercreditsstinger duringcreditsstinger 3d adolescence basedonnovel lossofchild fight chase teleportation supernaturalpowers leapintime enemy motherlylove christianity moon responsability moses streetgang lovesickness journalism newlove faith prayer god carcrash tattoo martialarts sniper island mercenary bridge rescue escape church drug blade ensemblecast duringcreditsstinger paris londonengland spy cia terrorist secretidentity undercover armsdeal headquarter secretbase secretmission prague embassy secretagent tgv computer mission basedontvseries espionage agent hallucination dystopia femaleprotagonist bowandarrow knifethrowing knifefight game archery blindness glamour roastedpig sponsor chariot fictionaltvshow mineexplosion basedonyoungadultnovel sunglasses interpol undercovercop hangover duringcreditsstinger paris londonengland cia russia mi6 hiredkiller explodingairplane sequel chipmunk cruiseship overboard dancing spy terrorist traitor airplane violin basedontvseries legs basedonnovel island hurricane investigation psychiatrichospital u.s.marshal conspiracytheory 1950s beach fictitiousmarriage blackmail plasticsurgery marriage love beautifulwoman kidsandfamily sport basketball doctor basketballteam basketballgame referee basketballcourt tweetybird speedygonzales cartoonchicken sylvesterthecat cartoonrealitycrossover basketballhoop cartoonskunk picnic sandwich bear 3d yogi talkinganimal scientist germanaccent ostrich monkey bullfrog cardealership duringcreditsstinger future timemachine california spy fathersonrelationship mexico hero marriagecrisis swordfight divorce americancivilwar savingtheworld totaldestruction whitehouse mars usapresident cataclysm lasergun ambassador congress pest flyingsaucer clone dystopia dinosaur 3d memory sidewalkcafe roomkey drivingacar coastline stairway searchformeaning sequins singingphotograph slidingdownapole costumedesigner duringcreditsstinger 1960s newyork witch uprising witchhunter ocean sea fish whale duringcreditsstinger dyinganddeath timetravel romance dinosaur individual schizophrenia massachusetts loveofone\\'slife intelligence mathematician marketeconomy economictheory princetonuniversity nobelprize mathematicaltheorem m.i.t. mathematics delusion lossofparents wildboar uncle shaman redemption king scar hyena meerkat mission mysteriousisland missingperson duringcreditsstinger 3d duringcreditsstinger philosophy utopia airplane adventure dystopia littleboy growingup neighbor motherdaughterrelationship school oldman littlegirl crazy basedonchildren\\'sbook story socialdifferences 3d pet bunny anthropomorphism dog animal apartmentbuilding sewer terrier manhattan,newyorkcity rodent mongrel secretagent bakery fallinginlove fatherdaughterrelationship duringcreditsstinger firstdate minions 3d policestate hippie rebel miracle future dystopia chaos aging childlessness faith survival birth dying assassin lossoffather secretsociety missionofmurder revenge mammoth sloth iceage barrierice icemelting iceberg flooding adventure lovers deluge saber-toothedtiger races dream dance television tvshow racepolitics coloured music equality schoolparty performance integration overweightwoman duel basedonstagemusical xenophobia basedonfilm 1960s overweight swing foot convertible arrow newyork airport marriageproposal translation craftsman stewardess illegalimmigration languagebarrier jfkinternationalairport immigrationlaw fastfoodrestaurant securitycamera jazzmusician saxophonist autograph passport easterneurope friendship himalaya pakistan climbing k2 mountaineering karakoram washingtond.c. alcohol cia helicopter refugeecamp congress coldwar ladykiller rocketlauncher russian munition warinafghanistan dollar musicrecord manager blackpeople adultery soul showbusiness drugaddiction oscaraward musical deceivedwife recordingcontract backgroundsinger motown thesupremes recordproducer single singer singing detroit alcoholic extramaritalaffair musicband assassin monster secret toy children neighbor mission child poison army zeus poseidon spear spacemarine dystopia alienplanet geneticengineering assistant aftercreditsstinger duringcreditsstinger evilmastermind minions 3d brothel fantasy asylum reality escape robot violence inmate alternative imagination lobotomy ocean extraterrestrialtechnology spacemarine paranoia raumschiffabsturz alien psychologist oceanfloor deepsea island bird pig talkinganimal basedonvideogame angermanagement 3d helicopter cemetery boat mexicanstandoff sword cave shipwreck yacht bahamas jetski treasurehunt rivalry scubadiving gangster underwater divorce heiress ex-husbandex-wiferelationship henchmen comedian cancer bromance stand-upcomedian assassination assassin terrorist explosive fbi chase saudiarabia investigation police medicalexaminer terrorism fbiagent arab bombattack northcarolina prayer familydinner advertising divorce motor automobileracing nascar dogtrainer carmovie sportcompetition psychosomaticillness frenchstereotype aftercreditsstinger duringcreditsstinger fathersonrelationship lake springfield thesimpsons duffbeer garbage pig pollution environmentalprotectionagency quarantine alcoholism love alaska dysfunctionalfamily dysfunctionalmarriage ecology savinglives firstlove duringcreditsstinger donuts prison magic liberation honeymoon parents-in-law kingdom enchantment dancingscene transformation fairy-talefigure carrace carjourney villageandtown auto route66 wrecker porsche retirement media friendship sport anthropomorphism losangeles roadmovie aftercreditsstinger duringcreditsstinger sportscar biologicalweapon coldwar russian prague mission athlete nsaagent adrenalinejunkie thrillseeker ocean sea star water comedy sponge spongebob liveactionandanimation paris guerrilla cinema selfsacrifice dynamite mexicanstandoff worldwarii jewpersecution jew nazis masochism sadism scalp winstonchurchill knifeinhand antisemitism gore swastika bloodbath germanoccupationoffrance violence gunviolence liberation transportofprisoners specialunit weapon losangeles savingtheworld predator laserpointer spacemarine pyramid praise alien xenomorph chipmunk cgi basedontvseries aftercreditsstinger duringcreditsstinger womandirector savingtheworld hero marinecorps chaos retirement survivor meteor spaceinvasion alien battlefield survival sergeant losangeles battle danger escapade u.s.marine heroicmission evilalien chaosandmayham worldwari horse farmlife execution trapped alcoholic cavalry plowing artillery worldwarii nazis arttheft postworldwarii duringcreditsstinger witch basedonnovel newlove prince beauty star kingdom wall fallingstar royalty unrequitedlove goodvsevil fratricide adultery infidelity secret investigation friendship partner love friends dilemma cheatingonpartner bestfriend vampire daughter hybrid childvampire werewolf imax labexperiment werewolfchild fangvamp musical rocker teenager younglove rocksta cold flu lethalvirus constructionworker terrorist technology antihero hacker computervirus nationalsecurityagency(nsa) raceagainsttime computer malaysia nuclearpowerplant suspense betrayal conspiracy ontherun fugitive shootout hacking terrorism catandmouse oneagainstmany computerhacker noopeningcredits terroristplot stockexchange cybercrime cyberterrorism chinesemilitary cyberterrorist cyberthriller londonengland himalaya journalist killerrobot computerwar robot prison muslim ship mystery sciencefiction escape crime prisonescape ciaagent cia terrorist atomicbomb coldwar nuclearexplosion jackryan vampire graduation bite immortality werewolf fangvamp adoptivefather orphanage life\\'sdream rivalry stealing ballet littlegirl orphan fatherdaughterrelationship tomboy mothersonrelationship intelligent kids evildoctor duringcreditsstinger minions supervillain 3d despicable cattivissimo christianity philosophy egypt newlove war cult historicalfigure history swordfight ancientworld destiny fallinlove hypatia misogyny persecution libraryofalexandria politicalunrest impossiblelove falsehistory powerrelations unfulfillment masterandservant loveandromance unfulfilledlove wifehusbandrelationship daydream marriage freedom friends coastguard basedontruestory survival rescuemission stormatsea sinkingship 1950s 3d terror falselyaccused basedonnovel dyinganddeath jordan dubai intelligenceagency beating mouse idiot mindcontrol taxidermy aftercreditsstinger duringcreditsstinger londonengland newyear\\'seve skyscraper burglar distrust undercover blackmail nudity thief heist oldermanyoungerwomanrelationship artthief criminal arttheft millennium manhattan,newyorkcity gala kualalumpurmalaysia humanevolution parentskidsrelationship squirrel ice lossofchild mammoth sloth dyinganddeath stoneage prehistoric saber-toothedtiger cavemen prehistoriccreature prehistoricadventure prehistorictimes prehistoricman religionandsupernatural savingtheworld artificialintelligence manvsmachine philosophy prophecy martialarts selfsacrifice fight insurgence virtualreality dystopia truth cyberpunk womandirector messiah gnosticism france robbery brothel mayor star musical arrest army rebellion wedding fallinginlove corpse parole convict girldisguisedasboy romanticcomedy onlinedating womandirector highway slacker hitchhiker wallet sunglasses reststop vicodin waffle worldwarii prisonersofwar biography sport war athlete womandirector olympicathlete nasa spacetravel astronaut elderly agedifference midlifecrisis suppressedpast self-awareness childhoodmemory humor changingthepastorfuture kurdish lifeanddeath sexualobsession freelove heterosexual christmasparty eroticism orgy maskedball marijuana illegalprostitution seduction conman femmefatale deception rivalry conartist lovetriangle friendship dating sushibar explodingairplane onlinedating stable karateclass dogshelter fbi dracula fistfight vampirehunter superhero basedoncomicbook martialartsmaster motorcycle katanasword blade lossoffriend supervillain vampireslayer fastmotionscene femalevampire mutant dystopia sequel conspiracy tokyojapan zombie basedonvideogame moscow handtohandcombat virus plague pandemic megacorporation carrace dystopia matteroflifeanddeath prisonguard carsetonfire escapefromprison explodingbuilding vehiclecombat carcrash violence supportgroup dualidentity nihilism rageandhate insomnia dystopia violence soul queen antihero fantasy prince supernatural frankenstein goodvsevil gargoyles fighting demon dark imax 3d martialarts basedoncomicbook femaleassassin spinoff detective dystopia dominatrix murder suspense twins basedongraphicnovel darkhorsecomics neo-noir 3d mountains snowstorm hiking climbing snow death blizzard mountainclimbing basedontrueevents mounteverest 3d paris femalenudity prostitute smalltown obsession orgy badsmell nudity lonewolf lavender nose childprodigy fishmarket daughter supernatural genius children\\'shome death perfume savingtheworld submarine brotherbrotherrelationship clone spy helicopter gold submachinegun asteroid undercover belgium dutch carjourney nightclub laser sumoringer familyhistory auto clowning overweightman conciliation jamesbondspoof duringcreditsstinger superhero exoticisland dna paleontology tyrannosaurusrex triceratops brontosaurus electricfence island dinosaur amusementpark themepark jurassicpark baby adoption marriedcouple smallperson criminal submarine worldwarii northatlantic mission sport icehockey guru comedy bollywood india spiritualist brokenheart self-help stanleycup chastity ashram expert bountyhunter wyoming mountains narration hangman stagecoach blizzard postcivilwar coupd\\'etat slacker easter easterbunny aftercreditsstinger liveactionandanimation evisceration javelin shield army fallfromheight ancientworld s.a.t. minions cia parentskidsrelationship florida anti-authoritarianupbringing jew parents-in-law orderly justmarried sextherapy badfather-in-law family illegitimateson journalist basedonnovel puppy dog duringcreditsstinger columnist animallead southernusa blackpeople mentallydisabled basedonnovel heal deathrow jailguard greatdepression prisonguard electricchair magicrealism healing deathrowinmate 1930s midlifecrisis roadtrip politicallyincorrect motorcyclegang bikerfilm awkwardness travelwriter middleage middleagedman fish smalltown spacemarine chicken alien bestfriend alieninvasion animal duringcreditsstinger 3d basedonnovel marriagecrisis disappearance cheatinghusband missingperson searchparty criminallawyer wifemurder murdersuspect missingwife paris barcelonaspain assassin basedonnovel secretidentity amnesia sniper passport missionofmurder lovers escape shootout footchase cellphone carchase multipleidentities surveillancecamera hamburggermany fishingboat langleyvirginia safedepositbox flashback handtohandcombat cuba falselyaccused secretidentity computervirus secretbase secretintelligenceservice kgb satellite specialcar cossack electromagneticpulse timebomb st.petersburgrussia ejectionseat redarmy undercover undercoveragent basedoncomicbook money fugitive bankrobbery deaagent fight governance puppy allergy 3d venice california trainstation helicopter austria mountains gold subway hacker chase safe remake caper revenge murder heist doublecrossed fastcars boatchase losangeles explosion convict fatherdaughterrelationship carchase tvnews hollywoodsign televisionrepair minicooper island marriedcouple yoga tahiti couplestherapy beautifulwoman tropical aftercreditsstinger duringcreditsstinger frenchpolynesia polynésiefrançaise basedonnovel resistance maze post-apocalyptic dystopia infection ontherun escape zombie storm disease desert sewer antidote corporation virus runner cityruin immunity indonesia femaleprotagonist india divorce bali egypt temple basedonnovel sniper investigation police quarry popstar music concert aftercreditsstinger duringcreditsstinger savingtheworld mutation infection terminalillness quarantine outbreak medical vaccine lethalvirus scientist epidemic dream eye stuffedanimal parallelworld button newhome secretdoor aftercreditsstinger duringcreditsstinger tree naturaldisaster crisis park strangebehavior fathersonrelationship parentskidsrelationship workaholic wifehusbandrelationship transformation bodyexchange daughter lawyer dog family turnsintoanimal blackmagic fistfight cover-up superhero paranormalphenomena narrationfromgrave demon occult combatphotography reanimatedcorpse duringcreditsstinger medium stopmotion curse jock ghost communicatingwiththedead aftercreditsstinger dealingwiththepast witchtrial childwitch empathy strange loyalty totalitarianregime mouse forgiveness honor unlikelyfriendship courage chivalry animallead londonengland terrorist terroristattack corruption sniper senator conspiracyofmurder childlessness rifle sniperrifle fbiagent fathersonrelationship creativity friendship partliveaction toys basedontoy fallinginlove superpowers duringcreditsstinger differentworlds lego batman losangeles gangster stadium southafrica apartheid nelsonmandela sport nation rugby president racism poverty celebration duringcreditsstinger corruption assassination detective journalist assassin newspaper congress editor-in-chief conspiracyofmurder politics electioncampaign government murder thriller blog reporter spy flyingsaucer alienlife-form spaceship alien alienplanet planet duringcreditsstinger women baseball pitcher homerun aging sport talent-scout cigarsmoking pooreyesight bostonredsox draft motelroom baseballscout failingeyesight blurryvision blurredsight revenge murder plottwist dirtycop newspaper cello musical violin losangeles washingtond.c. helicopter usapresident general coupd\\'etat militaryprison coup agent insurgent secretaryofdefense potus vampire crucifixion post-apocalyptic dystopia vampirehunter disobey niece darkhero basedonnovel angel vampire werewolf warlock downworlder shadowhunter demonhunter basedonyoungadultnovel newyork captain starships newlove earth friendship crew carcrash space alien survival planet duringcreditsstinger book fairytale eavesdropping adventure writer\\'sblock secretidentity robber mask frog basedoncomicstrip backfromthedead basedonnovel painting debt artdealer stolenpainting fictionalplace monster lossoffamily newlove hero loveofone\\'slife magic fairytale villain kingdom enchantment badpower son heirtothethrone motherlylove wizardry revenge royalty family basedonvideogame medieval antihero mercenary marvelcomic superhero basedoncomicbook breakingthefourthwall aftercreditsstinger duringcreditsstinger selfhealing sniper biography iraq navyseal u.s.soldier basedonnovel magic fantasy werewolf family ventriloquistdummy bookcomestolife 3d waitress marriageproposal flirt stoneage bestfriend dinosaur americanfootball sportsteam stadium hero success sponsorship police games coach womanreporter thebiggame jobinterview lossofjob intern referencetogoogle newjob laidoff transamericapyramid post-apocalyptic dystopia undead biohazard evilcorporation residentevil zombie basedonvideogame duringcreditsstinger 3d worldwarii fighterpilot fighterplane deadbeatdad cheatingfiancée teacherstudentsex brothersisterincest bahamas masterthief crookcouple monk easterneurope skeleton biker marvelcomic superhero motorcycle devil darkhero ghostrider bodybuilder children bodyguard scientist family u.s.soldier deathofhusband malenanny pop popstar recordproducer surprise approach forest music concert friendship performance chipmunk talkinganimal songwriter talkingtoanimals duringcreditsstinger ship hijacking somalia fisherman blood poverty pirate terrorism commando hijack cargoship shipcaptain shiphijacking somali commandounit date corruption taxi expensiverestaurant wifehusbandrelationship gun boat taxidriver document restaurant roof marriedcouple politician stripper shooting thief carcrash stealing mistakenidentity policecorruption aftercreditsstinger duringcreditsstinger japan coma martialarts kungfu underworld yakuza sword bride revenge gore femaleyakuza blood wedding samuraisword partanimation tempel shaolin teenager urination staff warrior monkeyking prostitute deification dancehallhostess perónism argentinepresident risetopower singingnarrator soccerball england trainstation basedonnovel bear anthropomorphism talkingtoanimals children\\'sbook sport basketball flintmichigan nba merger trade garbagecan canon ramp championship deadparent corruption mother nudity minister power public government police reunion murder conspiracy losangeles missing motherlove criticism musical losangeles burlesque burlesquedancer katana mutation vampire silver superhero tragicvillain brokenneck lasersight violence explodingbody blade subjectivecamera torsocutinhalf reaper brokenwrist razorblade shotthroughadoor swordduel burntface vegetarian taxcollector pianist blind organtransplant bloodtype italy christianity newyork assassination italo-american vatican pope confession helicopter daughter lawyer roommate loveofone\\'slife newlywed newyork mentallydisabled kidnapping blackmail missionofmurder lovers lesbian mobster corruption journalist basedonnovel blackmail manipulation bodyguard louisiana scandal power governor politics tragedy mistress aristocrat poker sport lasvegas conman biography fbiagent overheadcamerashot attemptedjailbreak engagementparty mislaidtrust bankfraud inspiredbyatruestory assassination cia hotel terrorist prisoner cardealer mossad van iraq pakistan osamabinladen manhunt navyseal fword femaleprotagonist gunfight raid violence textmessage monkey dog specialforces tiedup military area51 terroristgroup torturing womandirector alqaeda prisoncamp watertorture suicidebombing 21stcentury exspecialforces post9/11 helicoptercrash islamabad bowling chicago americanfootball flat baseball newlove tourguide break-up artgallery argument pooltable watchingtv ex-boyfriendex-girlfriendrelationship dinnerparty condominium flower marriedcouple florist kiss single valentine valentine\\'sday multiplestorylines aftercreditsstinger duringcreditsstinger sheriff farm bikini redneck moonshine jealousy chance wish change manchange co-worker body-swap showbusiness comedian wrestling paris cia undercover explosive pimp ambassador antihero revelation french politician firearm deception carcrash gang moon cinema vampire werewolf fangvamp magic liberation lordship castle robinhood enchantment fairy-talefigure princess parody womandirector ogre hotel dancer hat senator future honesty plan kiss speech marriage politician alone fate footchase covertagency courthouse politicalcampaign basedonshortstory friendship love teddybear toycomestolife wishescometrue 1970s secret alien traincrash pistol firecracker duringcreditsstinger biography basedontruestory singlemother waterpollution environmentallaw highschool undercovercop buddycomedy aftercreditsstinger duringcreditsstinger spy cia espionage highschoolreunion referencetofacebook accountant daddyshome witch cinderella prince fairytale musical princess sondheim curse basedonstagemusical beanstalk duringcreditsstinger redridinghood bankmanager kidnapping nazibackground document ultimatum courtcase heist financialtransactions zoo cataclysm code suspense endoftheworld timecapsule astrophysicist grievingwidower lexingtonmassachusetts westfordmassachusetts prediction researcher numbers news soulmates midlifecrisis marriagecrisis womanizer lawschool crazy relationship underdog basedonnovel baseball teamwork sport partner meeting oaklandcalifornia strategy voiceover statistics detective vatican fascism satanism fascist dystopia government chancellor revenge personificationofsatan torture hatred maskedvigilante catholicism catholicpriest catholicguilt jesuit vengefulspirit activist irishcatholic vengeful jesuitpriest gnosticism occultism witch blackmagic steampunk goodvsevil troll extremeviolence violence witchcraft evil witchhunt witchhunter evilwitch duringcreditsstinger hanselandgretel guns 3d secretidentity alien teenageboy teenagehero alienteenager interspeciesromance basedonyoungadultnovel superpowers antiterror bomb assassination middleeast lebanon cia capitalism globalization lossofson persia waragainstterror energypolicy petrol basedonnovel assaultrifle mercenary libya biography basedontruestory heroism explosion americanabroad death 21stcentury ciaagent u.s.ambassador monster motherrole burningofwitches fog suffering darkness sadism supernatural revenge surrealism gore survival goodvsevil blood anotherdimension torture creature violence demon witchburning basedonvideogame dismemberment religiousfanatic ghosttown sleepwalking wifehusbandrelationship sequel familyreunion masturbation scat highschoolreunion quittingajob milf duringcreditsstinger fathersonrelationship judge lawyer imaginaryfriend outcast assassination assassin ninjafighter revenge ninja ninjutsu winter psychopath horror serialkiller river mobilephone bravery archer daughter sewerage pollution formaldehyde snackbar family river mobilephone bravery archer daughter sewerage pollution formaldehyde snackbar family duringcreditsstinger prison usapresident earthquake dystopia attempttoescape losangeles reluctanthero coldwar friendship giantrobot sittingonatoilet fearofunknown 1950s laxative slavery americancivilwar londonengland gay malenudity femalenudity fathersonrelationship sex jealousy underworld undercover hitman russian diary humantrafficking midwife murder motherdaughterrelationship orphan gangster motorcycle bathhouse kidnapping traitor virgin prince princess revenge minotaur knight dragon wedding king swordandsorcery cia nuclearscientist iraq politician duringcreditsstinger dystopia mindcontrol gunbattle wrongfulimprisonment dystopicfuture wrongfulconviction onlinegaming stupidity sequel fashion malemodel fashionmodel modeling bone carexplosion premaritalsex sataniccult driver\\'slicense fingergun backhandslap carjump manpunchingawoman magictrick greatbritain musical rock pirateradio swinging60s savingtheworld venice holygrail library riddle fathersonrelationship whip treasure nazis entrapment crusader treasurehunt escape panzer orderofthetemplars archaeologist indianajones archeology\\xa0 artificialintelligence android robot nearfuture robotcop robbery dream hypnosis investigation murder alien hospital planet patient medication psychiatrist science claim doubt mental help saloon hero liberationofprisoners transportofprisoners wilderness dyinganddeath raceagainsttime railwaycar stetson rivalry gang gunfight crime family psychological dishonesty heroicmission rightingthewronged chasesandraces parentsandchildren mindandsoul revenge murder ontherun fugitive framed fatherdaughterrelationship framedformurder dwarves cinderella wolf badmother-in-law prince fairytale littleredridinghood stepmother wizardry princess sleepingbeauty rumpelstilzchen goodandbad intern womandirector federation starfleet borg enterprise-e cyborg montana resistance inventor repayment obsession businessstart-up spaceopera gunslinger usa dccomics hell facialscar death confederate tomahawk undercover biography drug druglord africa himalaya braintumor wifehusbandrelationship senseoflife malefriendship safari dyinganddeath wish journeyroundtheworld terminalillness billionaire fatherdaughterrelationship estrangedfather elderly bucketlist tajmahal pennsylvania kidnapping maze vigilante ruralsetting candlelightvigil musical themuppets robot oiltycoon studiotour duringcreditsstinger suicide hero vampire bite fistfight supernatural vampirehunter superhero rivalry tragichero goodvsevil onemanarmy extremeviolence martialartsmaster scientist violence disarmingsomeone blade machinegun englishsubtitlesinoriginal hypodermicneedle microscope secretheadquarters bulletdodging bullettime kickedinthegroin xrayedskeleton mouthguard escapade imaginary deadly masterwarrior supernaturalability fangvamp londonengland malenudity femalenudity loveatfirstsight usapresident marseille office christmasparty marriageproposal barsandrestaurants pressconference languagebarrier primeminister rockstar tvshow metaldetector waronterror schoolperformance multiplestorylines winter fight ant invention collector ant-hill kidsandfamily grass duringcreditsstinger clone mutant post-apocalyptic dystopia conspiracy evilcorporation zombie basedonvideogame widow americanabroad eyegouging deaagent shotintheshoulder guninmouth filmedkilling southerncalifornia improvisedexplosivedevice surrogatedaughter shotinthethroat lagunabeachcalifornia enforcer gardner skullmask dea bank mobilephone telephone weapon police duringcreditsstinger ant childhero shrinking ant-hill children riot protest musical music culturaldifference university fantasysequence antiwar policearrest march womandirector 1960s submarine baby secret future mercenary prosecution protection dystopia moralconflict smuggling vision pregnant cyberpunk sect alien comedy duringcreditsstinger beforecreditsstinger liveactionandanimation dancing chess prisoner coffin wrongaccusal ranch airplane beating jail rifle corpse lasso cautery poison china martialarts swordplay fight toxication secretsociety passion plannedmurder power palace plan battleforpower tangdynasty pomp conspiracyofmurder heirtothethrone marriagecrisis secretlove assassin asia gun deaf-mute hitman bangkok thailand stripclub apprentice videosurveillance remake murder betrayal mafia shootout boatchase explosion footchase killer gunshot flashback motorcyclechase crisisofconscience sex marriageproposal newlove colombia letter loveletter dyinganddeath ship marriage cholera teacher principal doctor extramaritalaffair emotions buddhistmonk cooking primeminister kitchen secretagent sequel mindcontrol jamesbondspoof incompetence femaleboss klutz aftercreditsstinger assassinationattempt supermarket fight productplacement computeranimation food cia wifehusbandrelationship document revolution hidingplace canadian pressconference biography hangedman americanabroad crane subtitledscene movieposter basedonarticle extraction iranhostagecrisis sweatshop intelligenceagent filmstudio langleyvirginia 1980s bountyhunter ex-husbandex-wiferelationship budapest key vampire light werewolf evolution fangvamp londonengland humanexperimentation frankenstein reanimatedcorpse frankenstein\\'smonster scienceexperiment 19thcentury martialarts hitman serialkiller roommate marriage aftercreditsstinger duringcreditsstinger poison chicago prostitute martialarts assassin airport cemetery boat hitman chase machinegun cover-up beautifulwoman carcrash malefriendship highschool parody crudehumor basedontvseries undercovercop buddycop buddycomedy duringcreditsstinger londonengland bookshop birthday newlove filmmaker paparazzi pressconference wheelchair bathtub cohabitant friendship fame celebration moviestar spectacle beach honeymoon bride chance risk relation longisland romanticcomedy comedy scubadiving unfaithfulness losangeles artgallery danceclass oppositesattract caribbean commitment danceclub neurotic bagpipes chanceencounter insuranceriskmanager corruption florida secretidentity liberationofprisoners drugtraffic floatplane transportofprisoners tankcar floridakeys coastguard airplane britishsecretservice winter fantasy fairytale hood werewolf aftercreditsstinger duringcreditsstinger womandirector redridinghood bountyhunter basedonnovel romance framed bailjumper womandirector assassin smalltown forest revenge deception superspeed surpriseending individual streetgang adolescence rapmusic hip-hop rhymebattle trailerpark ethnicstereotype single detroit eminem animation evolution humanity deception newyorkcity rooftop diamondheist framedforacrime escapedprisoner negotiator conartist scam mobster fbiagent fictitiousmarriage deportation immigrationlaw romanticcomedy alaska nakedscene co-worker humiliation bookeditor fakeboyfriend duringcreditsstinger womandirector pretendrelationship skateboarding flyingcar carrace delorean lightning almanac inventor timetravel sequel diner alternatehistory teenager electricguitar walkingcane highschooldance hoverboard videophone artificialintelligence telepathy intelligence drugmule telekinesis futuristic drug superpower toughgirl imax surgery braincapacity syntheticdrug humanbrain basedonnovel perversion spanking billionaire bdsm womandirector war survival navyseal military dangerousmission londonengland england 1970s spirit singlemother demon paranormalinvestigation demonicpossession valak annabelle hacker hacking creator fratparty socialnetwork deposition intellectualproperty entrepreneur arrogance youngentrepreneur facebook relationship ensemblecast duringcreditsstinger railroadrobber california delorean indianterritory sportscar inventor locomotive saloon horsebackriding timetravel outlaw sequel madscientist nativeamerican western shootout gunfight train wildwest cavalry cooking book cookbook blog recipe womandirector publishing venice italy gay newyork lovesickness doublelife dualidentity jealousy secretidentity newlove homicide atlanticocean newidentity plannedmurder prosecution yacht ship inferiority falseidentity beguilement rejection inferioritycomplex oceanliner friendship homosexuality wealth cowardliness envy intern womandirector police sequel policeofficer brother-in-lawbrother-in-lawrelationship blackmen buddyfilm dystopia basedoncomicbook heldcaptive basedongraphicnovel blackandwhiteandcolor blackandwhitescene blackandwhitetocolor mysteriouskiller doingtherightthing mercedes silhouette neo-noir bomb terror spain usapresident terrorist waragainstterror camera carjourney press television camcorder bodyguard safety terrorcell limousine media securityguard poker bondage duringcreditsstinger highschool bullying highschoolsports fakeidentity adultasachild doover carrace dyinganddeath plan stock-car-race carcrash premonition gore vision aftercreditsstinger jealousy wifehusbandrelationship dancingmaster judge arrest jury privateinvestigator taxi hotel coma taxidriver prince briefcase hospital stolenidentity competition secret obsession magic dyinganddeath classsociety illusion tricks hostility class rivalry spaceship alien rescue escape planet astronaut Γη missioncontrol londonengland smugglingofarms prison england assassination spy falselyaccused secretidentity countryestate armsdeal russia drugtraffic secretmission secretintelligenceservice kgb villain renegade specialcar tangiermorocco bigwheel pipeline cello orchestra freedomfighter czechoslovakia bratislava afghanistan airplane schlossschönbrunn escape moscow vienna chicago writing architect future time architecture mysteriousletter nearfuture firstkiss romanticdrama passageoftime green dodgeball incredibile timothy amnesia mentalinstitution patient trust falseaccusations medication gothic mentalillness predator nationalguard hybrid alien morgue alienpossession triangle infestation xenomorph sandiego area51 alienspacecraft hitwithachair shotintheknee duringcreditsstinger 1980s sheriff book knife horror rescue author maskedkiller hospital corpse premonition deathbyaccident crash endishere duringcreditsstinger 3d prison jealousy homelessperson beach parentskidsrelationship fight bodyguard protection nerd highschool substituteteacher campus teacher principal celebration schoolbus aftercreditsstinger schoollife teachersandstudents basedonnovel autism key scavengerhunt deathoffather youngboy newyorkcity tambourine lock grieving post9/11 workethic tvmorningshow tvreporter gay sex aids musical hiv basedonplay africanamerican rockopera missingperson hivpositive homemovie mugging telephonecall\\xa0 lowereastside river miracle bible louisiana frog grasshopper faith streetgang uncle femaleassassin witnesstomurder shoe voiceover rite theatreaudience brideandgroom deathofking applause womandirector fox tree peasant revenge cider tale farmlife invisibleman paris lovetriangle ghosttrain sex-shop shyness montmartre daughter gardengnome journeyroundtheworld photography whale alaska aftercreditsstinger duringcreditsstinger greenpeace animalprotection dystopia spaceship survival mission liar literaryagent kidnapping youngpeople civilwar spy hotel journalist journalism warcrimes hiddencamera warvictim warcorrespondent war balkanwar serbia fathersonrelationship childlabour brothel winter allegory bridge post-apocalyptic dystopia hijackingoftrain basedoncomicbook dam rifle pregnant train violence basedongraphicnovel guilt revolt duplicity tunnel socialclass populationcontrol perpetualwinter cityruin mother guitar sistersisterrelationship profession newlove architect motherrole lonelyheartsad men clothing single motherdaughterrelationship losangeles fashion singlefather shyness stopmotion blackandwhite retro dog animaldeath animallover flamingarrow chinesehistory strategy carrierpigeon spearthrowing walloffire whitedove casualtyofwar arrowinback chinesetradition chinesepainting brokenarrow romanticcomedy romance tvmorningshow relationship oppositesattract clown elephanttrainer veterinary waitress wifehusbandrelationship violenthusband self-defense violenceagainstwomen suspense marryrich abusivehusband carcrash policeofficer aids illiteracy song unwillinglypregnant balloon school crying motorcycle ice spacemarine paranoia snowstorm norwegian researchstation remake alien antarctica shapeshiftingalien sleddogs dystopia revenge alien planet imax undergroundworld mayor adventure post-apocalyptic dystopia puzzle box pipeworks basedonnovel dystopia alien alieninvasion humansubjugation environmentaldisaster basedonyoungadultnovel underdog sport spinoff undergroundfighting motivationalspeaker boxing basedonnovel moneylaundering ambulance boston massachusetts bankmanager drugdealer florist flowershop hold-uprobbery volunteer stolenmoney friends carsetonfire bostongarden policechase bestfriend fenwaypark basedonnovel adoption pregnant miscarriage expectantfather pregnantwife vomiting expectingtwins openaircinema givingbirth farewell regret parentskidsrelationship suicideattempt becominganadult lossoffather dyinganddeath chance childprodigy daughter unsociability reconciliation newyork moneylaundering daughter police undercovercop lockedintrunkofcar baseballcard wedding policeofficer duringcreditsstinger newyork basedonnovel one-nightstand single dolphin boy trap summer tail soulmates vampire forbiddenlove immortality trust desire duringcreditsstinger womandirector interspeciesromance basedonyoungadultnovel fangvamp mexico police gang drugsmuggling drug family videogame spy bahamas british stealing scubadiving scuba britishsecretservice femalenudity one-nightstand timetravel timemachine incestovertones hottub peterpansyndrome fortysomething skiing dolphin aquarium swimming repayment arbitrarylaw cop lossofwife vatican violinist hospital miscarriage exorcist romancatholic seminary limp toad clergy formalin walkingcane spacemarine chimp space aftercreditsstinger underwear tiger stagnight hangover lostweekend bagoverhead chapel hitwithtireiron memoryloss lasvegas duringcreditsstinger elevator americanfootball adoption education privateschool sport americanfootballplayer duringcreditsstinger conspiracyofmurder badboss employee deathoffather stakeout duringcreditsstinger lossoffather fathermurder texasranger alcoholism betrayal paris journalist journalism worldoffasion fashionjournal assistant jobentrant jobinterview editor-in-chief gambling cardgame professor harvarduniversity cohabitant college girlfriend studies dormitory friendship blackjack hero loyalty mockery supernaturalpowers highschool mission superpowers teensuperheroes horserace horsebackriding biography funeral friends hospital aftercreditsstinger duringcreditsstinger alcohol college party sequel sorority neighbor family fraternity bathroomhumor wifehusbandrelationship children familyrelationships duringcreditsstinger japanese camp bestfriend co-worker kids duringcreditsstinger sportsmarketingfirm newlove tencommandments bride bridegroom marriage relation partnership civilregistryoffice priest wedding church undercover mutant dystopia conspiracy zombie basedonvideogame assassin basedonvideogame aftercreditsstinger bank future time dystopia raceagainsttime immortality ontherun classdifferences copsandrobbers\\xa0 richvspoor kiss spermbank romanticcomedy malefemalerelationship doctor pregnancy singlemother artificialinsemination motherhood duringcreditsstinger newyork alcohol basedonnovel secret cheating birthday destroy friends crush lawyer bestfriend wedding pregnancy relationship celebration roses lying flashback engaged loyal liaison confidant individual resistance radiostation warcrimes lossoffamily childmurderer hunger worldwarii prisonersofwar homeland deportation hidingplace ghettoriot jewpersecution liberation warsawghetto polishresistance nazis biography classicalmusic panzer pianist biography historicalfigure fbidirector suicide fbi kidnapping snuff sadism investigation police psychopath webcam website murder serialkiller internet torture violence voyeur nanny fantasy children aftercreditsstinger duringcreditsstinger womandirector elves basedonnovel magic fairy prince fairytale spell fantasyworld giant ogre obedience fairygodmother elf americanfootball concussion biography professionalsports braindamage sportsinjury nfl medicaldrama humanbrain cia airport hero fight kidnapping timebomb training webcam website party ontherun hospital train teenager mayor investigation politics ex-cop revenge doublecrossed privatedetective newyork dirtycop bicyclecourier duringcreditsstinger raceagainsttheclock cyclist bikemessenger bear animal aftercreditsstinger duringcreditsstinger realestate landdeveloper realestatedeveloper musicrecord rockandroll pop hip-hop fabfour blues popstar rapper recordproducer rock music musicinstrument wedding extramaritalaffair aftercreditsstinger royalfamily biography royalty perioddrama queenvictoria princealbert 19thcentury britishmonarchy airplane basedoncomicbook corpse stich philosophy fathersonrelationship redhair brothersisterrelationship sun telegram tree meteor afterlife deathofachild independentfilm spirituality outerspace dinosaur voiceover verylittledialogue tarkovskyesque brokenneck fbiagent wallsafe trashedhouse aerialshot militarydressuniform vanity flare womandirector 1970s skyscraper basedontruestory tightrope planning worldtradecenter basedonnovel maze post-apocalyptic dystopia escape memoryloss erasedmemory trapped dystopicfuture runner basedonyoungadultnovel braintumor operation queen loveofone\\'slife surgeon tree dyinganddeath transience immortality mayacivilization monkey conquest corruption scandal shadowing police magic 3d alieninvasion americanabroad moscow unlikelyheroes failedbusiness chain submachinegun undercover smuggling twinbrother marvelcomic onemanarmy massacre extremeviolence familyreunion pier brokentrachea rebel brothersisterrelationship emperor spacebattle matteroflifeanddeath spaceship deathstar jabbathehutt ewoks jedi spaceopera hippie commune nudism nudeprotest aftercreditsstinger duringcreditsstinger nun sport orphanage ordensbruder ringer money competition jealousy fight materialism bridesmaid femalefriendship fearofcommitment wealth motherdaughterrelationship weddingparty sexualhumor bestfriend maidofhonor drunk weddingdress groupoffriends casualsex vanity girlfight missingwoman outofcontrol rape monster panic friendship celebrity satire party possession darkcomedy endoftheworld apocalypse drug demon self-referential actor heist undercover fbi sequel comedy disguise fbiagent impersonation duringcreditsstinger bomb identity fantasy bomber suspicion timetravel investigation surrealism soldier helicopterpilot suicide basedonnovel hotelroom obsession sadomasochism psychologicalthriller killer family numbers dystopia evilcorporation repoman aftercreditsstinger berlin corruption nazibackground loveofone\\'slife chauffeur blackmarket missile postwarperiod warcorrespondent allied truth murder humanity guerrilla river vietnam vietcong cambodia army insanity tribe greenberet jungle apocalypse death napalm malenudity sex sanfrancisco waitress newspaper bar nudity airplane malefemalerelationship writer newyorkcity masturbation phonesex textmessaging intern longdistancerelationship womandirector recordcompany skype venice massmurder spacemarine spacesuit marcussquare spacebattle secretbase utopia spacetravel boatchase astronaut lasers britishsecretservice weightlessness kukluxklan americanfootball trainer sportsteam racepolitics coaction apartheid sport highschool racialsegregation racist basedontruestory americanfootballplayer xenophobia headcoach submarine coldwar russian defection jackryan self-fulfillingprophecy detective s.w.a.t. drugdealer evisceration lustandimpulsiveness rageandhate prideandvanity immoderateness insomnia investigation pension police serialkiller slum streetgang mutation southafrica johannesburg dystopia genetics government satire alien prawn mockumentary alternatehistory racism metamorphosis xenophobia internmentcamp bodytransformation alientechnology segregation transporter suicideattempt strongwoman boxer dyinganddeath strokeoffate training advancement sport femaleprotagonist boxingtrainer determination poem river sadness fight loveofone\\'slife dementia class secretlove tears candle mailbox lovesickness newspaper bar sistersisterrelationship newlove weddingplaner witness bride bridesmaid sister music romanticcomedy siblingrivalry reporter wedding womandirector doublelife popstar musical tennessee teenagegirl teenmovie teenager hometown famous suitcase business omaha ontheroad downsizing crosscountry duringcreditsstinger suicide assassin drugaddiction future timetravel dystopia retirement boy murder organizedcrime tragedy execution violence criminal drugaddict contractkiller neo-noir hawaii one-nightstand beauty brotherbrotherrelationship robbery arbitrarylaw adoptivemother revenge murder violence detroit duringcreditsstinger interracialadoption pregnancyandbirth surrogatemother bride friendship engagement rivalry wedding familyfeud paris londonengland france england sanfrancisco horserace fire helicopter drugabuse terrorist secretidentity firemen fireengine villain ascot siliconvalley zeppelin earthquake snowboarding microchip doping racehorse flooding pipeline snow britishsecretservice skiing competition garden vegetable stopmotion animation contest dog rabbit pestcontrol giantvegetable wallace&gromit italy letter romanticcomedy americanabroad boyfriendgirlfriend italianstereotype veronaitaly quest duringcreditsstinger shyness england cheating oldtown grave skeleton musical marriage weddingring stopmotion animation money wedding corpse weddingceremony parents darkfantasy european ring piano gypsy work gore curse psychologist psychic evil loanofficer obituary engagementring gypsies sanfrancisco immortality love forever musical duringcreditsstinger 3d professor literature love romanticcomedy author fate death dying novelist publisher whatif sunrise winter vampire marriagecrisis alaska basedongraphicnovel blizzard bloodlust polarnight cabin plottwist cabininthewoods filmedkilling videowall speakerphone mountedanimalhead youngadult fight queen penguin blackhole men army s.a.t. aftercreditsstinger duringcreditsstinger assassin selfsacrifice stripclub secretagent training british roadtrip deadanimal teenagegirl pistol duringcreditsstinger classroom college teacher diner lossofjob economics yardsale cellphone scooter backtoschool terror basedonnovel power telekinesis highschool remake revenge murder prank prom teenager explosion violence religious humiliation womandirector fraud cover-up murder drug prescriptionmedication professionalreputation owl tiger aftercreditsstinger duringcreditsstinger cave water adventure sex sanfrancisco restaurant frustration chase offer engagement love psychologist wedding proposal chef ceremony englishwoman ring unemployed evidence passport argument countyjail fingerprints appeal escapeartist skyscraper vampire victim dystopia boy doctor violence onewomanarmy hemophagia stamina totalitarian antigen cure strength biologicalwarfare labtechnician rooftopfight gravity lightsensitivity malenudity femalenudity letter love viagra sexualfreedom freespirit rape secret minnesota witness miner insult court lawsuit love lesbian battle case woman womandirector landmark harrassment legal dna genetics genemanipulation geneticengineering biologicalexperiment megacity brother-in-law police gambling sex casino basedonnovel vandalism lie kiss love disappearance writer death fortune sunrise vampire suspicion remake suburbia sheriff smalltown hostage prisoner fbi border escape carchase convoy machinegun neo-western witch wolf littleredridinghood sequel computeranimation goat aftercreditsstinger duringcreditsstinger lossofson sheriff wyoming grandfathergranddaughterrelationship violenceagainstwomen suicide jealousy canada independentfilm politicallyincorrect gambling casino gamblingdebts dirtycop puertorico technology garage hacker malefriendship microchip minidisc computer company friendshipbracelet suspense businessstart-up computerexpert childhoodfriends betrayalbyfriend servant emperor battleassignment killing admiration hold-uprobbery toshootdead idol missouri media jessejames cowardliness family coward martialarts sword revolution blood gunfight extremeviolence brutality combat underagesoldier duringcreditsstinger village creature battle monkey hyena supermarket party sausage food anthropomorphism sexscene musicalnumber adultanimation grocerystore gum businesswoman ex-con duringcreditsstinger girlscouts magic musical cartoon princess love comedy animation monkey arab aftercreditsstinger genie animalsidekick brotherbrotherrelationship aids policebrutality rapmusic hip-hop wifehusbandrelationship vandalism drugdealer nightclub freedomofspeech protest rapper recordingcontract fromragstoriches assault terminalillness roadtrip basedontruestory feud gang marijuana policechase hospital racism losangeles gangster racialslur mothersonrelationship noopeningcredits wrongfularrest deathofbrother milwaukeewisconsin policeraid policeharassment detroitmichigan duringcreditsstinger gangsterrap recordcompany 1980s musictour referencetorodneyking intimidationbypolice losangelesriots comptoncalifornia riddle treasure heart skeleton treasurehunt torture violence monkey cultfilm archaeologist thuggee conveyorbelt minecar ropebridge belching childdrivingacar eatingbrains splits indianajones archeology\\xa0 opera biography singingfalse bank fraud biography wallstreet finances basedontruestory animatedsequence breakingthefourthwall loan financialcrisis realestate mortgage musicfestival independentfilm catskills dogtags refugee massmurder habor carjourney departmentstore blackout busride pregnancyandbirth dyinganddeath bite toshootdead lorry munition basementgarage guard zombie dog car duringcreditsstinger londonengland submarine england sea assassin mountains undercover olympicgames drugtraffic secretmission secretintelligenceservice kgb coralreef skijump parrot cryptographicdevice gangofsmugglers figureskating motorcycle monastery britishsecretservice skiing italy competition lossofmother lossofsister newlove cook cooking restaurant barsandrestaurants motherrole funeral kitchen perfectionist pizzadelivery adventure pizzaboy numberintitle comedy aftercreditsstinger basedonnovel jobinterview badluck wish oneday basedonchildren\\'sbook driver\\'stest bachelor beautiful prejudice suitor perioddrama georgian pride 18thcentury oppositesattract artificialintelligence manvsmachine cyborg bountyhunter android dystopia genetics fugitive cyberpunk losangeles technoir neo-noir climbingupawall hungupsidedown flashbackwithinaflashback cavern battering ram ghosttown bolivia woman politicalcampaign southamerica year2002 basedonnovel dystopia shaolin prejudice zombie pride golddigger regencyperiod parson mashup atomicbomb easternblock crocodile secretintelligenceservice kgb snakecharmer hotairballoon eastberlin britishsecretservice alcohol one-nightstand bed pregnancyandbirth condom paternity druguse beard unprotectedsex duringcreditsstinger parentskidsrelationship sistersisterrelationship courtcase invitrofertilisation medicalexaminer kidneytransplant sex adultery basedonnovel cat infidelity secret obsession blackmail nudity seduction studio friendship stalker love loneliness teacher conservative student teenager relationship art femalestalker extramaritalaffair journal sittingonatoilet antiterror terror cia lossofson policebrutality terrorist lossofbrother waragainstterror kidnapping intelligence despair inhumanity senator plo civilrightsactivist hijacking terrorcell lossofhusband politics politician government lossofdaughter torturebythepolice torture cruelty american surveillance londonengland rockandroll singleparent rapmusic bachelor becominganadult friendship single shakespeare anonymity poet play political duringcreditsstinger falsehistory england adultery duke gamblingdebts marriagecrisis wizardofoz childabuse detective socialworker supernatural murder mentalinstitution youth violence danger cityscape drawn fallingelevator pier psychological deadly mindandsoul supernaturalability fbi island serialkiller seriesofmurders filmproducer midlifecrisis independentfilm divorce securityguard duringcreditsstinger firsttime virgin smoking marijuana stoner roach lollipop paintingtoenails radiocallinshow drivingthroughawall seed referencetopandora\\'sbox angel diner religion apocalypse demon desert angels miami scam crime weightlifting weightlifting duringcreditsstinger londonengland cia teenagehero teenspy ciaagent lie immortality terminalillness laboratory cancer doctor body-swap death rich falsememory soultransference richman mindtransfer hostbody bodysnatching eternal christianity jewry romanempire jesuschrist suffering apostle lastsupper roman bible mission torture rape warveteran immigration priest gang oldman teenager gangster detroit widower car hmong usa whitehouse usapresident georgew.bush president iraqwar factory concentrationcamp hero holocaust worldwarii nazis defenseindustry biography theholocaust mississippi basedonnovel exploitation racialsegregation racism writer maid moralcourage ressentiment southernbelle racialissues 1960s newspapercolumnist helicopter monster skyscraper fight camcorder panic chaos supernatural quarantine friends alien rescue survival disaster escape giantmonster kaiju military foundfootage aftercreditsstinger fathersonrelationship casualmeeting studentofmedicine friends valentine malefemalerelationship openrelationship sexualhumor bestfriend casualsex bestfriendsinlove duringcreditsstinger fling fathersonconflict friendswithbenefit brothersisterrelationship friendship bullying neighbor school drawing basedonchildren\\'sbook schoolbus imagination creek clubhouse realityvsfantasy outsider fantasyworld overflowingwithimagination christmas alcohol isolation wolf wilderness forest stranded alaska survival airplanecrash fear howling death animalkilling freezing animalattack campfire malecamaraderie guninmouth aftercreditsstinger barfight eatenalive eatenbyanimal prison basedonnovel florida 1970s massmurder irish-american drugtraffic biography basedontruestory murder organizedcrime gore mafia gangster newyorkcity extremeviolence violence brooklynnewyorkcity crimeepic tampa headwound criminal securityguard contraband virgin nudity college costume yoga bikini party playboy jail sorority pregnancy model carwash fraternity pledge baseball sport duringcreditsstinger dystopia blackandwhite basedonyoungadultnovel sex aquarium nudity one-nightstand bride man-womanrelation love curse wedding dentist basedonshortstory duringcreditsstinger date lossofson loveatfirstsight childlabour guitar lossofchild lover(female) loveofone\\'slife harmonica lie choir churchchoir rockstar cello forbiddenlove musiclover organ kiss affection music concert tenderness motherlylove children\\'shome deathofachild orphanage secretlove crush children fallinginlove relationship womandirector piano gambling gun professor beating gambler loanshark underdog olympicgames skijump biography sport basedontruestory britain skiing feelgood hospital blackops referencetomacgyver suckedintojetengine monster remake creature bathtub teeth oldhouse scarylittlepeople experiment homicide key sacrifice research test decision police control stalker murder alien gift conspiracy money scientist violence button stranger box biography basedontruestory gangster twins sharkattack louisiana dirtycop shark aftercreditsstinger president history conspiracy lawyer trial boardinghouse militarytribunal historical union privateclub kungfu chinatown magic mystery bank training beating mixedmartialarts teacher muscleman combat alcoholic gym exercise posttraumaticstressdisorder iraqwarveteran u.s.soldier womandirector southernusa rape bar wifehusbandrelationship barn machismo rifle homeinvasion post-apocalyptic dystopia paternity duringcreditsstinger vampire vampirehunter basedonvideogame romania flat mobilephone hamster insult darkcomedy writer tulips meeting puke pants liberal painting auctioneer confidencegame fineart honeypot americanfootball countryhouse motorboat malefemalerelationship thirtysomething beachhouse organicfood weasel groupoffriends reprimand declarationoflove parentchildrelationship texting lowtide forced interruptedvacation osteopath lovesick basedonnovel cemetery narration nudity funeral song friendship roadtrip marijuana snow cigarettesmoking writer photograph ontheroad sexscene typewriter voiceover suicidethoughts roadmovie denvercolorado kerouac philadelphia transporter fight loveofone\\'slife publicity boxer grave tombstone tvstation boxingmatch comeback training restaurantowner worldchampion challenger virtualfight defeat victory cancer over-the-hillfighter sexdoll streaking mouthtomouthresuscitation pornography loveofone\\'slife platoniclove pornographicvideo bestfriend sexcomedy bestfriendsinlove aftercreditsstinger duringcreditsstinger vietnamveteran kuwait newage staringcontest druguse paranoidfantasy hippielifestyle wrestling sport pregnancy familyvacation widower workingmum in-laws yacht movieinmovie scubadiving piranha springbreak maneatenbymonster 3d washingtond.c. sistersisterrelationship post-apocalyptic roadtrip bloodsplatter parody survival zombie violence survivalhorror amusementpark twinkie bodycount zombification disposingofadeadbody bittenonthearm loner aftercreditsstinger zombieapocalypse fearofclowns rebel android asteroid spacebattle snowstorm spacecolony spaceship lightsaber jedi goodvsevil rebellion theforce spaceopera stormtrooper wookie jedimaster jeditraining droid ohio politics dirtytricks presidentialcampaign endorsement campaignspeech presidentialdebate darkness dystopia comet alienlife-form survival eclipse flask corps artificialintelligence computer love loneliness transhumanism heartbreak nearfuture singularity bittersweet dream mercenary secretagent rescue footchase spanish corruption harleydavidson drugdealer losangeles lasvegas fathersonrelationship detective warcrimes patriotism homicide investigation iraq militaryservice police cover-up disappearance murderinvestigation fashiondesigner womandirector assassination martialarts sword bloodsplatter impalement beatentodeath hongkong headbashedin extremeviolence violentdeath hook bloodyfight throatslitting violence suicide newyork hotel fire hotelroom wifehusbandrelationship suicideattempt window door hauntedhouse research ghostworld painting telephone lossofdaughter blood android lasergun swordplay temple spacemarine spacebattle spacetravel spacemission galaxy comb altar magnetbeam jam speedoflight plasticsurgery password shield nose spoof istanbul australia postworldwari farmer missinginaction missingson gallipolicampaign inspiredbytrueevents surgeon stalker romanticcomedy dreamgirl taboo screwballcomedy frisbee troubadour grossoutcomedy intellectualdisability americanfootball bachelor sportsteam sport aerobics tweengirl publicist budapest subway loveofone\\'slife vampire bite descendant hostility shootout werewolf blunt fangvamp prison chicago rape basedonnovel hotelroom wifehusbandrelationship anonymousletter blackmail family\\'sdailylife letter businessman relationshipproblems manbetweentwowomen revenge deception beating violence wallet extramaritalaffair embezzlement advertisingexecutive flashback abortion commutertrain agriculture company witnesstomurder journalist cat ransom kidnapping ancientrome movieinmovie hollywood perioddrama transporter sequel suspense car bankheist action witnessprotection getawaydriver duringcreditsstinger prison fire manipulation seduction vegetarian playground deception arson parole arsonist convict housefire killing restaurant chambersofabarrister scandal pretendedsuicide lawsuit carbomb businessethics crookedlawyer brotherbrotherrelationship farewell fathersonrelationship agedifference parentskidsrelationship secret sadness coffin funeral gathering surprise lsd studies hallucinogen drugtrip arrogance femalecorpse dancing philadelphia running basedonnovel depression letter friendship neighbor mentalillness ex-wife institutionalization bipolar philadelphiaeagles blackpeople basedonnovel holocaust ghetto diary principalwitness biography daughter highschool racialsegregation annefrank schoolexcursion idealism violenceinschools racialtension gangviolence basedontrueevents femalenudity poem rape love domesticviolence womanhood rebel martialarts underground fight training champion sport highschool party revenge blood nemesis violence club brawl spy coldwar spying espionage mole britishspy puppet womandirector savingtheworld riddle nepal himalaya cairo moses egypt whip treasure medallion leatherjacket nazis hat mediterranean arkofthecovenant tencommandments treasurehunt excavation swastika archaeologist indianajones archeology\\xa0 suicide hacker deathofafriend website remake sistersisterrelationship exorcism rhodeisland basedontruestory farmhouse paranormalinvestigation ghost supernaturalpower paranormalinvestigator annabelle rockandroll rock highschool musicband hawaii father-in-law daughter cheatingwife beachhouse boatingaccident estate dyingmother beautifulgirl teenagedaughter trustee trustfund wildgirl wildchild realtor england basedonnovel depression smalltown wheelchair caretaker caregiver disabled twentysomething womandirector romanticdrama deadendjob accident alcohol bar party divorce family hitandrun bathroomhumor nightmare hallucination childhoodtrauma break-up hometown psychotherapy childabuse journalism judge florida boston pedophilia court cover-up priest lawyer catholic catholicchurch catholicism september112001 investigativejournalism cardinal christmas remake littleboy curse vampire highschool prom spoof horrorspoof teenager duringcreditsstinger paris france cairo capitalism lossoflover egypt waragainstterror shotgun patriotism pentagon americandream destroy shipwreck louvre americanwayoflife failure panama damage government eiffeltowerparis worldpolitics massdestruction gay sanfrancisco homophobia mayor biography politics politician electioncampaign homosexuality morality election candlelightvigil mayoralcampaign holiday indianlead beer christmastree cannabis sequel vulgarity drug asian 3d beerpong stepfather remake beach mossad secretagent insaneasylum lye syringe lostoffriend candy lossofsister mobilephone answeringmachine dyinganddeath victim deathofafriend sms asthma friendship police delusion remake cowardliness train dejavu regret jealousy amnesia dream operation relationshipproblems love memory brainwashing relationship heartbreak nonlineartimeline lovestory bittersweet femalenudity sunrise waitress experiment rain sunlight vampire dystopia beautifulwoman slowmotionscene undead decapitation scientist epidemic nightcreatures confidence romanticcomedy dating insecurity airportsecurity unlikelylovers twentysomething duringcreditsstinger wolf arrangedmarriage forbiddenlove roadtrip park parkranger howling socialstatus basedonnovel technology internet hacking teenager newyorkcity game adaptation dare cellphonevideo basedonyoungadultnovel smartphone takingarisk basedonnovel newmexico party vampirehunter revenge priest church skull team crucifix cross relic vampireslayer turningintoavampire drinkingblood date sex bar test friendship insult stripper blonde liar wedding lapdance duringcreditsstinger confidence trauma leavingone\\'sfamily childhoodmemory airplane waronterror music lossofdaughter alone cowardliness family malenudity parentskidsrelationship camping cuttingthecord self-discovery wilderness biography basedontruestory pubichair alaska journey dancing brotherbrotherrelationship sexualobsession showdown sheriff eroticism nudity bankrobber vampire holywater siege stripper priest explosion extremeviolence bankrobbery preacher hostagesituation crucifix recreationalvehicle bloodspurting conveniencestore femalevampire mexicanamericanborder nightclubentertainer boaconstrictor humananimalrelationship musical clowning bear socialsatire aftercreditsstinger duringcreditsstinger 1970s afghanistan hanggliding warinafghanistan taliban cowardice bestfriend cowardliness child lifeanddeath transplantation suicideattempt desperation lossoffamily ex-detainee sadness rageandhate carcrash usa capitalism capitalist wallstreet criticismandblame banking money economics corporation fbi missingchild naturaldisaster violence mortaldanger duringcreditsstinger basedonnovel loser magazine womanizer mission search boyfriend husband fired pastrelationship usapresident antihero dementia future space convict interrogation spacestation collisioninspace year2079 femalenudity prostitute horserace heart stripclub electricshock godzilla sequel tourettesyndrome gang shootout publicsex cigarettesmoking mansion electrocution footchase surgery taser duringcreditsstinger flashback absurdism ultraviolence basedonnovel persia queen esther police cops catandmouse family revengedrama vampire childvampire remake bully youngboy biting deadboy hammerhorror 1980s heist betrayal dirtycop londonengland cook restaurant diva career kitchen redemption drug drugaddict chef comeback familyrelationships doctor retired visit widower duringcreditsstinger hearttrouble baby baseball scientificstudy computer genius mindcontrol goodvsevil babygeniuses basedonnovel 1970s privateinvestigator smokingmarijuana losangeles 1960s terrorist parody documentaryfilmmaker sattire japanese worldwarii spirituality basedonnovel psychoanalysis sigmundfreud biography spanking basedonplay cigarsmoking cheatinghusband basedontrueevents california detective basedonnovel dream undercover cocaine brain exam future test dystopia assignment cyberpunk drug surveillance totalitarian corporation substance schizophrenic condition neo-noir newjersey musical battleofthebands teenager rockband corruption capitalism winter americandream immigrant businessethics truck oil lawyer newyorkcity loanshark coat tunnel 1980s husbandwiferelationship truckhijacking bankloan biography rockandroll musicstyle success johnf.kennedy advancement bobdylan rock biography music beatnik motor-bikeaccident conman estafa americanfootball biography sport championship basedontruestory duringcreditsstinger corruption subway infiltration criminal detective vampire supernatural zombie werewolf ghouls falcon bird origin newyear\\'seve fire showdown terrorist embassy handgrenade truck laboratory ontherun orphan death cigarettelighter microscope hazmatsuit classroom teacher school workplacehumor jealousy cinderella work stepmother highschool schoolparty orphan teenager disguise americanfootballplayer teenageromance stepsister modernfairytale clocktower carrace terrorist delorean lightning guitar plutonium sportscar inventor journeyinthepast timetravel raceagainsttime partner misfit madscientist fishoutofwater teenagelove destiny hiddenidentity oddcouple escapade disorder chasesandraces loveandromance teenagelife misfitpartners changingthepastorfuture gettinghome inventionsanddiscoveries newjersey martialarts sister sport murder mixedmartialarts justice undergroundfighting gym ultimatefightingchampionship alcohol singleparent baby restaurant aquarium sperm littleboy malefemalerelationship pregnant artificialinsemination witch parentskidsrelationship magic twilight darkness villageandtown bathhouse pig ghostworld biology train amusementpark yokai japanesemythology anime worldwarii book nazigermany jewish sex jealousy virgin nudity community friendship highschool roadtrip friends romance redneck lossofvirginity hitchhiker teenmovie boyfriend pickup knoxville taxi bar wales marriageproposal airplane pub cow weddingring wedding proposal cardiologist ireland cliffs becominganadult lie night sister job party friends deception bestfriend alligator marriagecrisis writer\\'sblock orchid malenudity usa california prostitute journalist rodeo kazakhstan demeanorcourse chicken drivingschool antisemitism bear mockumentary reporter aftercreditsstinger duringcreditsstinger airplane therapture remake pilothero holiday elves christmasparty departmentstore safe drink littlepeople christmaseve christmas basedonnovel middleschool aunt remake bloodonshirt slasher deathoffamily masturbation kickedintheface renovation blackstereotype chest femalefriendship highschool fishoutofwater bestfriend teenager popularity gossip teencomedy highschoolrivalry newgirlatschool prophecy sea beach gold smalltown beheading sword narration fog leprosy ship lighthouse church competition basedonnovel sharkattack surfing biography sport duringcreditsstinger hotel florist forest grief seminar motivationalspeaker bigfamily familyrelationships family womandirector christmas biography computer fatherdaughterrelationship applecomputer stevejobs basedontrueevents virgin cheerleader graduation highschool aspen friends inthecloset teenager popularity basedonyoungadultnovel populargirl basedonnovel comingofage duringcreditsstinger duringcreditsstinger londonengland gangleader money gang crime costume song village promise ballet fathersonrelationship helicopter fbi motel chase childkidnapping religioussect goggles sex sliceoflife hollywood drug hedonism ensemblecast childmurder 1980s dysfunctional intersectinglives becominganadult highschool youngpeople onenight wolf suspicion littleredridinghood investigation burglary rwanda refugee refugeecamp militia murder slaughter deadbody atrocity african cruelty violence unitednations genocideinrwanda death assassin secretidentity intelligence sovietunion russia celibacy hitman secretsociety power powertakeover adversary government execution violence killer basedonvideogame secretformula musical basedonstagemusical womandirector basedonthebible nativity christmas california golf oscaraward wine stagnight marijuana writer femalenudity nudity mask babysitter halloween police psychopathickiller independentfilm stalking serialkiller marijuana maskedkiller blood potsmoking slasher murderer throatslitting maniac violence killingspree family cultfilm evil psychotic smokingpot institution escapedkiller neo-nazi gun sniper fbi hitman bodyguard toshootdead police darkcomedy shootout gangster drug femalecorpse survivor violence selfhelpguru tricycle prostheticarm pigmask 3d basedonnovel love beautifulwoman curse teenager popularity blindtutor teenageromance modernfairytale basedonyoungadultnovel ambush newmexico van familyholiday axeinthehead competition roommate college femalefriendship music hazing malefemalerelationship audition groupoffriends dormroom bickering dj singingcompetition filmscore femalemusician singingcontest youngadult acapella remake demon necronomicon duringcreditsstinger beach greece tourbus tourguide viagra hospital icehockey racism pedophile throatslitting shotinthestomach headblownoff policeinvestigation pistolwhip shotintheshoulder childusesgun ankleholster breakingfinger africa lion elephant vegetarian leopard tiger zebra wildlife independentfilm jungle blood exploitationfilm animalattack wildlifereserve wildlifeconservation suicide brotherbrotherrelationship spy prophecy middleeast screenwriter terrorist wifehusbandrelationship nevada amnesia allegory massmurder kidnapping blackmail riot evacuation afghanistan timetravel undercoveragent marxism politics politician smuggling twinbrother movieinmovie murder surrealism balloon interracialrelationship anticonformity endoftheworld conspiracy metaphysics memory search dirtycop apocalypse losangeles terrorism paradox cultfilm doomsday nearfuture alternatereality splitpersonality bigcorporation mothersonrelationship noopeningcredits northkorea doppelganger governmentcorruption southerncalifornia alternatetimeline karma environmentalissue worldwariii mysteriouspast absurdism fourthdimension santamonicacalifornia experiment supernatural paranormal haunting disappearance fear ghost photographer biography hair werewolf hypertrichosis freak england judge irland newlove empowerment countrylife future letter law lovers creativity sister author family filmproducer filmhistory moviestudio hollywood dog mustache hollywoodland silentfilm marquee terrier moviestar flapper silentfilmstar newengland firstlove eyepatch searchparty devastation penpal handkerchief childsmoking smalltownsheriff thecolorred thecolorblue boyscouts sanddancing meetcute boyscoutsleader pipesmoking duringcreditsstinger spain resistance servant antihero fairy fairytale francoregime army princess love woods king hiding labyrinth mythological jealousy roommate obsession campus love murder freshman student losangeles medication violence boyfriend design resentment village arrest police partner murder conspiracy gunfight policeforce cowboycostume accident newyork fathersonrelationship grieving romanticdrama youngadult collegestudent 21stcentury sadness lossoffather junkie luxury heroin beauty charity funeral widow lossofhusband ersatz bestfriend womandirector holiday burglar homeinvasion mischief boobytrap homealone suburbanchicago mischievouschild christmas child malenudity femalenudity adultery midlifecrisis comingout firsttime camcorder virgin nudity filmmaker estateagent satire loneliness darkcomedy suburbia comingofage marijuana exercise parentchildrelationship bittersweet affair greatbritain radio monarchy radiotransmission royalfamily speech marriage royalty deathoffather gay england worldwarii mathematician biography logician cryptography basedonnovel comingofage youngboy breakingthefourthwall middleschool popularity duringcreditsstinger liveactionandanimation friendshipdrama linedrawing supernaturalhorror upperclass lossofmother greatbritain sadness queen monarchy paparazzi primeminister headline oscaraward dyinganddeath queenelisabethii princecharles buckinghampalace royalfamily ladydianaspencer londonengland secret remake revenge lawyer photograph gothichorror hammerhorror estate ghost supernaturalpower babysitter deathofafriend killer strangeperson call fire winter santaclaus snowstorm christmastree snow fireplace poweroutage destruction demon germanaccent family blizzard flashback christmas badkids krampus corruption newjersey handcuffs fbi bridge police burnedalive murder carcrash independentfilm badcop arson dirtycop internalaffairs caraccident newyorkcity violence nypd worldtradecenter jumpingoffabridge corruptcop wifehusbandrelationship biography physicist basedonmemoir stephenhawking fictionalizedbiography motorneurondisease als nurse shotgun nudity therapist book halloween barn deathofafriend insanity numberintitle rampage purgatory hospital pentagram overturningcar mentalinstitution red murderer violence whitehorse duringcreditsstinger michaelmyers phantomjam rape whitetrash revenge murder dysfunctionalfamily swimmer family basedonnovel callboy wedding escort fakeboyfriend womandirector stuntman bloodsplatter independentfilm policechase extremeviolence violence carchase bullet headstomp getaway crimelord existentialism silentprotagonist greatsoundtrack blinddate eccentric aftercreditsstinger crosswordpuzzle mineshaft sistersisterrelationship motherdaughterrelationship auntniecerelationship fatherdaughterrelationship duringcreditsstinger womandirector hitman stripclub africanamerican gangster carchase kitten buddycomedy gunfight stolenpet designerdrug suicide alcohol adultery countrymusic bar infidelity texas paparazzi musician musical van addiction biker love singer womandirector corruption fathersonrelationship carnival mechanic motorcycle bankrobbery cia retired agent sniper explosive loyalty u.s.army iraq carbomb suspense tension iraqwar desert bombsquad bodyarmor womandirector armysergeant poker gambling robbery basedonnovel hitman economy murder blood hit mobster gangster criminal basedonnovel comedian job love malefemalerelationship author writer divorce bestfriendsinlove womandirector missedopportunity montana sheriff pileofdeadbodies money mobster music life\\'sdream aspiringsinger singer teenager deathofbrother grieving musicschool overprotectivefather whiterussian dude bowling vietnamveteran carpet nihilism heartattack kidnapping lsd marijuana losangeles millionaire cowboy ashes impregnation bowlingteam unemployed bowlingball weeds southernusa blues militaryservice independentfilm terror journalism newlove sadness fbi despair hostagedrama support hope friendship faith loss pakistan murder independentfilm pregnancy brugesbelgium townsquare vietnamese canadianstereotype skinnedalive gruuthusemuseumbruges 1970s drums groupie musical rock heavymetal headbanging career family unemployment womandirector graduationspeech loveatfirstsight runaway agedifference naivety christian marriage atheist misanthrope eccentric religion dating newyorkcity oldermanyoungerwomanrelationship limp womandirector soul basedonnovel sadness forgiveness dystopia boardingschool cloning existentialism brotherbrotherrelationship boat psychopath vacation murder suspense neighbor torture dog family secret telepathy technology invention government mindcontrol betrayal trust danger privacy paris bomb vororte dystopia parkour gang undercovercop sequel romanempire ancientrome ancientworld violence britain behindenemylines solesurvivor photographer butcher vegetarian midnight bloodsplatter gore stalking diner decapitation blood violence subwaytrain verylittledialogue biography nelsonmandela 3d khumba artificialintelligence rain future dystopia robot ecology desert childhitman drugstealing yakluza shinjuku criminalsyndicate taiwanese shakespeare forbiddenlove gunviolence starcrossedlovers shakespeareinmoderndress teenageromance masquerade shakespeare\\'sromeoandjuliet gangstergrip ship freedom slave slum indianlead cheating suspicion gameshow orphan duringcreditsstinger sheriff miner delusion headinjury remake slaughter blood aftercreditsstinger 3d londonengland submarine england assassination spy cairo terrorist egypt massmurder pyramid russia plannedmurder secretintelligenceservice kgb villain nuclearmissile tanker sphinx sardinien warhead jetski utopia murder shark killer britishsecretservice skiing africanamerican singlemother fiancéfiancéerelationship corporation richman-poorwoman capitalism primeminister argentina margaretthatcher britishoverseasterritory warpropaganda britishpolitics britishprimeminister femalepolitician falklandswar politicalleader femaleprimeminister rightwing falklands womandirector 1980s lossoflover sadness losangeles roadmovie interracialmarriage wedding duringcreditsstinger shyness basedonnovel unrequitedlove neighbor familyrelationships firstcrush younglove oppositesattract adolescentboy basedonyoungadultnovel gay countryside homophobia lossoflover wyoming rodeo fathermurder horsebackriding intolerance daughter marriagecrisis secretlove cowboy starcrossedlovers suicide alcohol sex screenwriter underworld fight kidnapping party murder scam losangeles gangster explosion criminal shihtzu struggling berlin poison dictator clerk ideology worldwarii traitor despair destroy testament capitulation soviettroops racepolitics nationalsocialism adolfhitler ultimatevictory minister nationalsocialistparty dyinganddeath historicalfigure germanshepherd manager canada popsinger star prayer musiccompetition tourbus aftercreditsstinger duringcreditsstinger justinbieber dancing competition sex dancer obsession paranoia insanity suspense ballet newyorkcity heartbreak mentalillness madness swanlake ballerina bodyhorror miracle christian cure womandirector accident babysitter friendship neighbor divorce childofdivorce prison dualidentity identity loser highschool losangeles duringcreditsstinger mexico beach surfer island survival youngwoman shark greatwhiteshark trapped animalattack animalhorror prey sadistic hostage sociopath serialkiller blood escapedconvict murderer homeinvasion killer deadly escapedkiller fathersonrelationship monster supermarket fight artist fog bible spider survivor faith prayer bloodsplatter gore giantmonster blood anger thunderstorm dancing artificialintelligence distrust isolation technology manipulation friendship deception laboratory robot poweroutage surveillancecamera consciousness existentialism lockdown philosophical robothumanrelationship turingtest cybernetics worldwarii cave dyinganddeath pacifictheater japanesearmy imperialjapan basedonnovel carpet isolation kidnapping imprisonment grandparents escape hospital dog captive mothersonrelationship shed skylight shyness secret narration kiss freshman comingofage teenageboy highschoolstudent firstlove auntnephewrelationship gayleadcharacter santahat lgbtteen auntnephewincest basedonyoungadultnovel streetgang fireworks chase meteor playground arrest cannabis moped carsetonfire carcrash alien socialsatire crime race naivechildren muslim sistersisterrelationship sarajevo bosnianwarof1992-1995 violence unitednations womandirector underground gasstation kidnapping murder suspense serialkiller americanflag multiplestabbings violence persononfire cellphone psycho sheriff crimefighter garage lonewolf dyinganddeath loss delusion puppet doll infidelity bankrupt loneliness comedy familydrama illegalimmigration immigrationlaw machete politician deathofachild hardtokill brutaldeath biography duringcreditsstinger baseball sport basedontruestory familyrelationships exorcism holywater religionandsupernatural vomit christian possession profanity priest ouijaboard satan paranormalphenomena girl demon stronglanguage disturbedchild crisisoffaith sfx fishing atlanticocean bathing shipwreck policechief ferryboat dyinganddeath dollyzoom shark greatwhiteshark animalhorror advice love relationship ensemblecast duringcreditsstinger turningthetables readingabook africanamericancomedy videogame artificialintelligence fbi coldwar hacker prosecution norad government computer nuclearthreat submarine navy scubadiving heroism navyseal pistol secretplot militarylife valor terroristplot navylife nationalsecurity pregnantwife silverstar counterplot duringcreditsstinger terrorist aftercreditsstinger duringcreditsstinger sistersisterrelationship blindnessandimpairedvision eyeoperation eyesight dyinganddeath eye classicalmusic sister eyespecialist remake carpet pimp harvarduniversity joint cannabis teenmovie university persononfire cultfilm dove dean weed+ marijuanajoint smoke drugdeal canon pothead smokering pillbottle doves babypowder graverobbing corpseincoffin pillbox pot womandirector sex lie college funeral friendship grief neighbor marijuana anger alcoholic drunk flashback dysfunctional femalefriendship mermaid teenager womandirector jealousy darkcomedy writer divorce alcoholic arresteddevelopment terror submarine basedonnovel atlanticocean gibraltar worldwarii duty warcorrespondent torpedo drinking sailor convoy uboat destroyer depthcharge comrade germansubmarine navalbattle periscope suicidalmission timetravel timemachine teenager foundfootage depression suicideattempt medicine newlove drugaddiction privateschool girlfriend advice cleverness highschool toilet schoolperformance drama independentfilm teenagecrush psychiatrist schoolbus mystery freelove hotel lovesickness sexuality kungfu android soulmates basedonnovel hotelroom jealousy loveofone\\'slife restart singapur unsociability secretlove murder author hongkong break-up illegalprostitution extramaritalaffair photographicmemory adolescence lossoffather lion southafrica bullying kidsandfamily rescue bully youngboy cheetah wildanimal alcohol mermaid weddingdress fishingnet selkie brotherbrotherrelationship assassination cultureclash warondrugs yakuza sake loyalty drugdealer femmefatale losangeles usa sex brothersisterrelationship mexicocity border support insurancesalesman punter brother unitedstates–mexicobarrier sister humantrafficking rescue independentfilm criminal doublelife undercover lie wife company industry femmefatale conspiracy espionage memoryloss corporatecrime dystopicfuture hiddenidentity disorder dishonesty powerrelations mindandsoul uncovertruth mysteriouscharacter basedonnovel faith basedontrueevents dancing competition hotel florida danceteacher suspense android galaxy hermit deathstar lightsaber jedi rescuemission empire rebellion planet smuggler theforce spaceopera galacticwar stormtrooper totalitarianism grandfathergrandsonrelationship grandfather roadtrip wedding retired pervert armygeneral sexcomedy sport irishamerican documentarycrew lowellmassachusetts bluecollarworker churchbells documentaryfilmmaking boxershorts jumpingrope shadowboxing duringcreditsstinger solidarity snake exhibit musical shenanigan chaos receivingofstolengoods girls\\'boardingschool quizshow unorthodox debt principal anarchy groupoffriends duringcreditsstinger distillery basedonnovel theatregroup northcarolina theatremilieu highschool cancer comingofage tragiclove teenager starcrossedlovers aftercreditsstinger womandirector lovetriangle basedonnovel homesickness vororte ship community marriage workingclass boardinghouse ireland brooklynnewyorkcity journey duallife irishimmigrant 1950s nazis basedontruestory art stolenpainting waitress riot gangwar nightmare prayer revenge gang brighton violence record smalltown fishing malefriendship australia marriagecrisis marriage friendship murder australianaborigine aboriginal aborigine lossofchild solareclipse hauntedhouse family psychopathy farewell homesickness nasa extraterrestrialtechnology operation spacemarine lossoffather hidingplace ridingabicycle flyingsaucer prosecution halloween flowerpot finger single infidelity party love cancer neighbor writer teenager illness flashback actress duringcreditsstinger baseball boston professor m.i.t. harvarduniversity ambition mathematics genius love friends janitor irish psychologist university courtroom flashback prodigy cheerleader sport highschool teenagegirl cheerleading cheeringcrowd duringcreditsstinger dystopia sequel legalizedmurder ice victim pain games psychopath blood electricchair doctor torture violence policeofficer fbiagent femalecorpse jealousy journeyinthepast sigmundfreud timetravel heavymetal socrates billythekid schoolpresentation rhinoceros phonebooth worldpeace past history metal bestfriend napoleonbonaparte hotel basedonnovel india ensemblecast elderly jaipurindia personalgrowth outsourcing suicide england fire countryhouse shower nanny mask boy murder mansion violence doll burnvictim secretpassageway brokenmirror lossofachild claustrophobia trappedinanelevator angel wisconsin churchservice church aftercreditsstinger duringcreditsstinger competition coma infidelity obsession bathing highschool femmefatale athlete hospital swimmer swimming troubledteen feralchild remake dragon orphan 1980s liveactionandanimation hauntedhouse sequel twins brothersisterrelationship wheelchair hypnosis investigation cover-up ufo alaska disappearance hospital alienabduction patient psychotherapy fakedocumentary basedonsupposedlytruestory nomealaska fakedfootage audiocassette ancientastronaut anchoragealaska policefake duringcreditsstinger cincinnati womandirector mother man-womanrelation single matchmaking singlemother catfishing concert detective stalker gift bully psychologicalthriller aftercreditsstinger duringcreditsstinger diary romanticcomedy deathoflover spirit deathbyaccident psychic movingon hotel infidelity one-nightstand friendship swimmingpool drinking naive duringcreditsstinger usa neo-nazi prison skinhead brotherbrotherrelationship rape fascism brother basketball jail school swastika losangeles family hate neonazism xenophobia interracialfriendship nazism prisonrape gang newyorkcity drugoverdose fathersonrelationship newlove fiancé training rent jogging marathon wedding pregnancy aynrand racepolitics daughter installer police fall carcrash racism losangeles bigotry socialservices collision pornostar hollywood japan forest father-in-law marriage documentaryfilmmaking hipster middleage documentaryfilmmaker generation-x generation-z psychedelicdrug secret asylum bedandbreakfastplace past psychopath trailerpark gun texas deal psychopath sexualhumiliation money lingerie arson policedetective physicalabuse neo-noir burial pizzashop drugs independentfilm duringcreditsstinger hitman politicalsatire suicide suicidemission malenudity poetry adolescence lie nudity rejection highschool independentfilm teacher vulgarity student willtosurvive killer forcedretirement defencecompany jumptheshark teambuilding newyork sex-shop prostitute sex fortuneteller underworld murder prejudice racism violence pawnshop bipolardisorder independentfilm duringcreditsstinger boat boataccident underwater shark greatwhiteshark londonengland indianlead murder matchmaking ghost womandirector gunslinger bountyhunter blacksmith duel wildwest comedy cheatingonpartner amusementpark summerjob carny marijuanajoint baldness pickingone\\'snose recklessdriving reconciliation pushingacar marijuanapipe ticketbooth scene raisedmiddlefinger jobseeking leavinghome druggedcookie duringcreditsstinger youngadult 1980s londonengland japan england assassination helicopter vulkan assassin asia secretidentity nasa island russia missile warship ninjafighter secretbase secretmission secretorganization secretintelligenceservice phantom villain sumoringer volcano funeral space soldier killer secretservice blast childabuse rape fire sexualabuse madrid secret return solidarity village superstition crime death ghost abusivefather writing plagiarism independentfilm homeschooling aftercreditsstinger duringcreditsstinger 1970s humananimalrelationship australia grief search dog death mourning basedontrueevents australianoutback dogmissing android countdown spacemarine spacesuit beheading dystopia biology cowardice spaceship space alien femaleprotagonist outerspace parasite h.r.giger xenomorph paris florida fighterpilot sanatorium secretorganization nuclearmissile coralreef bahamas scubadiving scuba britishsecretservice highschool murder slasher horrorspoof singleparent bankrobber lastchance losangeles biography historicalfigure princess drama basedontruestory independentfilm aspiringsinger singer losangeles newyork sex asylum controversial independentfilm psychiatrist treatment womandirector mental highschool teenager popularity highschoolstudent teencomedy duringcreditsstinger girlnextdoor basedonyoungadultnovel poet independentfilm duringcreditsstinger womandirector bollywood journalism underground tvstation sociopath homeinvasion carchase tvnews employeremployeerelationship ethics stringer california brothersisterrelationship wifehusbandrelationship family\\'sdailylife oscaraward highway professorforliterature beautycontest beautyqueencontest roadtrip familyrelationships familyholiday roadmovie womandirector beautypageant painter fathersonrelationship therapist cancer psychologist bestfriend doctor patient vomiting driver\\'slicense chemotherapy therapistpatientrelationship blowjob cigarettesmoking illegaldrugs smokingweed shoes londonengland suicide england switzerland secretidentity newidentity honeymoon secretmission secretorganization secretlab villain kilt familyhistory titleofnobility snowstorm daughter espionage killer britishsecretservice skiing alps aftercreditsstinger blackpeople spelling spellingbee minnesota smalltown economy plants vegetarian love ruralsetting labor manufacturing middleamerica rube icefishing boston sheep friendship sequel revenge ireland lie highschool school teenmovie rumor singleparent waitress fountain friendship highschool prom musicfan suicide depression independentfilm comingofage teenmovie teenager psychiatricward womandirector basedonyoungadultnovel barbarian underwater trapped seamonster womandirector indianterritory beach stetson sanfernandovalley strangeperson vororte blackhumor satire darkcomedy gore decapitation spoof zombie canuxploitation londonengland mother robbery detective assassin hitman insomnia apprentice remake revenge murder gangster crime art surveillance savingtheworld totaldestruction megacity streetgang underground general stadium experiment atomicbomb mutation dystopia army cyberpunk anime motorcyclegangs londonengland flowershop homosexuality lesbian lgbt londonengland femalenudity women countryside basedonnovel subway provence countryhouse writing innkeeper generationsconfilct dyinganddeath daughter swimmingpool murder suspense author drug adolescence agedifference self-discovery comingofage loveaffair youth family womandirector teachingthewaysoftheworld parentsandchildren loveandromance teenagelife infidelity conman thief independentfilm business manufacturing industrialaccident duringcreditsstinger sexlessmarriage misfortune butler dublin maid basement hole littlebrother dictator trainer classroom fascism groupdynamics education nationalsocialism training squatter anarchist group gymnasium learningandteaching violenceinschools homepage socialexperiment model sexuality becominganadult puberty firsttime oscaraward pregnancyandbirth pregnantminor precocity partnership teenager teenagepregnancy spy fight secretorganization satellite secretagent plasticsurgery smuggling murder extortion violence millionaire fingerprints dirtbike womandrowned casinoowner oldwomanmurdered highdive genderdisguise aftercreditsstinger mastervillain italy loveatfirstsight lossoffather patriarch organizedcrime mafia lawyer italianamerican crimefamily risetopower mobboss 1940s date sex jealousy fight architect gallery interview sister party love friends fate losangeles summer ikea year heartache dancing florida stripclub malestripper novice londonengland newyork bomb england spy sheriff dualidentity secretidentity drugtraffic tarotcards heroin crocodile jamaica secretmission secretintelligenceservice motorboat drugsmuggle voodoo tombstone aftercreditsstinger mississippi childhoodmemory dog lovesickness loveofone\\'slife narration lovers kiss daughter affection relation makeamatch sexeducation relationship divorce fatherdaughterrelationship pastrelationship africanamerican wedding classdifferences martha\\'svineyard telecaster communist politicalactivism tvshow politician government anti-communism gay self-fulfillingprophecy basedonnovel journalism identity dream literatureresearch literature dyinganddeath biography londonengland england martialarts assassin exoticisland gold hitman secretmission villain bangkok thailand floatplane karate hongkong duel pistol secretservice aftercreditsstinger sadistic killing fire sheriff bountyhunter cocaine motel ax sadism psychopath roadtrip sequel murder rampage antisocialpersonalitydisorder serialkiller shootout torture corpse sadist extremeviolence brutality maniac violence stabbing killingspree heldatgunpoint cultfilm roadkill macabre misogynist roadmovie killerclown paintedface evilclown homicidalmaniac sadistichorror california hip-hop harvarduniversity geek comingofage teenager drug highschoolstudent upperclass halloween psychopath urbanlegend youth satanicritual talent success musician womandirector mumblecore angel miracle village christian candle christmas lossofmother clerk grocery lossofrelative lossofwife briefs duringcreditsstinger newjersey equality lesbianrelationship cancer independentfilm womandirector arbitrarylaw boston twinbrother russianmafia prologue irish policestation pager duringcreditsstinger sheriff vampire orphanage writer edgarallenpoe ghost murdermystery prison middleeast rape muslim militia interpreter son christian orphanage swimmingpool massacre checkpoint politicalassassination twins will suspense slum policebrutality brazilian warondrugs riodejaneiro drugtraffic drugdealer torturebythepolice specialforces lawenforcement prequel evildoll killerdoll spinoff doll demonicpossession killertoys toycomestolife secretorganization murder environmentalism vanityfilm eco-terrorists multiplefelonies independentfilm wounded soldier iraqwar savingtheworld artificialintelligence rebel cyborg shotgun killerrobot sunglasses dystopia carchase lasergun urbansetting futurewar bureaucracy berlinwall policestate coma lossofmother wifehusbandrelationship patriotism germandemocraticrepublic socialism newsbroadcast lossoffather lenin single \\xa0 filmescontraocomunismo law relatives theft criminal criminalmastermind hungarian sibling supermarket heartattack ambition daughter wrestling sport stripper steroids fame barbedwire wrestler redemption taxi streetgang usapresident warveteran hostage kidnapping liberationofprisoners antihero gangsterboss dystopia policeoperation attempttoescape cyberpunk reluctanthero competition grandfathergrandsonrelationship vomit summercamp toilet rivalry colonel plagiarizedbook stolennovel plagiarizednovel aspiringwriter mexico organizedcrime druglord padre aftercreditsstinger duringcreditsstinger prostitute blackmail drugsmuggle ruralireland dryhumour michigan 1970s youth family womandirector americanfootball lossofbrother funeral sport prayer gymnasium coach basedontruestory numberintitle familyrelationships autoaccident partner murder ontherun fugitive crime family homecoming crimegoneawry dishonesty siblingsrelations chasesandraces criminalheroes consandscams murderouspair womandirector netherlands worldwarii londonengland tradition indianlead cultureclash immigration roleofwomen sikh women\\'ssoccer soccer family womandirector religionandsupernatural bloodsample occult swatteam gasmask nightvision freezer foundfootage android harleydavidson cryogenics spacetravel love parody spaceship space alien motorcycle exercise lasers forcefield metafilm forcefield motorbike cryonics gay fathersonrelationship sex italo-american lovesickness italian canada newlove comingout macho basedonplay gayrelationship family familyfeud lgbt emigrant dominatrix bdsm pastor churchservice spirituality religion monster ireland drunk beheaded goa drugbust raveparty hauntedhouse possession demon family ghost brideinblack kidnapping bunker paranoia basement survivalist apocalypse caraccident captive witch sistersisterrelationship sequel prequel haunting foundfootage terror experiment afterlife paranormal violence death evil researcher possesion individual insulin tattoo waitress amnesia motel insurancesalesman revenge memoryloss polaroid flashback neo-noir brothersisterrelationship sistersisterrelationship familyclan idealist duringcreditsstinger paris treasure catacombs scientist singinginacar archaeologist lossoffriend subjectivecamera foundfootage thickaccent femalearcheologist burningcar philosopher\\'sstone frenchaccent rappinginacar femalenudity sex florida drugdealer nudity femalefriendship party arthouse drug springbreak youngadult moon nasa infection barbecue moonlanding hammer alien mockumentary astronaut alieninfection foundfootage suicide singleparent sistersisterrelationship cleaninglady newmexico teamwork familybusiness crimescene womandirector sex black parody spoof millionaire moon artificialintelligence clone isolation future dystopia space cloning moonbase monk sunrise medicine hostage evacuation koran protection french community peace faith basedontruestory religion terrorism winegarden wine winzer mother sex secret obsession literature nudity fantasy passion love friends murder independentfilm lesbian true relationship alcohol arizona beer playboy independentfilm salesman pregnant repoman lossofson trauma toy marriage grief memory crying parkinglot therapy carseat skinhead heroin music cover-up murder suspense gore ducttape swastika pitbull witnesstomurder meatcleaver bittenintheneck neonazi punkband fireextinguisher mumblegore killerdog mauling boxcutter feedback micstand trilogy aynrand biography mahatmagandhi tragedy rapmusic pennsylvania brothersisterrelationship farm grandparents murder children independentfilm farmhouse singlemother violence oven foundfootage hideandseek diaper barcelonaspain blackmail concierge caretaker stalking apartmentbuilding peephole chloroform photographer surgeon orchestra doctor caraccident poweroutage stuckinelevator elevator christmas canada nazis sequel spinoff ancientevil bathroom sex amsterdam europe brothel slovakia backpacker horror gore blood torture businesscard doberman hostel surgery eliteclub fingers adaptation filminafilm femalenudity political votingresults upperclass loveatfirstsight weddingvows marriageproposal yuppie loveofone\\'slife lonewolf snob witness bride bridegroom bridesmaid funeral clumsyfellow friendship wedding gaycouple wifehusbandrelationship stress children motherdaughterrelationship parenthood parenting parentchildrelationship duringcreditsstinger independentfilm robbery miner treachery sundancekid nativepeoples butchcassidy wheelchair nightmare funeral injection crying casket shovel lily argument crucifix womandirector becominganadult musical music highschool schoolperformance highschoolsports jock teenager clique theater peerpressure teenageromance transvestism gay hostage loveofone\\'slife northernireland homosexuality gayinterest teenagecrush soldier politicalunrest zombie post-apocalyptic dystopia zombie individual prostitute alcohol casino loveatfirstsight lovesickness filmproducer screenwriter hotelroom dyinganddeath rageandhate unsociability alcoholism losangeles alcoholabuse attemptedsuicide malenudity femalenudity sex adultery infidelity obsession blackmail villain hiddencamera blinddate deathofafriend insanity highschool stalker sociopath unrequitedlove neighbor unfaithfulness losangeles principal caraccident violence sexscene extramaritalaffair tiedup carexplosion highschoolteacher fatalattraction mothersonrelationship olderwomanyoungermanrelationship criticallybashed lossoffriend womaninjeopardy cryingwoman damselindistress eroticthriller muscular lesbianrelationship lesbian dinner motorcycle argument biologicalfather artificialinsemination controlfreak vegetablegarden womandirector lgbtfamily dystopia socialcommentary alieninvasion sunglasses brawl upperclass prostitute journalist drowning newspaper magic tarotcards magicshow lordship suspicionofmurder headline funeral investigation daughter musicinstrument afterlife swimmingpool murder wealth american unitedkingdom newyork sanfrancisco alcoholism serialkiller alcoholic philosophy mentor artist painting friendship teenmovie teenager sketching rebelliousyouth londonengland nightclub chase fraud liar love thief wealth money scam hospital secretary business wedding parole con dishonesty hairdresser hairstylist rape obsession lie job independentfilm teenagegirl school internet bestfriend counselor internetchat duringcreditsstinger onlinechat catfishing onlinehookup onlinepredator malenudity canada vampire cult killing highschool femalekiller revenge prom escape teenager terrorism britishfarce sanfrancisco homelessperson bar suicideattempt heartattack friendship hospital gay becominganadult education exam scholarship oxford cambridge history basedonplay student boys\\'school teachersandstudents 1980s rapmusic parentskidsrelationship rapper job witch newengland 17thcentury california helicopter beach tornado hurricane attack blood chainsaw storm explosion danger shark tvmovie flood hunter mountains wilderness adventure forest secretgovernmentorganization huntingtrip wildlife conspiracy troll mockumentary foundfootage aftercreditsstinger climatechange documentary parentskidsrelationship penguin brood autonomy egg survival snow antarctic capitalism brokerage wallstreet downsizing financialcrisis stockmarket stockmarketcrash 21stcentury investment jazz obsession conservatory musicteacher newyorkcity violence montage drummer publichumiliation jazzband youngadult musicschool malenudity streetgang brazilian photographer 1970s puberty ghetto gangwar comingofage womandirector 1980s depression biography drug children\\'sbook asperger\\'ssyndrome electricalengineer asperger\\'s individual newyork adolescence colombia drugtraffic cocaine drugcrime illegalimmigration maquiladora airplane bravery teacher pregnancy selfesteem gay lossofmother secret comingout lossoffather cancer lgbtelderly sex nudity college fraternity grossoutcomedy dean fraternityhouse probation 1960s collegefreshman anarchiccomedy secretorganization secretintelligenceservice nuclearradiation fortknox astonmartin secretlab kentucky gasattack airplane britishsecretservice duringcreditsstinger injection celebrity satire nearfuture metamorphosis technoir virus bodyhorror londonengland alcohol sex basedonnovel drugaddiction drugdealer nightclub junkie heroin coldturkey modernsociety hallucination friendship surrealism darkcomedy stealing monologue cultfilm recoveringdrugaddict illegaldrugs drugdeal drugrehabilitation drugculture antihero ouijaboard haunting demonicpossession foundfootage duringcreditsstinger usa canada gun homicide toshootdead checksandbalances columbine oklahomacitybombing gunviolence personrunningamok mountains mountainvillage friendship basedontvseries youngboy pokémon bestfriend fighting basedonvideogame pikachu anime portal undertaker evil tallman sentinals slum baby fight nudity leader johannesburg police love friends murder gang teenager violence criminal hijack femalenudity prostitute shotgun pimp underwear dystopia vigilante blood massacre brutality violence spittingblood whitesuit genocide bodymutilation extremesadism childkiller sawedoffshotgun flamethrower attemptedrobbery intestines disembowelment attemptedrape shotrepeatedly college femalefriendship youngadult bridesmaid stripclub femalefriendship reunion druguse wedding weddingdress childhoodfriends womandirector bacheloretteparty bitch fatwoman femalenudity corruption cheating experiment limousine highschool independentfilm student economics realestate womandirector witch adolescence basedonnovel secretidentity clock dream lion tornado scarecrow musical crow music kansas classic imaginaryland cowardliness sepiacolor baseball sport scissors radio nudity time woods surrealism travel independentfilm scientist machine nonlineartimeline binoculars injury voyeur loop diet fasting vegetablejuice australianman horrorspoof foundfootage duringcreditsstinger stand-upcomedy manhattan,newyorkcity madisonsquaregarden duringcreditsstinger friendship robot seniorcitizen catthief alcoholism comingofage teenager highschoolstudent basedonyoungadultnovel muslim museum jew evidence rabbi interview christian faith atheist chapel religious catholic evolution trucker mormon skeptic creationism aftercreditsstinger virtualreality dystopia moralconflict computer loneliness watershortage teacher bomb gun drugdealer costume comicbook party superhero darkcomedy gore blood comicbookshop comicbookcollector dinner violence policeofficer cosplay duringcreditsstinger holiday skinhead england vandalism independentfilm gang racism summer youth violence drug unemployment xenophobia culture orchestra classicalmusic musicalsegments terror obsession camcorder firemen religionandsupernatural realitytv bite cinematographer attempttoescape lodger live-reportage foundfootage venice londonengland terror england assassination spy assassin istanbul russia secretmission secretorganization secretintelligenceservice kgb orientexpress zagreb gondola phantom villain duringcreditsstinger rape sex identity smalltown love friends murder romance true transgender anger womandirector nebraska smalltownmurder transphobia genderidentity father faith biography independentfilm v.a.hospital junksale jellybean greetingcard fileclerk garagesale comicbookart neurotic womandirector paris journalist dialogue talking soulmates walking bookshop loveofone\\'slife author father court bail drugtrade girl aftercreditsstinger duringcreditsstinger womandirector corruption capitalism globalization bank banker fraud wallstreet finances globaleconomy banking crisis money economics financialcrisis stockmarket corporation watchingamovie playingpool vinegar gay newyork freelove swingerclub transsexuality sex heterosexual suicideattempt eroticism groupsex orgasm sextherapy video dominatrix homosexuality unsimulatedsex whitehouse occupyingpower independentfilm incompetence irak superpower warfare gold oregon thirst tree settler familyrelationships nativeamerican saltlakecity pioneer womandirector stonewallriot womandirector femalenudity horror darkcomedy femalehomosexuality femalevampire camcorder reality insaneasylum paranormal haunting psychiatrichospital ghosthunting paranormalinvestigation labyrinth mentalasylum foundfootage kidnapping murder suspense lake sharkattack isolation coffin raceagainsttime buriedalive survival terrorism danger cellphone desert psychological aftercreditsstinger captivity chasesandraces mindandsoul confined beach wales friendship bullying teenagegirl lossofvirginity womandirector judge juggler passion reality streetartist jail independentfilm fame hiding tower exorcism fraud evilspirit humansacrifice mockumentary preacher satanicritual foundfootage sataniccult musician musical biography teenager darkpast hitbyacar newbrightonengland womandirector 1950s aspiringmusician heartattack drugtraffic drugcrime mexicanprovince celibacy priest pregnancy catholicism newmexicancinema refugeecamp hurricane fantasy flooding globalwarming drama bayou crab storm celebration auroch toughlove defrost levee prehistoriccreature lostmother meltingicecaps shrimp saltwater explosives crawfish shrimping submerged grits africanamericanchild wildman comedian comedy duringcreditsstinger illusion independentfilm bhutan storyinstory weaver storytelling cave planewreck salmon bears northerncanada wolves alaskanmalamute dove\"family-approved\" independentfilm womandirector christian medium evilspirit housewarming aftercreditsstinger sex sexuality irony sarcasm naivety blackhumor swimmingpool teenagegirl sexualhumor summer loveinterest summervacation fatherdaughterrelationship attraction highschoolstudent teenagesexuality clumsiness lifeguard immaturity awkwardness list womandirector publicpool femalesexuality virginity 1990s neworleans alligator malefriendship ax swampf serialkiller parody parallelworld california sex bar motel highway reunion cancer independentfilm violence anger divorcee drunk trucker americana traffic witch coven salemmassachusetts satanic hauntedhouse father-in-law superstition housearrest basement mystery plottwist explodinghead securityguard gardenshears dentures homedetention poison witch becominganadult sadness queen attemptedmurder dyinganddeath appearance princess candlelightvigil snowwhite undercover dog animalwelfare animalrightsorganization puppymill animalrescues collegeintern ghoststory ambush alcohol shotgun tea joint machismo cocktail rifle marijuana cockneyaccent potsmoking hatchet antique cardsharp anger carjacking piano stripshow highstakes palmsunday jerusalemjudah bethlehemjudah baseball bountyhunter refugee gold antihero gallows hitman army outlaw shootout moralambiguity spaghettiwestern bookstore marketing breastcancer corporatism womandirector crimeboss tenement highrise monitor towerblock jakartaindonesia swat swatteam supernatural drama ambition bollywood business india strugglingcareer londonengland england assassination spy casino exoticisland cardgame spacemarine intelligence jamaica secretbase secretmission baccarat secretorganization secretintelligenceservice nuclearradiation villain secretagent atomicreactor radiation ukraine nuclearradiation tourist nuclearpowerplant stranded desertedtown pripyat dancing nurse depression classroom bridge marriage truck love dysfunctionalfamily children individual gay newyork usa missionary fathersonrelationship sexualidentity transsexuality runaway sexualabuse waitress parentskidsrelationship drugaddiction cocaine women\\'ssexualidentity hustler newidentity motel therapist pornactor roadtrip independentfilm losangeles transgender stolencars hitchhike rome exorcism death demonicpossession foundfootage pop popstar musical climatechange greenhouseeffect climate earth globalwarming politics truth crisis nature environment science audience newyork filmdirector legend song public rollingstones rock guest musicvideo music concert theatremilieu performance foodindustry monsanto organicfood sustainable griculture corn adoption college sexualabuse cult boundaryviolations mumblegore energysupply automobileindustry independentfilm pornography sex secret fight star superhero independentfilm wedding crime mormon womandirector sidekick henchmen southernusa smalltown virgin independentfilm bestfriend independentfilm break-up ex-boyfriendex-girlfriendrelationship rollingacigarette autocide recordplayer hypodermicneedle missingpet headinoven grocerystore armincast guninmouth toast listeningtomusic corruption war indonesia taxi afghanistan guantanamobay torturechamber biography antarctica skateboarding forgiveness sport familyrelationships aftercreditsstinger swimmingpool teakettle congaline spitintheface conveniencestorerobbery racingcar growingup scam maleprostitute virtualreality blackandwhite womandirector racist religion lsd government conspiracy tension videocamera druguse writer desert radiobroadcast mindbender numberstations lovecraftian mkultra experimentaldrug college blog darksecrets baby roommate friendship single losangeles dating pregnancy womandirector suicide rape agedifference photographer ice shower menace lie pedophilia manipulation bedroom sadism electricshock coffeeshop castration insanity vigilante sociopath deception neighbor teenagegirl crying torture sadist pedophile cruelty oldermanyoungerwomanrelationship oneday justice drinking rooftop heldcaptive mentalillness threat sexualtorture screaming electricaltorture childhoodsexualabuse photostudio verbalabuse policebrutality basedontruestory racism docudrama dayinalife forest comingofage bestfriend lossoflovedone relationshipproblems malefemalerelationship divorce bestfriendsinlove norway undead zombie wintry stand-upcomedy antiterror terror beer supernatural towel inn phone whispering casaencantada mumblegore suicideattempt gun texas massmurder farmworker plannedmurder beauty dyinganddeath fraud plan surprise farm victimofmurder conspiracyofmurder highschool murder youth beautifulgirl femalecorpse independentfilm witch womandirector date ex-girlfriend bicycle crack independentfilm nativeamerican racism family womandirector witch voodoo legend sorcery maryland forest footage horror true student lost foundfootage film adolescence cultureclash pressconference behindthescenes policechase mockumentary oldermanyoungerwomanrelationship shaving thebeatlessong railwaystation performer psychotronic generationgap televisiondirector fathersonrelationship fire firemen christian advice marriage faith christianfilm dysfunctionalmarriage religiousconversion hospital christian independentfilm suicide alcohol secret birthday lake oregon brother party love friends prank bully drug gayman naked invite dare malefemalerelationship co-worker relationship mumblecore explodingbuilding duringcreditsstinger monster pyramid radio dystopia infection forest low-budget alien alieninvasion centralamerica vigil cattle deadfish highschool independentfilm zombie extremeviolence carnival musical sequel devil darkcarnival revenge drifter virginia characterstudy neo-noir visualstorytelling mumblegore haunting psychic entity demonicpossession foundfootage holygrail monk scotlandyard swordplay camelot roundtable chapter aggressionbyanimal knight kingarthur weddingreception midnightmovie montypython knightsoftheroundtable anarchiccomedy womandirector malenudity femalenudity hostage paranoia dysfunctionalfamily unsimulatedsex incest lesbiansex mentalillness explicitsex sexualawakening fantasyworld isolatedhouse brothersisterincest homeeducation sistersisterincest rapmusic hip-hop blunt womandirector sex thanksgiving roadtrip love independentfilm neighbor marijuana family illness newjersey comingout loveofone\\'slife bisexuality menageatrois comicbook comic-stripartist independentfilm lesbian bestfriend chair customs studentvisa parents blogger sex adultery jealousy nudity seduction control liar hollywood fear threesome possessiveness psychotherapy filmindustry snooping mindgames affair trustfundbaby prison drugdealer singlemother teenagepregnancy womandirector dominican brotherbrotherrelationship lossoffather arkansas gun room suspicion guard pill job psychologist disease interrogation candidate narcissist corporation pandemic rules prison isolation michigan crisis firefighting detroit womandirector family\\'sdailylife bible platoniclove hope churchservice deathofafriend policeeverydaylife sexuality roommate misfit independentfilm relationship womandirector philosophy secret birthday professor psychology bible time legend immortality history survival prehistoric memory anthropology religion church science cavemen brothersisterrelationship class footrace gay greatbritain one-nightstand independentfilm gayrelationship mexico blackpeople pimp antihero blackpanthers blackpanther blaxploitation unsimulatedsex losangeles rockandroll pop irland musicstyle loveofone\\'slife fascination musiclover song lovers dublin tomakemusic music musicinstrument tenderness pianist lovesickness musicband pornography interview biography photography pornostar fashion womandirector sistersisterrelationship secret romance cottage relationship mumblecore womandirector independentfilm slavery christian sport aftercreditsstinger gallows highschool tragedy hanging foundfootage stageproduction hacker mathematician helix headache chaostheory migraine mathematics insanity genius gay lgbt sistersisterrelationship malefemalerelationship motherdaughterrelationship youtube womandirector hacker supernaturalpowers roadtrip independentfilm superpower boyfriendgirlfriendrelationship secretlaboratory highschool murder slasher teenager 1970s music murder darkcomedy crimefamily salesclerk loser aftercreditsstinger dating divorce sexscene sexcomedy antiromanticcomedy homeinvasion distrust garage identitycrisis timetravel timemachine mathematics independentfilm paradox mechanicalengineering SamWorthington ZoeSaldana SigourneyWeaver JamesCameron In the 22nd century, a paraplegic Marine is dispatched to the moon Pandora on a unique mission, but becomes torn between following orders and protecting an alien civilization.'"
      ]
     },
     "execution_count": 60,
     "metadata": {},
     "output_type": "execute_result"
    }
   ],
   "source": [
    "movies_dataset['tags'].apply(stem)\n",
    "movies_dataset['tags'][0]"
   ]
  },
  {
   "cell_type": "code",
   "execution_count": 61,
   "id": "288ad416",
   "metadata": {},
   "outputs": [
    {
     "data": {
      "text/html": [
       "<div>\n",
       "<style scoped>\n",
       "    .dataframe tbody tr th:only-of-type {\n",
       "        vertical-align: middle;\n",
       "    }\n",
       "\n",
       "    .dataframe tbody tr th {\n",
       "        vertical-align: top;\n",
       "    }\n",
       "\n",
       "    .dataframe thead th {\n",
       "        text-align: right;\n",
       "    }\n",
       "</style>\n",
       "<table border=\"1\" class=\"dataframe\">\n",
       "  <thead>\n",
       "    <tr style=\"text-align: right;\">\n",
       "      <th></th>\n",
       "      <th>id</th>\n",
       "      <th>title</th>\n",
       "      <th>tags</th>\n",
       "    </tr>\n",
       "  </thead>\n",
       "  <tbody>\n",
       "    <tr>\n",
       "      <th>0</th>\n",
       "      <td>19995</td>\n",
       "      <td>Avatar</td>\n",
       "      <td>Action Adventure Fantasy ScienceFiction Advent...</td>\n",
       "    </tr>\n",
       "  </tbody>\n",
       "</table>\n",
       "</div>"
      ],
      "text/plain": [
       "      id   title                                               tags\n",
       "0  19995  Avatar  Action Adventure Fantasy ScienceFiction Advent..."
      ]
     },
     "execution_count": 61,
     "metadata": {},
     "output_type": "execute_result"
    }
   ],
   "source": [
    "movies_dataset.head(1)"
   ]
  },
  {
   "cell_type": "code",
   "execution_count": 62,
   "id": "93e8e56d",
   "metadata": {},
   "outputs": [],
   "source": [
    "from sklearn.metrics.pairwise import cosine_similarity"
   ]
  },
  {
   "cell_type": "code",
   "execution_count": 63,
   "id": "d449f3f4",
   "metadata": {},
   "outputs": [],
   "source": [
    "similarity = cosine_similarity(vector)"
   ]
  },
  {
   "cell_type": "code",
   "execution_count": 64,
   "id": "444673b8",
   "metadata": {},
   "outputs": [
    {
     "data": {
      "text/plain": [
       "744"
      ]
     },
     "execution_count": 64,
     "metadata": {},
     "output_type": "execute_result"
    }
   ],
   "source": [
    "movies_dataset[movies_dataset['title'] == 'The Lego Movie'].index[0]"
   ]
  },
  {
   "cell_type": "code",
   "execution_count": 65,
   "id": "27bf5a4a",
   "metadata": {},
   "outputs": [],
   "source": [
    "def recommend(movie):\n",
    "    index = movies_dataset[movies_dataset['title'] == movie].index[0]\n",
    "    distances = sorted(list(enumerate(similarity[index])),reverse=True,key = lambda x: x[1])\n",
    "    for i in distances[1:6]:\n",
    "        print(movies_dataset.iloc[i[0]].title)"
   ]
  },
  {
   "cell_type": "code",
   "execution_count": 66,
   "id": "4b745114",
   "metadata": {},
   "outputs": [
    {
     "name": "stdout",
     "output_type": "stream",
     "text": [
      "Monster House\n",
      "This Is It\n",
      "Undiscovered\n",
      "Hostel\n",
      "Allegiant\n"
     ]
    }
   ],
   "source": [
    "recommend(\"Avatar\")"
   ]
  },
  {
   "cell_type": "markdown",
   "id": "bd9faaab",
   "metadata": {},
   "source": [
    "### Pickle the model\n"
   ]
  },
  {
   "cell_type": "code",
   "execution_count": 67,
   "id": "512d65f4",
   "metadata": {},
   "outputs": [],
   "source": [
    "import pickle"
   ]
  },
  {
   "cell_type": "code",
   "execution_count": 68,
   "id": "cff22c6a",
   "metadata": {},
   "outputs": [],
   "source": [
    "pickle.dump(movies_dataset,open('movie_list.pkl','wb'))\n",
    "pickle.dump(similarity,open('similarity.pkl','wb'))"
   ]
  },
  {
   "cell_type": "code",
   "execution_count": null,
   "id": "7ec7b4f2",
   "metadata": {},
   "outputs": [],
   "source": []
  }
 ],
 "metadata": {
  "kernelspec": {
   "display_name": "Python 3",
   "language": "python",
   "name": "python3"
  },
  "language_info": {
   "codemirror_mode": {
    "name": "ipython",
    "version": 3
   },
   "file_extension": ".py",
   "mimetype": "text/x-python",
   "name": "python",
   "nbconvert_exporter": "python",
   "pygments_lexer": "ipython3",
   "version": "3.8.8"
  }
 },
 "nbformat": 4,
 "nbformat_minor": 5
}
